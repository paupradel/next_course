{
 "cells": [
  {
   "cell_type": "markdown",
   "metadata": {},
   "source": [
    "# Introduction\n",
    "\n",
    "Data analyst and data scientists often have to perform statistical calculations, including calculations of probabilities, probability distributions, and confidence intervals. In this lesson, we will learn about Scientific Library for Python (`SciPy`), which is the scientific toolbox for Python.\n",
    "\n",
    "Using a real-world dataset, we will learn to perform statistical computations and hypothesis testing with `SciPy`. By the end of the lesson, we will be able to state conclusions that go beyond our sample data.\n",
    "\n",
    "The dataset we will be using contains information about particular students from two public schools in Portugal. The data was collected in order to study alcohol consumption in young people and the effects it has on their academic performance. The dataset was built from two sources from school reports and from questionnaires that the students answered."
   ]
  },
  {
   "cell_type": "code",
   "execution_count": 1,
   "metadata": {},
   "outputs": [
    {
     "data": {
      "application/javascript": [
       "IPython.notebook.set_autosave_interval(5000)"
      ]
     },
     "metadata": {},
     "output_type": "display_data"
    },
    {
     "name": "stdout",
     "output_type": "stream",
     "text": [
      "Autosaving every 5 seconds\n"
     ]
    }
   ],
   "source": [
    "%autosave 5"
   ]
  },
  {
   "cell_type": "code",
   "execution_count": 2,
   "metadata": {},
   "outputs": [
    {
     "data": {
      "text/html": [
       "<div>\n",
       "<style scoped>\n",
       "    .dataframe tbody tr th:only-of-type {\n",
       "        vertical-align: middle;\n",
       "    }\n",
       "\n",
       "    .dataframe tbody tr th {\n",
       "        vertical-align: top;\n",
       "    }\n",
       "\n",
       "    .dataframe thead th {\n",
       "        text-align: right;\n",
       "    }\n",
       "</style>\n",
       "<table border=\"1\" class=\"dataframe\">\n",
       "  <thead>\n",
       "    <tr style=\"text-align: right;\">\n",
       "      <th></th>\n",
       "      <th>school</th>\n",
       "      <th>sex</th>\n",
       "      <th>age</th>\n",
       "      <th>address</th>\n",
       "      <th>famsize</th>\n",
       "      <th>Pstatus</th>\n",
       "      <th>Medu</th>\n",
       "      <th>Fedu</th>\n",
       "      <th>Mjob</th>\n",
       "      <th>Fjob</th>\n",
       "      <th>...</th>\n",
       "      <th>famrel</th>\n",
       "      <th>freetime</th>\n",
       "      <th>goout</th>\n",
       "      <th>Dalc</th>\n",
       "      <th>Walc</th>\n",
       "      <th>health</th>\n",
       "      <th>absences</th>\n",
       "      <th>G1</th>\n",
       "      <th>G2</th>\n",
       "      <th>G3</th>\n",
       "    </tr>\n",
       "  </thead>\n",
       "  <tbody>\n",
       "    <tr>\n",
       "      <th>0</th>\n",
       "      <td>GP</td>\n",
       "      <td>F</td>\n",
       "      <td>18</td>\n",
       "      <td>U</td>\n",
       "      <td>GT3</td>\n",
       "      <td>A</td>\n",
       "      <td>4</td>\n",
       "      <td>4</td>\n",
       "      <td>at_home</td>\n",
       "      <td>teacher</td>\n",
       "      <td>...</td>\n",
       "      <td>4</td>\n",
       "      <td>3</td>\n",
       "      <td>4</td>\n",
       "      <td>1</td>\n",
       "      <td>1</td>\n",
       "      <td>3</td>\n",
       "      <td>4</td>\n",
       "      <td>0</td>\n",
       "      <td>11</td>\n",
       "      <td>11</td>\n",
       "    </tr>\n",
       "    <tr>\n",
       "      <th>1</th>\n",
       "      <td>GP</td>\n",
       "      <td>F</td>\n",
       "      <td>17</td>\n",
       "      <td>U</td>\n",
       "      <td>GT3</td>\n",
       "      <td>T</td>\n",
       "      <td>1</td>\n",
       "      <td>1</td>\n",
       "      <td>at_home</td>\n",
       "      <td>other</td>\n",
       "      <td>...</td>\n",
       "      <td>5</td>\n",
       "      <td>3</td>\n",
       "      <td>3</td>\n",
       "      <td>1</td>\n",
       "      <td>1</td>\n",
       "      <td>3</td>\n",
       "      <td>2</td>\n",
       "      <td>9</td>\n",
       "      <td>11</td>\n",
       "      <td>11</td>\n",
       "    </tr>\n",
       "    <tr>\n",
       "      <th>2</th>\n",
       "      <td>GP</td>\n",
       "      <td>F</td>\n",
       "      <td>15</td>\n",
       "      <td>U</td>\n",
       "      <td>LE3</td>\n",
       "      <td>T</td>\n",
       "      <td>1</td>\n",
       "      <td>1</td>\n",
       "      <td>at_home</td>\n",
       "      <td>other</td>\n",
       "      <td>...</td>\n",
       "      <td>4</td>\n",
       "      <td>3</td>\n",
       "      <td>2</td>\n",
       "      <td>2</td>\n",
       "      <td>3</td>\n",
       "      <td>3</td>\n",
       "      <td>6</td>\n",
       "      <td>12</td>\n",
       "      <td>13</td>\n",
       "      <td>12</td>\n",
       "    </tr>\n",
       "    <tr>\n",
       "      <th>3</th>\n",
       "      <td>GP</td>\n",
       "      <td>F</td>\n",
       "      <td>15</td>\n",
       "      <td>U</td>\n",
       "      <td>GT3</td>\n",
       "      <td>T</td>\n",
       "      <td>4</td>\n",
       "      <td>2</td>\n",
       "      <td>health</td>\n",
       "      <td>services</td>\n",
       "      <td>...</td>\n",
       "      <td>3</td>\n",
       "      <td>2</td>\n",
       "      <td>2</td>\n",
       "      <td>1</td>\n",
       "      <td>1</td>\n",
       "      <td>5</td>\n",
       "      <td>0</td>\n",
       "      <td>14</td>\n",
       "      <td>14</td>\n",
       "      <td>14</td>\n",
       "    </tr>\n",
       "    <tr>\n",
       "      <th>4</th>\n",
       "      <td>GP</td>\n",
       "      <td>F</td>\n",
       "      <td>16</td>\n",
       "      <td>U</td>\n",
       "      <td>GT3</td>\n",
       "      <td>T</td>\n",
       "      <td>3</td>\n",
       "      <td>3</td>\n",
       "      <td>other</td>\n",
       "      <td>other</td>\n",
       "      <td>...</td>\n",
       "      <td>4</td>\n",
       "      <td>3</td>\n",
       "      <td>2</td>\n",
       "      <td>1</td>\n",
       "      <td>2</td>\n",
       "      <td>5</td>\n",
       "      <td>0</td>\n",
       "      <td>11</td>\n",
       "      <td>13</td>\n",
       "      <td>13</td>\n",
       "    </tr>\n",
       "  </tbody>\n",
       "</table>\n",
       "<p>5 rows × 33 columns</p>\n",
       "</div>"
      ],
      "text/plain": [
       "  school sex  age address famsize Pstatus  Medu  Fedu     Mjob      Fjob  ...  \\\n",
       "0     GP   F   18       U     GT3       A     4     4  at_home   teacher  ...   \n",
       "1     GP   F   17       U     GT3       T     1     1  at_home     other  ...   \n",
       "2     GP   F   15       U     LE3       T     1     1  at_home     other  ...   \n",
       "3     GP   F   15       U     GT3       T     4     2   health  services  ...   \n",
       "4     GP   F   16       U     GT3       T     3     3    other     other  ...   \n",
       "\n",
       "  famrel freetime  goout  Dalc  Walc health absences  G1  G2  G3  \n",
       "0      4        3      4     1     1      3        4   0  11  11  \n",
       "1      5        3      3     1     1      3        2   9  11  11  \n",
       "2      4        3      2     2     3      3        6  12  13  12  \n",
       "3      3        2      2     1     1      5        0  14  14  14  \n",
       "4      4        3      2     1     2      5        0  11  13  13  \n",
       "\n",
       "[5 rows x 33 columns]"
      ]
     },
     "execution_count": 2,
     "metadata": {},
     "output_type": "execute_result"
    }
   ],
   "source": [
    "# Import libraries\n",
    "import pandas as pd\n",
    "import numpy as np\n",
    "import seaborn as sns\n",
    "import matplotlib.pyplot as plt\n",
    "%matplotlib inline\n",
    "\n",
    "# Import data\n",
    "data = pd.read_csv('student.csv')\n",
    "\n",
    "# Show first five rows\n",
    "data.head()"
   ]
  },
  {
   "cell_type": "markdown",
   "metadata": {},
   "source": [
    "This dataset has more than 30 variables. The file Dataset Variables.md has an explanation of each, if you are interested. In this lesson, we will only be looking at the following:\n",
    "\n",
    "- `G3`: This variable stores the final grade for the course subject. This is numeric, ranging from 0 to 20.\n",
    "- `sex`: This variable stores the sex of the student. This is categorical, F (female) or M (male).\n",
    "- `alc`: We will create this variable from the the columns Dalc and Walc, which store the value of alcohol consumption levels on weekdays and weeknights respectively. Both columns are numeric, ranging from 1 (very low) to 5 (very high).\n",
    "\n",
    "To create `alc`, let’s create and apply a function to get a weighted average of `Dalc` and `Walc`. Then, let’s map those with a weighted average of greater than 2 as High alcohol consumption, and the rest as Low."
   ]
  },
  {
   "cell_type": "code",
   "execution_count": 3,
   "metadata": {},
   "outputs": [
    {
     "data": {
      "text/plain": [
       "0     Low\n",
       "1     Low\n",
       "2    High\n",
       "3     Low\n",
       "4     Low\n",
       "Name: alc, dtype: object"
      ]
     },
     "execution_count": 3,
     "metadata": {},
     "output_type": "execute_result"
    }
   ],
   "source": [
    "# Create function to calculate weight average of alcohol consumption\n",
    "def weighted_alc(Dalc, Walc):\n",
    "    return (5 * Dalc + 2 * Walc) / 7\n",
    "\n",
    "# Create variable `alc`\n",
    "data['alc'] = weighted_alc(data['Dalc'], data['Walc']) <= 2\n",
    "data['alc'] = data['alc'].map({True: 'Low', False: 'High'})\n",
    "\n",
    "# Show first five rows\n",
    "data['alc'].head()"
   ]
  },
  {
   "cell_type": "markdown",
   "metadata": {},
   "source": [
    "Great! Now that we have our data, let’s start performing some statistical computations on it!\n",
    "\n",
    "\n",
    "## I. Confidence intervals\n",
    "\n",
    "`SciPy` is a tool for doing scientific computing in Python. It is a Python-based library that is an open source software for math, science, and engineering. It contains various toolboxes dedicated to common issues in scientific computing. For example, `scipy.io` deals with file `input/output`, `scipy.linalg` deals with linear algebra operations, and `scipy.ndimage` deals with image processing.\n",
    "\n",
    "We will be working with `scipy.stats`, a subpackage that contains a large number of probability distributions, as well as a growing library of statistical functions. This is a great tool to use for data analysis or data science with Python because statistics is the core of data science.\n",
    "\n",
    "This module is typically imported as `stats`:"
   ]
  },
  {
   "cell_type": "code",
   "execution_count": 4,
   "metadata": {},
   "outputs": [],
   "source": [
    "# Import scipy.stats\n",
    "import scipy.stats as stats"
   ]
  },
  {
   "cell_type": "markdown",
   "metadata": {},
   "source": [
    "Our dataset contains information about a **sample** of the whole **population**. When we perform calculations, for example calculating the mean of a certain variable, this is actually the “sample mean”. Since we don’t have data for the entire population, we need to infer from the sample data to find out the “population mean”.\n",
    "\n",
    "A **confidence interval (CI)** is a range of values which is likely to include the true value of an unknown population parameter.\n",
    "\n",
    "### Confidence interval for a mean\n",
    "\n",
    "Say we want to calculate a 95% confidence interval for the mean final grade for all students. In other words, this means we want to find a range of grades for which we are 95% certain that the actual population mean falls in.\n",
    "\n",
    "Statistical theory tells us that we can calculate CIs for the mean of a variable using the normal distribution. There are three components:\n",
    "\n",
    "- Sample mean of the variable that we are interested in\n",
    "- Standard error of the mean (SEM) – sample standard deviation divided by the square root of the sample size.\n",
    "- Confidence level – this can be any level, common ones being 95% and 99%. We have picked 95%.\n",
    "\n",
    "Since we already know how to calculate sample mean, let’s do that first:"
   ]
  },
  {
   "cell_type": "code",
   "execution_count": 5,
   "metadata": {},
   "outputs": [
    {
     "data": {
      "text/plain": [
       "11.906009244992296"
      ]
     },
     "execution_count": 5,
     "metadata": {},
     "output_type": "execute_result"
    }
   ],
   "source": [
    "# Find sample mean of final grade\n",
    "sample_mean_grade = data['G3'].mean()\n",
    "sample_mean_grade"
   ]
  },
  {
   "cell_type": "markdown",
   "metadata": {},
   "source": [
    "We also know how to find the sample size:"
   ]
  },
  {
   "cell_type": "code",
   "execution_count": 6,
   "metadata": {},
   "outputs": [
    {
     "data": {
      "text/plain": [
       "649"
      ]
     },
     "execution_count": 6,
     "metadata": {},
     "output_type": "execute_result"
    }
   ],
   "source": [
    "# Find sample size\n",
    "sample_size = data.shape[0]\n",
    "sample_size"
   ]
  },
  {
   "cell_type": "markdown",
   "metadata": {},
   "source": [
    "Now, we can calculate `SEM` by finding the standard deviation for the sample using `std()` and dividing that by `sqrt(sample_size)`:"
   ]
  },
  {
   "cell_type": "code",
   "execution_count": 7,
   "metadata": {},
   "outputs": [
    {
     "data": {
      "text/plain": [
       "0.12681435030794902"
      ]
     },
     "execution_count": 7,
     "metadata": {},
     "output_type": "execute_result"
    }
   ],
   "source": [
    "# Find standard error of the mean of final grade\n",
    "std_error_grade = data['G3'].std() / np.sqrt(sample_size)\n",
    "std_error_grade"
   ]
  },
  {
   "cell_type": "markdown",
   "metadata": {},
   "source": [
    "To calculate the confidence interval, we will use the norm object from the `statssubpackage`. The norm object has an `interval()` method that receives three inputs – our chosen confidence interval 0.95, and the sample mean and SEM that we’ve just calculated!"
   ]
  },
  {
   "cell_type": "code",
   "execution_count": 8,
   "metadata": {},
   "outputs": [
    {
     "data": {
      "text/plain": [
       "(11.65745768566587, 12.154560804318722)"
      ]
     },
     "execution_count": 8,
     "metadata": {},
     "output_type": "execute_result"
    }
   ],
   "source": [
    "# Calculate the 95% CI for mean final grade\n",
    "stats.norm.interval(0.95, loc=sample_mean_grade, scale=std_error_grade)"
   ]
  },
  {
   "cell_type": "markdown",
   "metadata": {},
   "source": [
    "This returns a 95% confidence interval for the mean of the final grades – we can be 95% certain that the population mean final grade is between 11.66 and 12.15.\n",
    "\n",
    "### Confidence interval for a proportion\n",
    "\n",
    "Now that we know how to calculate a confidence interval for a mean… let's learn how to calculate a confidence interval for a proportion.\n",
    "\n",
    "We will look at alcohol consumption level alc and find a 99% confidence interval for the proportion of total students with a high alcohol consumption level. The calculation is very similar. We need the following three values:\n",
    "\n",
    "- Sample proportion\n",
    "- Sample standard error\n",
    "- Confidence level\n",
    "\n",
    "The standard error for a proportion is given by the following formula:\n",
    "\n",
    "$$SE = \\sqrt{\\frac{\\hat{p}(1-\\hat{p})}{n}}$$\n",
    "\n",
    "  where, $\\hat{p}$ is the sample proportion.\n",
    "\n",
    "Now, let's look at the sample proportion of students with a high alcohol consumption:"
   ]
  },
  {
   "cell_type": "code",
   "execution_count": 9,
   "metadata": {},
   "outputs": [
    {
     "data": {
      "text/plain": [
       "0.25577812018489987"
      ]
     },
     "execution_count": 9,
     "metadata": {},
     "output_type": "execute_result"
    }
   ],
   "source": [
    "# Find sample proportion of students with high alcohol consumption\n",
    "sample_prop = data['alc'].value_counts(normalize=True)['High']\n",
    "sample_prop"
   ]
  },
  {
   "cell_type": "markdown",
   "metadata": {},
   "source": [
    "Using the given formulas and the example from above, see if you can finish the calculation.\n",
    "\n",
    "Calculate a 99% confidence interval for students with high alcohol consumption the using `stats.norm.interval()` method. You will need to calculate the `std_error_prop`\n",
    "first."
   ]
  },
  {
   "cell_type": "code",
   "execution_count": 10,
   "metadata": {
    "eid": "3b51c5f2"
   },
   "outputs": [
    {
     "data": {
      "text/plain": [
       "(0.21166399779324124, 0.2998922425765585)"
      ]
     },
     "execution_count": 10,
     "metadata": {},
     "output_type": "execute_result"
    }
   ],
   "source": [
    "# TASK --- Calculate the 99% CI for proportion of students with high alcohol consumption\n",
    "\n",
    "std_error_prop = np.sqrt((sample_prop)*(1 - sample_prop)/sample_size)\n",
    "std_error_prop\n",
    "\n",
    "stats.norm.interval(0.99, loc=sample_prop, scale=std_error_prop)\n"
   ]
  },
  {
   "cell_type": "markdown",
   "metadata": {},
   "source": [
    "## II. Probability calculations\n",
    "\n",
    "There are dozens of probability distributions available in the stats package, and we can use them for doing simulations, to calculate the random variables, and to do probability calculations. Let's take a look at an example and answer a few questions.\n",
    "\n",
    "In the previous step you should have found a 99% confidence interval of (0.21, 0.30) for the proportion of students in the population with high alcohol consumption. Let’s assume that the true value is 0.25.\n",
    "\n",
    "### Binomial Distribution\n",
    "\n",
    "A binomial distribution is one where there are two possible outcomes with fixed probabilities summing to 1 (for example, a coin toss). The two outcomes are known as “success” (e.g. heads) and “failure” (e.g. tails). It is characterized by a probability mass function (pmf) which gives the probability that a variable is exactly equal to a value.\n",
    "\n",
    "Let’s look at an example. Assuming the proportion of students in the population with high alcohol consumption is 0.25, if we have a class of 10 students what is the probability of finding five students with high alcohol consumption?\n",
    "\n",
    "A binomial distribution is denoted as X ~ b(n, p) where n is the number of trials, and p is the probability of success. The pmf gives the probability of getting exactly k successes in n trials:\n",
    "\n",
    "$$f(k, n, p) = \\binom{n}{k}p^{k}(1-p)^{n-k} $$\n",
    "\n",
    "\n",
    "\n",
    "Luckily, the `stats` package has a built-in `binom` object which has a pmf method so we do not need to calculate this by hand. We just need to provide the parameters that `pmf` needs for the binomial distribution. In our case, k is 5 students, n is 10 students, and p is 0.25"
   ]
  },
  {
   "cell_type": "code",
   "execution_count": 12,
   "metadata": {},
   "outputs": [
    {
     "data": {
      "text/plain": [
       "0.058399200439453194"
      ]
     },
     "execution_count": 12,
     "metadata": {},
     "output_type": "execute_result"
    }
   ],
   "source": [
    "# Binomial distribution pmf for k=5\n",
    "stats.binom.pmf(k=5, n=10, p=0.25)"
   ]
  },
  {
   "cell_type": "markdown",
   "metadata": {},
   "source": [
    "In plain English, this is interpreted as: “In a class of 10 people, the probability of us finding 5 students with high alcohol consumption is 5.8%”.\n",
    "\n",
    "We can calculate the pmf for each possible k easily:"
   ]
  },
  {
   "cell_type": "code",
   "execution_count": 13,
   "metadata": {},
   "outputs": [
    {
     "data": {
      "text/plain": [
       "array([5.63135147e-02, 1.87711716e-01, 2.81567574e-01, 2.50282288e-01,\n",
       "       1.45998001e-01, 5.83992004e-02, 1.62220001e-02, 3.08990479e-03,\n",
       "       3.86238098e-04, 2.86102295e-05, 9.53674316e-07])"
      ]
     },
     "execution_count": 13,
     "metadata": {},
     "output_type": "execute_result"
    }
   ],
   "source": [
    "# Binomial distribution pmf for all k\n",
    "all_pmf = stats.binom.pmf(k=np.arange(11), n=10, p=0.25)\n",
    "all_pmf"
   ]
  },
  {
   "cell_type": "markdown",
   "metadata": {},
   "source": [
    "Let’s visualize these pmfs next to the **cumulative distribution function** (the probability of getting less than or equal to k successes in n trials):"
   ]
  },
  {
   "cell_type": "code",
   "execution_count": 14,
   "metadata": {},
   "outputs": [
    {
     "data": {
      "image/png": "[encoded data removed]",
      "text/plain": [
       "<Figure size 1008x288 with 2 Axes>"
      ]
     },
     "metadata": {
      "needs_background": "light"
     },
     "output_type": "display_data"
    }
   ],
   "source": [
    "# Calculate cumulative distribution function\n",
    "cdf = stats.binom.cdf(k=np.arange(11), n=10, p=0.25)\n",
    "\n",
    "# Plot binomial dist pmf and cdf\n",
    "fig, ax = plt.subplots(1, 2, figsize=(14, 4))\n",
    "sns.barplot(x=np.arange(11), y=all_pmf, ax=ax[0]\n",
    "           ).set_title('Probability Mass Function')\n",
    "sns.lineplot(x=np.arange(11), y=cdf, ax=ax[1]\n",
    "            ).set_title('Cumulative Distribution Function')\n",
    "plt.show()"
   ]
  },
  {
   "cell_type": "markdown",
   "metadata": {},
   "source": [
    "From this figure we can see that with a population proportion of 0.25 students with high alcohol consumption, in a class of 10 students it is most likely that we will find 2 students with high alcohol consumption.\n",
    "\n",
    "If we have a class of 20 students, calculate the probability of finding 4 or less students with high alcohol consumption."
   ]
  },
  {
   "cell_type": "code",
   "execution_count": 15,
   "metadata": {
    "eid": "0cf6e575"
   },
   "outputs": [
    {
     "data": {
      "text/plain": [
       "0.41484150253018026"
      ]
     },
     "execution_count": 15,
     "metadata": {},
     "output_type": "execute_result"
    }
   ],
   "source": [
    "# TASK --- Calculate probability of 4 or less students with high alcohol consumption in class of 20\n",
    "\n",
    "# Binomial distribution pmf for k=4\n",
    "stats.binom.pmf(k=4, n=20, p=0.25)\n",
    "\n",
    "cdf_2 = stats.binom.cdf(k=4, n=20, p=0.25)\n",
    "cdf_2"
   ]
  },
  {
   "cell_type": "markdown",
   "metadata": {},
   "source": [
    "## III. Hypothesis testing\n",
    "\n",
    "As we stated in the introduction, the data from our sample was collected to study alcohol consumption in young people and the effects it has on their academic performance. Let’s see if we can answer this question for ourselves!\n",
    "\n",
    "### Hypothesis testing framewok\n",
    "\n",
    "When we conduct a hypothesis test, there are typically five steps:\n",
    "\n",
    "1. Set up two competing hypotheses; one is called the **null hypothesis** and the other is called the **alternative hypothesis**. What determines these hypotheses is the type of question that we would like to answer.\n",
    "2. Set a **significance level, α**. The most common α value chosen by researchers or data analysts is 5% or 0.05, but other popular choices are 0.01 or 0.1.\n",
    "3. Calculate the **test statistic** and the **p-value**, and then compare this p-value with α.\n",
    "4. Based on this comparison, decide whether we want to reject or accept the null hypothesis.\n",
    "5. State an overall conclusion on what these results imply for the original question.\n",
    "\n",
    "`SciPy` offers many statistical functions that we can use to perform statistical tests, such as `normaltest` and `pearsonr`. A full list can be found here.\n",
    "\n",
    "We will discuss a few of these to answer the following questions:\n",
    "\n",
    "- Are the population variances in grades the same in students with low alcohol consumption and students with high alcohol consumption?\n",
    "- Does alcohol consumption affect academic performance?\n",
    "- Do male students drink more than female students?\n",
    "\n",
    "### Variance in grades in students with low vs. high alcohol consumption\n",
    "\n",
    "We have two groups – students with ‘Low’ alcohol consumption and students with ‘High’ alcohol consumption, stored in variable `alc`. The question is whether the variance in grades for both groups is the same.\n",
    "\n",
    "Since this is a question about variances, we will use **Bartlett's Test**. The null hypothesis for this test states that the variances in the population are equal. We will choose a significance level of α = 0.05 – i.e. we will reject the null hypothesis if the p-value for our test is less than 0.05.\n",
    "\n",
    "Let’s first split the data into our two groups and store grades in two vectors, `grades_low_alc` and `grades_high_alc`:"
   ]
  },
  {
   "cell_type": "code",
   "execution_count": 16,
   "metadata": {},
   "outputs": [],
   "source": [
    "# Split grade data into two groups based on alcohol consumption level\n",
    "grades_low_alc = data[data['alc'] == 'Low']['G3']\n",
    "grades_high_alc = data[data['alc'] == 'High']['G3']"
   ]
  },
  {
   "cell_type": "markdown",
   "metadata": {},
   "source": [
    "`stats`  makes performing Bartlett’s Test very simple. To get the test-statistic and p-value, all we need to do is pass the two vectors into `stats.bartlett()`:"
   ]
  },
  {
   "cell_type": "code",
   "execution_count": 17,
   "metadata": {
    "scrolled": true
   },
   "outputs": [
    {
     "data": {
      "text/plain": [
       "BartlettResult(statistic=1.102508591338272, pvalue=0.293716231811652)"
      ]
     },
     "execution_count": 17,
     "metadata": {},
     "output_type": "execute_result"
    }
   ],
   "source": [
    "# Perform Bartlett's Test\n",
    "stats.bartlett(grades_low_alc, grades_high_alc)"
   ]
  },
  {
   "cell_type": "markdown",
   "metadata": {},
   "source": [
    "We are especially interested in pvalue. It is greater than our significance level, so according to this test, we cannot reject the null hypothesis of equal variances. In other words, we can assume that the two sample groups come from populations with the same variance in grades.\n",
    "\n",
    "### Effect of alcohol consumption on academic performance\n",
    "\n",
    "Before we start any statistical testing, we need to set up our two hypotheses. Let’s create a plot to visually compare the academic performance of the two groups of students."
   ]
  },
  {
   "cell_type": "code",
   "execution_count": 18,
   "metadata": {},
   "outputs": [
    {
     "data": {
      "image/png": "[encoded data removed]",
      "text/plain": [
       "<Figure size 432x288 with 1 Axes>"
      ]
     },
     "metadata": {
      "needs_background": "light"
     },
     "output_type": "display_data"
    }
   ],
   "source": [
    "# Plot academic performance by group\n",
    "sns.boxplot(x='alc', y='G3', data=data)\n",
    "plt.show()"
   ]
  },
  {
   "cell_type": "markdown",
   "metadata": {},
   "source": [
    "We can see that, from our sample data, the group with a low consumption of alcohol has higher grades on average than the group with high alcohol consumption.\n",
    "\n",
    "Generally, a null hypothesis is one we are trying to reject or nullify. So, we can set our null hypothesis to be that the population mean of the final grades are equal. We believe this to be untrue and want to reject it with our alternative hypothesis that the population mean of the final grades are different.\n",
    "\n",
    "We will perform a **t-test** to test our hypothesis. Again, we will use the significance value of 0.05 – i.e. we reject the null if the p-value is less than 0.05.\n",
    "\n",
    "In order to perform this `t-test`, we can use the `ttest_ind` function from the stats package. We pass the two vectors containing the grades for each group, and assert that we have equal variances (we showed this in the previous question)."
   ]
  },
  {
   "cell_type": "code",
   "execution_count": 19,
   "metadata": {},
   "outputs": [
    {
     "data": {
      "text/plain": [
       "Ttest_indResult(statistic=4.621320706949354, pvalue=4.603608830369269e-06)"
      ]
     },
     "execution_count": 19,
     "metadata": {},
     "output_type": "execute_result"
    }
   ],
   "source": [
    "# Perform t-test\n",
    "stats.ttest_ind(grades_low_alc, grades_high_alc, equal_var=True)"
   ]
  },
  {
   "cell_type": "markdown",
   "metadata": {},
   "source": [
    "Again, we get back the test statistic and the p-value. Since the pvalue is extremely low, we can reject the null hypothesis with strong evidence. We conclude that there is a statistically significant difference between the grades of students with low alcohol consumption and students with high alcohol consumption.\n",
    "\n",
    "### Alcohol consumption by males vs. females\n",
    "\n",
    "Do male students drink more than female students? Again, we will explore our data first by plotting the value counts for variables sex and `alc`:"
   ]
  },
  {
   "cell_type": "code",
   "execution_count": 20,
   "metadata": {},
   "outputs": [
    {
     "data": {
      "image/png": "[encoded data removed]",
      "text/plain": [
       "<Figure size 720x360 with 2 Axes>"
      ]
     },
     "metadata": {
      "needs_background": "light"
     },
     "output_type": "display_data"
    }
   ],
   "source": [
    "# Plot `sex` and `acl`\n",
    "fig, ax = plt.subplots(1, 2, figsize=(10, 5))\n",
    "sns.countplot(data['sex'], ax=ax[0]).set_title('Sex')\n",
    "sns.countplot(data['alc'], ax=ax[1]).set_title('Alcohol Consumption')\n",
    "plt.show()"
   ]
  },
  {
   "cell_type": "markdown",
   "metadata": {},
   "source": [
    "We see that there are more females than males, and more students with low alcohol consumption levels than high. We can also create a conditional plot – let’s create a countplot for `alc` level, conditioning on `sex`:"
   ]
  },
  {
   "cell_type": "code",
   "execution_count": 21,
   "metadata": {
    "scrolled": true
   },
   "outputs": [
    {
     "data": {
      "image/png": "[encoded data removed]",
      "text/plain": [
       "<Figure size 576x288 with 2 Axes>"
      ]
     },
     "metadata": {
      "needs_background": "light"
     },
     "output_type": "display_data"
    }
   ],
   "source": [
    "# Plot `acl`, conditioning on `sex`\n",
    "cond_plot = sns.FacetGrid(data, col='sex', hue='alc', height=4, aspect=1)\n",
    "cond_plot.map(sns.countplot, 'alc', order=['Low', 'High'])\n",
    "plt.show()"
   ]
  },
  {
   "cell_type": "markdown",
   "metadata": {},
   "source": [
    "This shows that for both sexes, there are more students with low alcohol consumption than high. We can get exact values using `pd.crosstab`:"
   ]
  },
  {
   "cell_type": "code",
   "execution_count": 22,
   "metadata": {},
   "outputs": [
    {
     "data": {
      "text/html": [
       "<div>\n",
       "<style scoped>\n",
       "    .dataframe tbody tr th:only-of-type {\n",
       "        vertical-align: middle;\n",
       "    }\n",
       "\n",
       "    .dataframe tbody tr th {\n",
       "        vertical-align: top;\n",
       "    }\n",
       "\n",
       "    .dataframe thead th {\n",
       "        text-align: right;\n",
       "    }\n",
       "</style>\n",
       "<table border=\"1\" class=\"dataframe\">\n",
       "  <thead>\n",
       "    <tr style=\"text-align: right;\">\n",
       "      <th>sex</th>\n",
       "      <th>F</th>\n",
       "      <th>M</th>\n",
       "    </tr>\n",
       "    <tr>\n",
       "      <th>alc</th>\n",
       "      <th></th>\n",
       "      <th></th>\n",
       "    </tr>\n",
       "  </thead>\n",
       "  <tbody>\n",
       "    <tr>\n",
       "      <th>High</th>\n",
       "      <td>62</td>\n",
       "      <td>104</td>\n",
       "    </tr>\n",
       "    <tr>\n",
       "      <th>Low</th>\n",
       "      <td>321</td>\n",
       "      <td>162</td>\n",
       "    </tr>\n",
       "  </tbody>\n",
       "</table>\n",
       "</div>"
      ],
      "text/plain": [
       "sex     F    M\n",
       "alc           \n",
       "High   62  104\n",
       "Low   321  162"
      ]
     },
     "execution_count": 22,
     "metadata": {},
     "output_type": "execute_result"
    }
   ],
   "source": [
    "# Create contingency table\n",
    "sex_alc_table = pd.crosstab(data['alc'], data['sex'])\n",
    "sex_alc_table"
   ]
  },
  {
   "cell_type": "markdown",
   "metadata": {},
   "source": [
    "This is called a **contingency table** or a **cross-tabulation** table. We now have four possible categories:\n",
    "\n",
    "1. Female with high level of alcohol consumption (62 students)\n",
    "2. Female with low level of alcohol consumption (321 students)\n",
    "3. Male with high level of alcohol consumption (104 students)\n",
    "4. Male with low level of alcohol consumption (162 students)\n",
    "\n",
    "We can calculate the proportions for each group simply by dividing the number of students with high alcohol consumption by the total number of students:"
   ]
  },
  {
   "cell_type": "code",
   "execution_count": 23,
   "metadata": {},
   "outputs": [
    {
     "name": "stdout",
     "output_type": "stream",
     "text": [
      "Proportion of males with high alc: 0.39097744360902253\n",
      "Proportion of females with high alc: 0.1618798955613577\n"
     ]
    }
   ],
   "source": [
    "# Calculate proportions of high alcohol consumers for each group\n",
    "m_high_prop = sex_alc_table['M']['High'] / sex_alc_table['M'].sum()\n",
    "f_high_prop = sex_alc_table['F']['High'] / sex_alc_table['F'].sum()\n",
    "\n",
    "print(f'Proportion of males with high alc: {m_high_prop}')\n",
    "print(f'Proportion of females with high alc: {f_high_prop}')"
   ]
  },
  {
   "cell_type": "markdown",
   "metadata": {},
   "source": [
    "For our sample, we see that males definitely drink more than females. Can we say that this holds up for the population? Let’s answer this using a `chi-squared` test.\n",
    "\n",
    "Before we begin, we need to outline our hypotheses and significance level:\n",
    "\n",
    "- Null hypothesis: males and females have the same level of alcohol consumption\n",
    "- Alternative hypothesis: males and females do not have the same level of alcohol consumption\n",
    "- Significance level: 0.05\n",
    "\n",
    "The function `stats.chi2_contingency` takes a contingency table and returns a test statistic, the `p-value`, the degrees of freedom, and the expected frequencies for each category."
   ]
  },
  {
   "cell_type": "code",
   "execution_count": 24,
   "metadata": {},
   "outputs": [
    {
     "name": "stdout",
     "output_type": "stream",
     "text": [
      "Test statistic: 42.08718662606401\n",
      "p-value: 8.72933011769437e-11\n",
      "Degs of freedom: 1\n",
      "Expected frequencies: [[ 97.96302003  68.03697997]\n",
      " [285.03697997 197.96302003]]\n"
     ]
    }
   ],
   "source": [
    "# Perform chi-squared test\n",
    "chi_stat, p_value, dof, expected_freq = stats.chi2_contingency(sex_alc_table)\n",
    "\n",
    "print(f'Test statistic: {chi_stat}')\n",
    "print(f'p-value: {p_value}')\n",
    "print(f'Degs of freedom: {dof}')\n",
    "print(f'Expected frequencies: {expected_freq}')"
   ]
  },
  {
   "cell_type": "markdown",
   "metadata": {},
   "source": [
    "Let’s store our expected frequencies as a DataFrame to make it easier to understand."
   ]
  },
  {
   "cell_type": "code",
   "execution_count": 25,
   "metadata": {
    "scrolled": true
   },
   "outputs": [
    {
     "data": {
      "text/html": [
       "<div>\n",
       "<style scoped>\n",
       "    .dataframe tbody tr th:only-of-type {\n",
       "        vertical-align: middle;\n",
       "    }\n",
       "\n",
       "    .dataframe tbody tr th {\n",
       "        vertical-align: top;\n",
       "    }\n",
       "\n",
       "    .dataframe thead th {\n",
       "        text-align: right;\n",
       "    }\n",
       "</style>\n",
       "<table border=\"1\" class=\"dataframe\">\n",
       "  <thead>\n",
       "    <tr style=\"text-align: right;\">\n",
       "      <th></th>\n",
       "      <th>F</th>\n",
       "      <th>M</th>\n",
       "    </tr>\n",
       "  </thead>\n",
       "  <tbody>\n",
       "    <tr>\n",
       "      <th>High</th>\n",
       "      <td>97.96302</td>\n",
       "      <td>68.03698</td>\n",
       "    </tr>\n",
       "    <tr>\n",
       "      <th>Low</th>\n",
       "      <td>285.03698</td>\n",
       "      <td>197.96302</td>\n",
       "    </tr>\n",
       "  </tbody>\n",
       "</table>\n",
       "</div>"
      ],
      "text/plain": [
       "              F          M\n",
       "High   97.96302   68.03698\n",
       "Low   285.03698  197.96302"
      ]
     },
     "execution_count": 25,
     "metadata": {},
     "output_type": "execute_result"
    }
   ],
   "source": [
    "# Store expected frequencies in pandas DataFrame\n",
    "expected_freq_table = pd.DataFrame(expected_freq,\n",
    "                                   index=['High', 'Low'],\n",
    "                                   columns=['F', 'M'])\n",
    "expected_freq_table"
   ]
  },
  {
   "cell_type": "markdown",
   "metadata": {},
   "source": [
    "So under the null hypothesis, the expected number of females with high alcohol consumption is 97.96, the expected number of males with high alcohol consumption is 68.04, and so on.\n",
    "\n",
    "Our p-value is 8.73e-11 – much smaller than our significance level. This means there is very good evidence in favor of the alternative hypothesis. We can conclude that male students drink more than female students."
   ]
  },
  {
   "cell_type": "markdown",
   "metadata": {},
   "source": [
    "## IV. Activity: Putting it all together\n",
    "\n",
    "### Alcohol consumption by school\n",
    "\n",
    "Now, it's your turn! In this activity you will be performing a hypothesis test on your own, using a chi-test. You will be answering the following question: **Do alcohol consumption levels differ by school**?\n",
    "\n",
    "In other words, is there a significant difference in the proportion of students with high alcohol consumption levels between the two schools, Gabriel Pereira `GP` and Mousinho da Silveira `MS`.\n",
    "\n",
    "Our null hypothesis $H_{0}$ is that there is no difference in alcohol consumption level between the two schools. Therefore our alternative hypothesis $H_{1}$ is that there is a significant difference. We will choose a significance level of $α = 0.05$.\n",
    "\n",
    "Let's begin!"
   ]
  },
  {
   "cell_type": "markdown",
   "metadata": {},
   "source": [
    "The first step is to explore our data. We have created `fig` and  `ax` for you. Plot the value counts for variables school and alc using the `seaborn` library.\n",
    "\n",
    "Make sure you name your plots \"School\" and \"Alcohol Consumption\"."
   ]
  },
  {
   "cell_type": "code",
   "execution_count": 26,
   "metadata": {
    "eid": "11287b5c"
   },
   "outputs": [
    {
     "data": {
      "image/png": "[encoded data removed]",
      "text/plain": [
       "<Figure size 720x360 with 2 Axes>"
      ]
     },
     "metadata": {
      "needs_background": "light"
     },
     "output_type": "display_data"
    }
   ],
   "source": [
    "# TASK --- Plot `school` and `alc`\n",
    "fig, ax = plt.subplots(1, 2, figsize=(10, 5))\n",
    "sns.countplot(data['school'], ax=ax[0]).set_title('School')\n",
    "sns.countplot(data['alc'],ax=ax[1]).set_title('Consumption')\n",
    "plt.show()"
   ]
  },
  {
   "cell_type": "markdown",
   "metadata": {},
   "source": [
    "We can see that our sample contains more students from Gabriel Pereira than students from Mousinho da Silveira. This is important – we don't want to assume there are more high-level alcohol consumers in GP if it is purely because there are more students from GP in our sample.\n",
    "\n",
    "The next step is to check the proportion of low and high alcohol consumption in students for each school. Plot `alc` conditioning on school. The plots should be colored depending on alcohol consumption level, and should be ordered from Low to High."
   ]
  },
  {
   "cell_type": "code",
   "execution_count": 27,
   "metadata": {
    "eid": "d65db58f"
   },
   "outputs": [
    {
     "data": {
      "image/png": "[encoded data removed]",
      "text/plain": [
       "<Figure size 576x288 with 2 Axes>"
      ]
     },
     "metadata": {
      "needs_background": "light"
     },
     "output_type": "display_data"
    }
   ],
   "source": [
    "# TASK --- Plot `alc`, conditioning on `school`\n",
    "cond_plot_als = sns.FacetGrid(data, col='school', hue='alc', height=4, aspect=1)\n",
    "cond_plot_als.map(sns.countplot, 'alc', order=['Low', 'High'])\n",
    "plt.show()"
   ]
  },
  {
   "cell_type": "markdown",
   "metadata": {},
   "source": [
    "From this plot we can see visually that in both schools, there are fewer high-level alcohol consumers than low-level. We can now move on to figuring out the exact proportions\n",
    "\n",
    "Using `pandas`, create a contingency table called `school_alc_table`. This table should show the number of students from each school with low and high levels of alcohol consumption."
   ]
  },
  {
   "cell_type": "code",
   "execution_count": 28,
   "metadata": {
    "eid": "fc1fe5b8"
   },
   "outputs": [
    {
     "data": {
      "text/html": [
       "<div>\n",
       "<style scoped>\n",
       "    .dataframe tbody tr th:only-of-type {\n",
       "        vertical-align: middle;\n",
       "    }\n",
       "\n",
       "    .dataframe tbody tr th {\n",
       "        vertical-align: top;\n",
       "    }\n",
       "\n",
       "    .dataframe thead th {\n",
       "        text-align: right;\n",
       "    }\n",
       "</style>\n",
       "<table border=\"1\" class=\"dataframe\">\n",
       "  <thead>\n",
       "    <tr style=\"text-align: right;\">\n",
       "      <th>school</th>\n",
       "      <th>GP</th>\n",
       "      <th>MS</th>\n",
       "    </tr>\n",
       "    <tr>\n",
       "      <th>alc</th>\n",
       "      <th></th>\n",
       "      <th></th>\n",
       "    </tr>\n",
       "  </thead>\n",
       "  <tbody>\n",
       "    <tr>\n",
       "      <th>High</th>\n",
       "      <td>107</td>\n",
       "      <td>59</td>\n",
       "    </tr>\n",
       "    <tr>\n",
       "      <th>Low</th>\n",
       "      <td>316</td>\n",
       "      <td>167</td>\n",
       "    </tr>\n",
       "  </tbody>\n",
       "</table>\n",
       "</div>"
      ],
      "text/plain": [
       "school   GP   MS\n",
       "alc             \n",
       "High    107   59\n",
       "Low     316  167"
      ]
     },
     "execution_count": 28,
     "metadata": {},
     "output_type": "execute_result"
    }
   ],
   "source": [
    "# TASK --- Create contingency table\n",
    "school_alc_table = pd.crosstab(data['alc'], data['school'])\n",
    "school_alc_table"
   ]
  },
  {
   "cell_type": "markdown",
   "metadata": {},
   "source": [
    "Now, using your contingency table school_alc_table, calculate the proportions of high-level alcohol consumers for each school. Call these proportions gp_high_prop and ms_high_prop."
   ]
  },
  {
   "cell_type": "code",
   "execution_count": 29,
   "metadata": {
    "eid": "d3d2d466"
   },
   "outputs": [
    {
     "name": "stdout",
     "output_type": "stream",
     "text": [
      "Proportion of students in GP school with high alc: 0.25295508274231676\n",
      "Proportion of students in MS school with high alc: 0.2610619469026549\n"
     ]
    }
   ],
   "source": [
    "# TASK --- Calculate proportions of high alcohol consumers for each group\n",
    "gp_high_prop = school_alc_table['GP']['High'] / school_alc_table['GP'].sum()\n",
    "ms_high_prop = school_alc_table['MS']['High'] / school_alc_table['MS'].sum()\n",
    "\n",
    "print(f'Proportion of students in GP school with high alc: {gp_high_prop}')\n",
    "print(f'Proportion of students in MS school with high alc: {ms_high_prop}')"
   ]
  },
  {
   "cell_type": "markdown",
   "metadata": {},
   "source": [
    "Looks like there is a slightly higher proportion of MS students that have high alcohol consumption levels in our sample...let's find out if this is statistically significant in the entire population!\n",
    "\n",
    "Using a chi-test, find out whether there is a significant difference in the number of students with high alcohol consumption levels between the two schools.\n",
    "\n",
    "Print the `chi_stat`, `p_value`, `dof`, and `expected_freq`."
   ]
  },
  {
   "cell_type": "code",
   "execution_count": 30,
   "metadata": {
    "eid": "5d24614f"
   },
   "outputs": [
    {
     "name": "stdout",
     "output_type": "stream",
     "text": [
      "Test statistic: 0.017184237332077596\n",
      "p-value: 0.8957051700948762\n",
      "Degs of freedom: 1\n",
      "Expected frequencies: [[108.19414484  57.80585516]\n",
      " [314.80585516 168.19414484]]\n"
     ]
    }
   ],
   "source": [
    "# TASK --- Perform chi-squared test\n",
    "chi_stat, p_value, dof, expected_freq = stats.chi2_contingency(school_alc_table)\n",
    "\n",
    "print(f'Test statistic: {chi_stat}')\n",
    "print(f'p-value: {p_value}')\n",
    "print(f'Degs of freedom: {dof}')\n",
    "print(f'Expected frequencies: {expected_freq}')"
   ]
  },
  {
   "cell_type": "markdown",
   "metadata": {},
   "source": [
    "Store your `expected_freq` as a `pandas` DataFrame called expected_freq_table. The index should be students' alcohol consumption level, and the columns should be the students' school."
   ]
  },
  {
   "cell_type": "code",
   "execution_count": 31,
   "metadata": {
    "eid": "9d98541d"
   },
   "outputs": [
    {
     "data": {
      "text/html": [
       "<div>\n",
       "<style scoped>\n",
       "    .dataframe tbody tr th:only-of-type {\n",
       "        vertical-align: middle;\n",
       "    }\n",
       "\n",
       "    .dataframe tbody tr th {\n",
       "        vertical-align: top;\n",
       "    }\n",
       "\n",
       "    .dataframe thead th {\n",
       "        text-align: right;\n",
       "    }\n",
       "</style>\n",
       "<table border=\"1\" class=\"dataframe\">\n",
       "  <thead>\n",
       "    <tr style=\"text-align: right;\">\n",
       "      <th></th>\n",
       "      <th>GP</th>\n",
       "      <th>MS</th>\n",
       "    </tr>\n",
       "  </thead>\n",
       "  <tbody>\n",
       "    <tr>\n",
       "      <th>High</th>\n",
       "      <td>108.194145</td>\n",
       "      <td>57.805855</td>\n",
       "    </tr>\n",
       "    <tr>\n",
       "      <th>Low</th>\n",
       "      <td>314.805855</td>\n",
       "      <td>168.194145</td>\n",
       "    </tr>\n",
       "  </tbody>\n",
       "</table>\n",
       "</div>"
      ],
      "text/plain": [
       "              GP          MS\n",
       "High  108.194145   57.805855\n",
       "Low   314.805855  168.194145"
      ]
     },
     "execution_count": 31,
     "metadata": {},
     "output_type": "execute_result"
    }
   ],
   "source": [
    "# TASK --- Store expected frequencies in pandas DataFrame\n",
    "expected_freq_table = pd.DataFrame(expected_freq,\n",
    "                                   index=['High', 'Low'],\n",
    "                                   columns=['GP', 'MS'])\n",
    "expected_freq_table"
   ]
  }
 ],
 "metadata": {
  "kernelspec": {
   "display_name": "Python 3",
   "language": "python",
   "name": "python3"
  },
  "language_info": {
   "codemirror_mode": {
    "name": "ipython",
    "version": 3
   },
   "file_extension": ".py",
   "mimetype": "text/x-python",
   "name": "python",
   "nbconvert_exporter": "python",
   "pygments_lexer": "ipython3",
   "version": "3.7.2"
  }
 },
 "nbformat": 4,
 "nbformat_minor": 2
}
