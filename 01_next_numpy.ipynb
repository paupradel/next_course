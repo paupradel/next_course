{
 "cells": [
  {
   "cell_type": "markdown",
   "metadata": {},
   "source": [
    "## Welcome to **Data Analysis with Python!**\n",
    "\n",
    "Python is one of the most common and popular languages preferred by leading data analysts and statisticians for working with massive datasets and complex data visualizations.\n",
    "\n",
    "This course introduces Python’s most essential tools and libraries for data analysis, right from preparing data to performing simple statistical analyses and creating meaningful data visualizations.\n",
    "\n",
    "By the end of this course, you will have hands-on experience performing data analysis with Python and be able to:\n",
    "\n",
    "- Understand the basics of `NumPy`\n",
    "- Explore data with `pandas`\n",
    "- Produce informative and useful visualizations for analyzing data using `matplotlib` and `seaborn`\n",
    "- Perform common statistical calculations with `SciPy`\n",
    "- Build predictive models and understand the principles of predictive analytics using `scikit-learn`\n",
    "\n",
    "As we make our way through these lessons, we will be using `Jupyter Notebook`, an application that allows you to create and share documents that contain live code, equations, visualizations, and explanatory text. It is incredibly popular with data analysts and data scientists.\n",
    "\n",
    "Throughout this course you will be given small coding tasks to do. You can write your code directly in the appropriate cell and press Run to see your output!\n",
    "\n",
    "Now, let’s get started!\n",
    "\n",
    "In this lesson, we will learn about Numerical Python (`NumPy`), a library for the Python programming language, what it is, and why we need it.\n",
    "\n",
    "We will cover the following topics:\n",
    "\n",
    "- Why `NumPy` ?\n",
    "- NumPy arrays – creation, methods, and attributes\n",
    "- Basic math with arrays\n",
    "- Manipulation with arrays\n",
    "- Using `NumPy` for simulations"
   ]
  },
  {
   "cell_type": "code",
   "execution_count": 2,
   "metadata": {},
   "outputs": [
    {
     "data": {
      "application/javascript": [
       "IPython.notebook.set_autosave_interval(5000)"
      ]
     },
     "metadata": {},
     "output_type": "display_data"
    },
    {
     "name": "stdout",
     "output_type": "stream",
     "text": [
      "Autosaving every 5 seconds\n"
     ]
    }
   ],
   "source": [
    "# Run this Jupyter magic function to start - this autosaves your notebook every 5 seconds\n",
    "%autosave 5"
   ]
  },
  {
   "cell_type": "markdown",
   "metadata": {},
   "source": [
    "##  I. Why `NumPy`?"
   ]
  },
  {
   "cell_type": "markdown",
   "metadata": {},
   "source": [
    "`NumPy`, also known as Python's vectorization solution, is the fundamental package for doing scientific computing with `Python`. It gives us the ability to create multidimensional array objects and to perform faster mathematical operations than we can do with base Python. Most of the other libraries that we use in data analytics and data science with Python, such as `scikit-learn` and `pandas`, rely on `NumPy`.\n",
    "\n",
    "Let's look into the type of problem that `NumPy` solves and why we need to use it with a small example.\n",
    "\n",
    "Say that we have some data about distances and times, and we want to do some processing with the data to calculate the speeds. To do this, one approach might be to create an empty list in Python and then write a for loop. The for loop will then append the operation (distance over time) to each element in the lists to calculate speeds, as shown in the following code:"
   ]
  },
  {
   "cell_type": "code",
   "execution_count": 3,
   "metadata": {},
   "outputs": [
    {
     "data": {
      "text/plain": [
       "[33.333333333333336,\n",
       " 31.914893617021278,\n",
       " 30.909090909090907,\n",
       " 21.666666666666668,\n",
       " 20.0]"
      ]
     },
     "execution_count": 3,
     "metadata": {},
     "output_type": "execute_result"
    }
   ],
   "source": [
    "# Create two lists, distances and times\n",
    "distances = [10, 15, 17, 26, 20]\n",
    "times = [0.3, 0.47, 0.55, 1.20, 1.0]\n",
    "\n",
    "# Calculate speeds with Python\n",
    "speeds = []\n",
    "for i in range(len(distances)):\n",
    "    speeds.append(distances[i] / times[i])\n",
    "\n",
    "speeds"
   ]
  },
  {
   "cell_type": "markdown",
   "metadata": {},
   "source": [
    "You could also do this by using a list comprehension –"
   ]
  },
  {
   "cell_type": "code",
   "execution_count": 4,
   "metadata": {},
   "outputs": [
    {
     "data": {
      "text/plain": [
       "[33.333333333333336,\n",
       " 31.914893617021278,\n",
       " 30.909090909090907,\n",
       " 21.666666666666668,\n",
       " 20.0]"
      ]
     },
     "execution_count": 4,
     "metadata": {},
     "output_type": "execute_result"
    }
   ],
   "source": [
    "# Calculate speeds with Python list comprehension\n",
    "[d / t for d, t in zip(distances, times)] "
   ]
  },
  {
   "cell_type": "markdown",
   "metadata": {},
   "source": [
    "This is generally the approach you would use with base Python, and it is much more Pythonic...However, it would be even simpler if we had the ability to get the speeds just by calculating distances / times. Give it a go!"
   ]
  },
  {
   "cell_type": "code",
   "execution_count": 20,
   "metadata": {
    "eid": "a5d3a152"
   },
   "outputs": [],
   "source": [
    "# TASK --- Divide `distances` by `times` to see an error message\n",
    "speeds_new = distances / times"
   ]
  },
  {
   "cell_type": "markdown",
   "metadata": {},
   "source": [
    "As you can see, base Python does not support division or multiplication of a list by another list. Luckily, this is precisely the kind of mathematical operation that we can do with `NumPy`.\n",
    "\n",
    "We call this vectorization – operating on an array, such as object or list, or doing operations element by element. Let's keep going and learn more about arrays!"
   ]
  },
  {
   "cell_type": "markdown",
   "metadata": {},
   "source": [
    "## II. `Numpy` Arrays"
   ]
  },
  {
   "cell_type": "markdown",
   "metadata": {},
   "source": [
    "`NumPy`'s main object is a homogeneous multidimensional array. An array is essentially a table of elements all of the same type (usually numbers).\n",
    "\n",
    "It is convention to import `NumPy` as `np`:"
   ]
  },
  {
   "cell_type": "code",
   "execution_count": 7,
   "metadata": {},
   "outputs": [],
   "source": [
    "import numpy as np"
   ]
  },
  {
   "cell_type": "markdown",
   "metadata": {},
   "source": [
    "## Creating arrays in  `NumPy`\n",
    "\n",
    "There are two methods to create arrays in Python:\n",
    "\n",
    "- Creating arrays from lists\n",
    "- Using the built-in functions that `NumPy` provides\n",
    "\n",
    "### Creating arrays from lists\n",
    "\n",
    "To create a `NumPy` array from a list, we use the np.array function. Let’s transform the lists that we created in the previous step into arrays "
   ]
  },
  {
   "cell_type": "code",
   "execution_count": 8,
   "metadata": {},
   "outputs": [
    {
     "data": {
      "text/plain": [
       "array([10, 15, 17, 26, 20])"
      ]
     },
     "execution_count": 8,
     "metadata": {},
     "output_type": "execute_result"
    }
   ],
   "source": [
    "# Transform `distances` list to array\n",
    "distances = np.array(distances)\n",
    "distances"
   ]
  },
  {
   "cell_type": "code",
   "execution_count": 9,
   "metadata": {},
   "outputs": [
    {
     "data": {
      "text/plain": [
       "array([0.3 , 0.47, 0.55, 1.2 , 1.  ])"
      ]
     },
     "execution_count": 9,
     "metadata": {},
     "output_type": "execute_result"
    }
   ],
   "source": [
    "# Transform `times` list to array\n",
    "times = np.array(times)\n",
    "times"
   ]
  },
  {
   "cell_type": "markdown",
   "metadata": {},
   "source": [
    "If we run `type(distances)`, we can see that the type of the object, distances is `numpy.ndarray`."
   ]
  },
  {
   "cell_type": "code",
   "execution_count": 10,
   "metadata": {},
   "outputs": [
    {
     "data": {
      "text/plain": [
       "numpy.ndarray"
      ]
     },
     "execution_count": 10,
     "metadata": {},
     "output_type": "execute_result"
    }
   ],
   "source": [
    "# Find the type of array\n",
    "type(distances)"
   ]
  },
  {
   "cell_type": "markdown",
   "metadata": {},
   "source": [
    "Here `nd` stands for an n-dimensional array. Ours is a **one-dimensional** array, also known as a **vecto**.\n",
    "\n",
    "We can create a **two-dimensional** array by passing a list of lists:"
   ]
  },
  {
   "cell_type": "code",
   "execution_count": 11,
   "metadata": {},
   "outputs": [
    {
     "data": {
      "text/plain": [
       "array([[1, 2],\n",
       "       [3, 4]])"
      ]
     },
     "execution_count": 11,
     "metadata": {},
     "output_type": "execute_result"
    }
   ],
   "source": [
    "# Create two dimensional array\n",
    "A = np.array([[1, 2], [3, 4]])\n",
    "A"
   ]
  },
  {
   "cell_type": "markdown",
   "metadata": {},
   "source": [
    "Here, we have a list that contains two elements and each element is a list itself containing two elements. So this will be a two-dimensional array with two rows and two columns. We refer to a two-dimensional array as a **matrix**. The preceding example is a matrix of size 2 x 2.\n",
    "\n",
    "Passing `np.array()` a list creates a vector, passing a list of lists creates a matrix, passing a list of lists of lists will create a three-dimensional array, and so on. We will not be delving into arrays with three or more dimensions in this course."
   ]
  },
  {
   "cell_type": "markdown",
   "metadata": {},
   "source": [
    "### Creating arrays from built-in `NumPy` functions\n",
    "\n",
    "`NumPy` also provides us with some functions to create arrays, because sometimes we need to initialize arrays before we have the values of the elements.\n",
    "\n",
    "First, let's see an example of the `np.zeros` function, which will create a `NumPy` array filled with zeros. You can optionally specify the type of the array, so for this example we will pass the argument type as `dtype=int` to specify that all the elements of this array will be of the integer type."
   ]
  },
  {
   "cell_type": "code",
   "execution_count": 12,
   "metadata": {},
   "outputs": [
    {
     "data": {
      "text/plain": [
       "array([0, 0, 0, 0, 0, 0, 0, 0, 0, 0])"
      ]
     },
     "execution_count": 12,
     "metadata": {},
     "output_type": "execute_result"
    }
   ],
   "source": [
    "# Create array of zeros\n",
    "np.zeros(10, dtype=int)"
   ]
  },
  {
   "cell_type": "markdown",
   "metadata": {},
   "source": [
    "This creates a one-dimensional array of the integer type with 10 zeros.\n",
    "\n",
    "We also have the option of passing the shape argument to create a two-dimensional array. This takes the number of elements that we want in each dimension. Let’s see this with the np.ones function:"
   ]
  },
  {
   "cell_type": "code",
   "execution_count": 13,
   "metadata": {},
   "outputs": [
    {
     "data": {
      "text/plain": [
       "array([[1., 1., 1., 1., 1.],\n",
       "       [1., 1., 1., 1., 1.],\n",
       "       [1., 1., 1., 1., 1.]])"
      ]
     },
     "execution_count": 13,
     "metadata": {},
     "output_type": "execute_result"
    }
   ],
   "source": [
    "# Create array of ones\n",
    "np.ones(shape=(3, 5), dtype=float)"
   ]
  },
  {
   "cell_type": "markdown",
   "metadata": {},
   "source": [
    "This gives us a 3 x 5 matrix filled with 1s for each object of the float type.\n",
    "\n",
    "There is another very useful function in `NumPy` where you can create arrays filled with a linear sequence. There are two ways to create linear sequences:\n",
    "\n",
    "- Using the `np.arange` function: we provide a starting point, a stopping point, and a step value for each iteration. If you don't provide a step, the default value will be 1."
   ]
  },
  {
   "cell_type": "code",
   "execution_count": 14,
   "metadata": {},
   "outputs": [
    {
     "data": {
      "text/plain": [
       "array([ 0,  2,  4,  6,  8, 10, 12, 14, 16, 18])"
      ]
     },
     "execution_count": 14,
     "metadata": {},
     "output_type": "execute_result"
    }
   ],
   "source": [
    "# Create array with linear sequence using `arange`\n",
    "np.arange(start=0, stop=20, step=2)"
   ]
  },
  {
   "cell_type": "markdown",
   "metadata": {},
   "source": [
    "This gives an array that will start with 0 and each following element will increment by 2 until it gets to the stopping point. Note that the stopping value is excluded.\n",
    "\n",
    "- Using the `np.linspace` function: we provide the lower value, the upper value, and the number of values to be evenly spaced between the lower and the upper value. In this function, the upper value will be included"
   ]
  },
  {
   "cell_type": "code",
   "execution_count": 15,
   "metadata": {},
   "outputs": [
    {
     "data": {
      "text/plain": [
       "array([0.        , 0.05263158, 0.10526316, 0.15789474, 0.21052632,\n",
       "       0.26315789, 0.31578947, 0.36842105, 0.42105263, 0.47368421,\n",
       "       0.52631579, 0.57894737, 0.63157895, 0.68421053, 0.73684211,\n",
       "       0.78947368, 0.84210526, 0.89473684, 0.94736842, 1.        ])"
      ]
     },
     "execution_count": 15,
     "metadata": {},
     "output_type": "execute_result"
    }
   ],
   "source": [
    "# Create array with linear sequence using `linspace`\n",
    "np.linspace(0, 1, 20)"
   ]
  },
  {
   "cell_type": "markdown",
   "metadata": {},
   "source": [
    "This gives an array that starts from 0 up to 1 inclusive, with 20 values evenly spaced."
   ]
  },
  {
   "cell_type": "markdown",
   "metadata": {},
   "source": [
    "### Attributes of arrays\n",
    "\n",
    "There are many attributes of arrays in NumPy. We will look into three important and commonly used attributes in Python.\n",
    "\n",
    "Great! Now, let's take a look its attributes.\n",
    "\n",
    "1. Number of dimensions – we use the .ndim attribute to check the dimension of an array. For our matrix M, we have 2 dimensions.\n",
    "2. Shape – we use the .shape attribute to get the shape of an array. This gives us the number of values in every dimension. Ours has 3 values in the first dimension and 4 values in the second dimension.\n",
    "3. Size – we use the .size attribute to get the total number of elements that in an array. M has 12 elements."
   ]
  },
  {
   "cell_type": "code",
   "execution_count": 16,
   "metadata": {
    "eid": "c2d89e0b"
   },
   "outputs": [],
   "source": [
    "# TASK --- Create a 3x4 matrix of 1s of float type called M\n",
    "M = np.ones(shape = (3,4), dtype = float)"
   ]
  },
  {
   "cell_type": "code",
   "execution_count": 17,
   "metadata": {},
   "outputs": [
    {
     "data": {
      "text/plain": [
       "2"
      ]
     },
     "execution_count": 17,
     "metadata": {},
     "output_type": "execute_result"
    }
   ],
   "source": [
    "# Find dimensions of matrix M\n",
    "M.ndim"
   ]
  },
  {
   "cell_type": "code",
   "execution_count": 18,
   "metadata": {},
   "outputs": [
    {
     "data": {
      "text/plain": [
       "(3, 4)"
      ]
     },
     "execution_count": 18,
     "metadata": {},
     "output_type": "execute_result"
    }
   ],
   "source": [
    "# Find shape of matrix M\n",
    "M.shape"
   ]
  },
  {
   "cell_type": "code",
   "execution_count": 19,
   "metadata": {},
   "outputs": [
    {
     "data": {
      "text/plain": [
       "12"
      ]
     },
     "execution_count": 19,
     "metadata": {},
     "output_type": "execute_result"
    }
   ],
   "source": [
    "# Find size of matrix M\n",
    "M.size"
   ]
  },
  {
   "cell_type": "markdown",
   "metadata": {},
   "source": [
    "## III. Working With Arrays\n",
    "We will now discuss how to work with arrays. We will cover how to perform basic mathematics, such as vectorized operations and using universal functions, and how to perform array manipulations.\n",
    "\n",
    "### Vectorized operations with arrays\n",
    "\n",
    "Earlier we mentioned that we cannot divide or multiply two lists, but `NumPy` allows us to do this with arrays. When we do basic operations with `Numpy` arrays, usually the operations are performed element by element – this is why they are called vectorized operations!\n",
    "\n",
    "Let’s look at an example by creating a vector `x`:"
   ]
  },
  {
   "cell_type": "code",
   "execution_count": 21,
   "metadata": {},
   "outputs": [
    {
     "name": "stdout",
     "output_type": "stream",
     "text": [
      "[ 0  2  4  6  8 10 12 14 16 18]\n",
      "Addition:  [ 1  3  5  7  9 11 13 15 17 19]\n"
     ]
    }
   ],
   "source": [
    "# Create vector x\n",
    "x = np.arange(0, 20, 2)\n",
    "print(x)\n",
    "\n",
    "# Perform addition on vector x\n",
    "print('Addition: ', x + 1)"
   ]
  },
  {
   "cell_type": "markdown",
   "metadata": {},
   "source": [
    "As you can see, `1` was added to each element of `x` in the returned vector. Likewise, you can perform all the essential and basic arithmetic operations such as subtraction, multiplication, and division."
   ]
  },
  {
   "cell_type": "code",
   "execution_count": 22,
   "metadata": {},
   "outputs": [
    {
     "name": "stdout",
     "output_type": "stream",
     "text": [
      "Subtraction:  [-3 -1  1  3  5  7  9 11 13 15]\n",
      "Multiplication:  [ 0  4  8 12 16 20 24 28 32 36]\n",
      "Division:  [0.  0.2 0.4 0.6 0.8 1.  1.2 1.4 1.6 1.8]\n"
     ]
    }
   ],
   "source": [
    "# Perform subtraction on vector\n",
    "print('Subtraction: ', x - 3)\n",
    "\n",
    "# Perform multiplication on vector\n",
    "print('Multiplication: ', x * 2)\n",
    "\n",
    "# Perform division on vector\n",
    "print('Division: ', x / 10)"
   ]
  },
  {
   "cell_type": "markdown",
   "metadata": {},
   "source": [
    "In the previous steps, we created the lists distances and times and calculated speeds using basic Python. Now, let’s try to perform element by element division to calculate speeds as distances / times. Then, print speeds in your notebook.\n",
    "\n",
    "Remember that we have already transformed these lists into arrays!"
   ]
  },
  {
   "cell_type": "code",
   "execution_count": 23,
   "metadata": {
    "eid": "a35985a0"
   },
   "outputs": [
    {
     "name": "stdout",
     "output_type": "stream",
     "text": [
      "[33.33333333 31.91489362 30.90909091 21.66666667 20.        ]\n"
     ]
    }
   ],
   "source": [
    "# TASK --- Calculate speeds using array division\n",
    "speed_new = distances / times\n",
    "print(speed_new)"
   ]
  },
  {
   "cell_type": "markdown",
   "metadata": {},
   "source": [
    "### Universal functions with arrays\n",
    "\n",
    "Another very useful thing about `NumPy` is that it provides us with universal functions. Universal functions are mathematical functions that are applied element by element. For instance, if we want to know `sin` of each of the elements of x, or if we want to know the exponent of each of the element of x, we can do so by running `np.sin(x)` and `np.exp(x)`."
   ]
  },
  {
   "cell_type": "code",
   "execution_count": 24,
   "metadata": {},
   "outputs": [
    {
     "data": {
      "text/plain": [
       "array([ 0.        ,  0.90929743, -0.7568025 , -0.2794155 ,  0.98935825,\n",
       "       -0.54402111, -0.53657292,  0.99060736, -0.28790332, -0.75098725])"
      ]
     },
     "execution_count": 24,
     "metadata": {},
     "output_type": "execute_result"
    }
   ],
   "source": [
    "# Perform univeral functions on vector x\n",
    "np.sin(x)"
   ]
  },
  {
   "cell_type": "code",
   "execution_count": 25,
   "metadata": {},
   "outputs": [
    {
     "data": {
      "text/plain": [
       "array([1.00000000e+00, 7.38905610e+00, 5.45981500e+01, 4.03428793e+02,\n",
       "       2.98095799e+03, 2.20264658e+04, 1.62754791e+05, 1.20260428e+06,\n",
       "       8.88611052e+06, 6.56599691e+07])"
      ]
     },
     "execution_count": 25,
     "metadata": {},
     "output_type": "execute_result"
    }
   ],
   "source": [
    "# Perform univeral functions on vector x\n",
    "np.exp(x)"
   ]
  },
  {
   "cell_type": "markdown",
   "metadata": {},
   "source": [
    "Likewise, we can apply the logarithm and combine operations.\n",
    "\n",
    "Calculate the square root of the natural logarithm for the values of `x + 1`. The functions for square root and logarithm are `np.sqrt()` and `np.log()` respectively."
   ]
  },
  {
   "cell_type": "code",
   "execution_count": 26,
   "metadata": {
    "eid": "9fc488f5"
   },
   "outputs": [
    {
     "data": {
      "text/plain": [
       "array([0.        , 1.04814707, 1.26863624, 1.39495883, 1.48230381,\n",
       "       1.54851389, 1.60154593, 1.64561545, 1.68321518, 1.71593676])"
      ]
     },
     "execution_count": 26,
     "metadata": {},
     "output_type": "execute_result"
    }
   ],
   "source": [
    "# TASK --- Calculate the square root of the natural logarithm for the values of `x + 1`\n",
    "np.sqrt(np.log(x+1))"
   ]
  },
  {
   "cell_type": "markdown",
   "metadata": {},
   "source": [
    "### Common manipulations with arrays\n",
    "\n",
    "Now let's talk about some common manipulations that you can do with `NumPy` arrays – **indexing, slicing, and reshaping**.\n",
    "\n",
    "#### Indexing\n",
    "Indexing is just getting and setting the value of individual array elements. If you want to access individual elements in the array, you do it in the same way you access elements in a Python list. To see how each indexing call is obtained, let's first create a one-dimensional array using `np.linspace`."
   ]
  },
  {
   "cell_type": "code",
   "execution_count": 27,
   "metadata": {},
   "outputs": [
    {
     "data": {
      "text/plain": [
       "array([-0.5, -0.4, -0.3, -0.2, -0.1,  0. ,  0.1,  0.2,  0.3,  0.4,  0.5,\n",
       "        0.6])"
      ]
     },
     "execution_count": 27,
     "metadata": {},
     "output_type": "execute_result"
    }
   ],
   "source": [
    "# Create one-dimensional array\n",
    "one_dim = np.linspace(-0.5, 0.6, 12)\n",
    "one_dim"
   ]
  },
  {
   "cell_type": "markdown",
   "metadata": {},
   "source": [
    "The index in `NumPy` arrays is zero-based, so the first element has an index of 0, the second element has an index of 1, and so on. To access the first element of the array, you can write:"
   ]
  },
  {
   "cell_type": "code",
   "execution_count": 28,
   "metadata": {},
   "outputs": [
    {
     "data": {
      "text/plain": [
       "-0.5"
      ]
     },
     "execution_count": 28,
     "metadata": {},
     "output_type": "execute_result"
    }
   ],
   "source": [
    "# Access first element of one_dim\n",
    "one_dim[0]"
   ]
  },
  {
   "cell_type": "markdown",
   "metadata": {},
   "source": [
    "If you want to change the value of an element, you can do so by getting the element using the index and then assign the value. For example, let's say that we want to change the first element of the vector to the value of 1. We would write this:"
   ]
  },
  {
   "cell_type": "code",
   "execution_count": 29,
   "metadata": {},
   "outputs": [
    {
     "data": {
      "text/plain": [
       "array([ 1. , -0.4, -0.3, -0.2, -0.1,  0. ,  0.1,  0.2,  0.3,  0.4,  0.5,\n",
       "        0.6])"
      ]
     },
     "execution_count": 29,
     "metadata": {},
     "output_type": "execute_result"
    }
   ],
   "source": [
    "# Change the first element of one_dim\n",
    "one_dim[0] = 1\n",
    "one_dim"
   ]
  },
  {
   "cell_type": "markdown",
   "metadata": {},
   "source": [
    "When you are working with two-dimensional arrays, the indexing operation has to be done with two indices, one for every dimension. Let’s create a two-dimensional array and get the value of the fourth element from the first row."
   ]
  },
  {
   "cell_type": "code",
   "execution_count": 30,
   "metadata": {},
   "outputs": [
    {
     "data": {
      "text/plain": [
       "array([[ 3,  5,  2,  4],\n",
       "       [ 7,  6,  5,  5],\n",
       "       [ 1,  6, -1, -1]])"
      ]
     },
     "execution_count": 30,
     "metadata": {},
     "output_type": "execute_result"
    }
   ],
   "source": [
    "# Create two-dimensional array\n",
    "two_dim = np.array([[3, 5, 2, 4], [7, 6, 5, 5], [1, 6, -1, -1]])\n",
    "two_dim"
   ]
  },
  {
   "cell_type": "markdown",
   "metadata": {},
   "source": [
    "Just as we did with one-dimensional arrays, you can change the value of any element in a two-dimensional array."
   ]
  },
  {
   "cell_type": "code",
   "execution_count": 31,
   "metadata": {},
   "outputs": [
    {
     "data": {
      "text/plain": [
       "4"
      ]
     },
     "execution_count": 31,
     "metadata": {},
     "output_type": "execute_result"
    }
   ],
   "source": [
    "# Access the fourth element of the first row of two_dim\n",
    "two_dim[0, 3]"
   ]
  },
  {
   "cell_type": "markdown",
   "metadata": {},
   "source": [
    "Change the value of the first element in the first row of two_dim to -1."
   ]
  },
  {
   "cell_type": "code",
   "execution_count": 32,
   "metadata": {
    "eid": "fbfc9c69"
   },
   "outputs": [
    {
     "data": {
      "text/plain": [
       "array([[-1,  5,  2,  4],\n",
       "       [ 7,  6,  5,  5],\n",
       "       [ 1,  6, -1, -1]])"
      ]
     },
     "execution_count": 32,
     "metadata": {},
     "output_type": "execute_result"
    }
   ],
   "source": [
    "# TASK --- Change the value of the first element in the first rows of two_dim to -1\n",
    "two_dim[0,0] = -1\n",
    "two_dim"
   ]
  },
  {
   "cell_type": "markdown",
   "metadata": {},
   "source": [
    "#### Slicing\n",
    "\n",
    "Slicing is getting or setting a smaller subarray within a larger array. You get slices from arrays in the same way you get slices from Python lists.\n",
    "\n",
    "Using our vector `one_dim`, let’s get the first five elements."
   ]
  },
  {
   "cell_type": "code",
   "execution_count": 33,
   "metadata": {},
   "outputs": [
    {
     "data": {
      "text/plain": [
       "array([ 1. , -0.4, -0.3, -0.2, -0.1])"
      ]
     },
     "execution_count": 33,
     "metadata": {},
     "output_type": "execute_result"
    }
   ],
   "source": [
    "# Access the first five elements of one_dim\n",
    "one_dim[0:5]"
   ]
  },
  {
   "cell_type": "markdown",
   "metadata": {},
   "source": [
    "Take a look at the output carefully. The returned values have the indexes 0, 1, 2, 3, and 4 – the element with index 5 is not included!\n",
    "\n",
    "Again, just as with the Python lists, you can use negative indices. So, if you want to get the last five elements, you can use:"
   ]
  },
  {
   "cell_type": "code",
   "execution_count": 34,
   "metadata": {},
   "outputs": [
    {
     "data": {
      "text/plain": [
       "array([0.2, 0.3, 0.4, 0.5, 0.6])"
      ]
     },
     "execution_count": 34,
     "metadata": {},
     "output_type": "execute_result"
    }
   ],
   "source": [
    "# Access the last five elements of one_dim\n",
    "one_dim[-5:]"
   ]
  },
  {
   "cell_type": "markdown",
   "metadata": {},
   "source": [
    "In the case of two-dimensional arrays, the rules are the same, but you need to specify one slice per dimension:"
   ]
  },
  {
   "cell_type": "code",
   "execution_count": 35,
   "metadata": {},
   "outputs": [
    {
     "data": {
      "text/plain": [
       "array([[-1,  5],\n",
       "       [ 7,  6]])"
      ]
     },
     "execution_count": 35,
     "metadata": {},
     "output_type": "execute_result"
    }
   ],
   "source": [
    "# Access the first two elements in the first two rows of two_dim\n",
    "two_dim[:2, :2]"
   ]
  },
  {
   "cell_type": "code",
   "execution_count": 36,
   "metadata": {},
   "outputs": [
    {
     "data": {
      "text/plain": [
       "array([[ 5,  2],\n",
       "       [ 6,  5],\n",
       "       [ 6, -1]])"
      ]
     },
     "execution_count": 36,
     "metadata": {},
     "output_type": "execute_result"
    }
   ],
   "source": [
    "# Access the second and third elements in all rows of two_dim\n",
    "two_dim[:, 1:3]"
   ]
  },
  {
   "cell_type": "markdown",
   "metadata": {},
   "source": [
    "Change all the values of the first two elements of all columns in `two_dim` to zero."
   ]
  },
  {
   "cell_type": "code",
   "execution_count": 37,
   "metadata": {
    "eid": "17b57f05"
   },
   "outputs": [
    {
     "data": {
      "text/plain": [
       "array([[ 0,  0,  0,  0],\n",
       "       [ 0,  0,  0,  0],\n",
       "       [ 1,  6, -1, -1]])"
      ]
     },
     "execution_count": 37,
     "metadata": {},
     "output_type": "execute_result"
    }
   ],
   "source": [
    "# TASK --- Change all the values of the first two elements of all columns of two_dim to zero\n",
    "two_dim[:2,:] = 0\n",
    "two_dim"
   ]
  },
  {
   "cell_type": "markdown",
   "metadata": {},
   "source": [
    "#### Reshaping\n",
    "\n",
    "Reshaping arrays changes an array from one dimension to another dimension e.g. from one-dimension to two-dimension, and vice versa. We will demonstrate by turning our one-dimensional array one_dim to a two-dimensional matrix."
   ]
  },
  {
   "cell_type": "code",
   "execution_count": 38,
   "metadata": {},
   "outputs": [
    {
     "data": {
      "text/plain": [
       "array([[ 1. , -0.4, -0.3],\n",
       "       [-0.2, -0.1,  0. ],\n",
       "       [ 0.1,  0.2,  0.3],\n",
       "       [ 0.4,  0.5,  0.6]])"
      ]
     },
     "execution_count": 38,
     "metadata": {},
     "output_type": "execute_result"
    }
   ],
   "source": [
    "# Reshape one_dim to two-dimensional 4x3 matrix\n",
    "one_dim = one_dim.reshape(4, 3)\n",
    "one_dim"
   ]
  },
  {
   "cell_type": "markdown",
   "metadata": {},
   "source": [
    "The above snippet reshaped the array into a 4 x 3 two-dimensional array using the `reshape()` method. You can also specify other dimensions if you want, such as 6 x 2, or you can even go to three dimensions, such as 2 x 2 x 3.\n",
    "\n",
    "In the case of two-dimensional arrays, if you have a two-dimensional array and you want to convert it into a one-dimensional array, you can use the `flatten()` method."
   ]
  },
  {
   "cell_type": "code",
   "execution_count": 39,
   "metadata": {},
   "outputs": [
    {
     "data": {
      "text/plain": [
       "array([ 0,  0,  0,  0,  0,  0,  0,  0,  1,  6, -1, -1])"
      ]
     },
     "execution_count": 39,
     "metadata": {},
     "output_type": "execute_result"
    }
   ],
   "source": [
    "# Flatten two_dim to vector\n",
    "two_dim = two_dim.flatten()\n",
    "two_dim"
   ]
  },
  {
   "cell_type": "code",
   "execution_count": 40,
   "metadata": {
    "eid": "d17f57ef"
   },
   "outputs": [
    {
     "data": {
      "text/plain": [
       "(12,)"
      ]
     },
     "execution_count": 40,
     "metadata": {},
     "output_type": "execute_result"
    }
   ],
   "source": [
    "# TASK --- Print the shape of two_dim\n",
    "two_dim.shape"
   ]
  },
  {
   "cell_type": "code",
   "execution_count": 41,
   "metadata": {
    "eid": "8889ebf8"
   },
   "outputs": [
    {
     "data": {
      "text/plain": [
       "array([[ 0,  0,  0,  0,  0,  0],\n",
       "       [ 0,  0,  1,  6, -1, -1]])"
      ]
     },
     "execution_count": 41,
     "metadata": {},
     "output_type": "execute_result"
    }
   ],
   "source": [
    "# TASK --- Reshape two_dim to be a 2x6 matrix\n",
    "two_dim = two_dim.reshape(2,6)\n",
    "two_dim"
   ]
  },
  {
   "cell_type": "markdown",
   "metadata": {},
   "source": [
    "##  IV. Using `NumPy` for Simulations\n",
    "\n",
    "Now let's learn how to use `NumPy` in a real-world scenario. Here, we will cover two examples of simulations using `NumPy`, and in the process, we will also learn about other operations that we can do with arrays.\n",
    "\n",
    "\n",
    "### Coin toss\n",
    "\n",
    "We will look into a coin toss simulation using `NumPy`. To simulate some data, we will use the randint function that comes in the random submodule. This function takes the low, high, and size arguments, which will be the range of random integers that we want for the output.\n",
    "\n",
    "For our example, we want the output to be either 0 or 1, so the value for low will be 0 and high will be 2 but not including 2. The size argument will define the number of random integers we want for the output, that is, the number of coins we will flip.\n",
    "\n",
    "We will assign 0 as tails and 1 as heads and the size argument is assigned 1, since we will be flipping one coin."
   ]
  },
  {
   "cell_type": "code",
   "execution_count": 42,
   "metadata": {},
   "outputs": [
    {
     "data": {
      "text/plain": [
       "array([1])"
      ]
     },
     "execution_count": 42,
     "metadata": {},
     "output_type": "execute_result"
    }
   ],
   "source": [
    "# Simulate a coin toss with one coin\n",
    "np.random.randint(low=0, high=2, size=1)"
   ]
  },
  {
   "cell_type": "markdown",
   "metadata": {},
   "source": [
    "Run this simulation multiple times – you will get a different results (either tails or heads).\n",
    "\n",
    "Let's take another simulation where you want to throw 10 coins at a time. Here, all you have to do is change the value of the last argument to size=10. And to get the total number of heads, you have to sum all the elements in the experiment output array:"
   ]
  },
  {
   "cell_type": "code",
   "execution_count": 43,
   "metadata": {},
   "outputs": [
    {
     "name": "stdout",
     "output_type": "stream",
     "text": [
      "[1 0 1 1 1 0 0 1 1 0]\n",
      "Number of heads:  6\n"
     ]
    }
   ],
   "source": [
    "# Simulate a coin toss with 10 coins and count number of `heads`\n",
    "experiment = np.random.randint(0, 2, 10)\n",
    "print(experiment)\n",
    "print('Number of heads: ', experiment.sum())"
   ]
  },
  {
   "cell_type": "markdown",
   "metadata": {},
   "source": [
    "This gives us the number of heads from ten coin tosses from just one experiment. What if you wanted to find out what the average number of heads is over 10,000 experiments? You can do it very easily using `NumPy`.\n",
    "\n",
    "Let's create a coin_matrix simulation. This time, we want the size to be a two-dimensional array to store 10,000 experiments of 10 coin tosses – therefore we will assign size=(10000, 10)."
   ]
  },
  {
   "cell_type": "code",
   "execution_count": 44,
   "metadata": {},
   "outputs": [
    {
     "data": {
      "text/plain": [
       "array([[1, 1, 1, 0, 0, 1, 0, 0, 0, 0],\n",
       "       [0, 0, 0, 0, 0, 0, 1, 0, 1, 1],\n",
       "       [0, 1, 1, 0, 1, 1, 1, 0, 0, 1],\n",
       "       [1, 1, 0, 0, 0, 1, 1, 1, 1, 1],\n",
       "       [0, 0, 0, 1, 0, 0, 0, 1, 0, 1]])"
      ]
     },
     "execution_count": 44,
     "metadata": {},
     "output_type": "execute_result"
    }
   ],
   "source": [
    "# Simulate 10000 experiments\n",
    "coin_matrix = np.random.randint(0, 2, (10000, 10))\n",
    "coin_matrix[:5]"
   ]
  },
  {
   "cell_type": "markdown",
   "metadata": {},
   "source": [
    "We printed only the first five rows in the output since the full matrix is too large to display on screen – it is 10,000 rows!\n",
    "\n",
    "To find total number of heads in each experiment, we can sum the matrix on axis=1 – this sums each row to give us a vector of 10,000 sums. If we want the total number of heads in all 10,000 experiments, we can simply sum the entire matrix."
   ]
  },
  {
   "cell_type": "code",
   "execution_count": 46,
   "metadata": {},
   "outputs": [
    {
     "data": {
      "text/plain": [
       "array([4, 3, 6, ..., 7, 5, 3])"
      ]
     },
     "execution_count": 46,
     "metadata": {},
     "output_type": "execute_result"
    }
   ],
   "source": [
    "# Count number of `heads` in each experiment\n",
    "heads = coin_matrix.sum(axis=1)\n",
    "heads"
   ]
  },
  {
   "cell_type": "code",
   "execution_count": 47,
   "metadata": {},
   "outputs": [
    {
     "data": {
      "text/plain": [
       "50147"
      ]
     },
     "execution_count": 47,
     "metadata": {},
     "output_type": "execute_result"
    }
   ],
   "source": [
    "# Count number of `heads` in all experiments\n",
    "heads_all = coin_matrix.sum()\n",
    "heads_all"
   ]
  },
  {
   "cell_type": "markdown",
   "metadata": {},
   "source": [
    "To calculate the mean of the number of heads, we can use the `mean()` method"
   ]
  },
  {
   "cell_type": "code",
   "execution_count": 48,
   "metadata": {},
   "outputs": [
    {
     "data": {
      "text/plain": [
       "5.0147"
      ]
     },
     "execution_count": 48,
     "metadata": {},
     "output_type": "execute_result"
    }
   ],
   "source": [
    "# Find the mean number of `heads` over all experiment\n",
    "np.mean(heads)"
   ]
  },
  {
   "cell_type": "markdown",
   "metadata": {},
   "source": [
    "`NumPy` also provides arrays other useful methods for performing statistics, such as `median`, `minimum`, and `maximum`, and `standard deviation`"
   ]
  },
  {
   "cell_type": "code",
   "execution_count": 49,
   "metadata": {},
   "outputs": [
    {
     "name": "stdout",
     "output_type": "stream",
     "text": [
      "Median:  5.0\n",
      "Minimum:  0\n",
      "Maximum:  10\n",
      "Standard deviation:  1.5738119042630223\n"
     ]
    }
   ],
   "source": [
    "# Find the median number of `heads` over all experiments\n",
    "print('Median: ', np.median(heads))\n",
    "# Find the minimum number of `heads` over all experiments\n",
    "print('Minimum: ', np.min(heads))\n",
    "# Find the maximum number of `heads` over all experiments\n",
    "print('Maximum: ', np.max(heads))\n",
    "# Find the standard deviation of `heads` over all experiments\n",
    "print('Standard deviation: ', np.std(heads))"
   ]
  },
  {
   "cell_type": "markdown",
   "metadata": {},
   "source": [
    "Now, if you want to know the distribution of the number of heads we get in the experiment, you can use the bincount function."
   ]
  },
  {
   "cell_type": "code",
   "execution_count": 50,
   "metadata": {},
   "outputs": [
    {
     "data": {
      "text/plain": [
       "array([   8,   87,  422, 1178, 2038, 2491, 2034, 1177,  463,   92,   10])"
      ]
     },
     "execution_count": 50,
     "metadata": {},
     "output_type": "execute_result"
    }
   ],
   "source": [
    "# Find the distribution of the number of `heads` over all experiments \n",
    "np.bincount(heads)"
   ]
  },
  {
   "cell_type": "markdown",
   "metadata": {},
   "source": [
    "The output shows a vector with 10 elements – each element’s value is the number of experiments that had 0 heads, 1 head, 2, heads, etc. up to 10 heads. You should see that the largest number of experiments had 5 coins that landed on heads, whereas not many of the 10,000 experiments had zero or ten heads."
   ]
  },
  {
   "cell_type": "markdown",
   "metadata": {},
   "source": [
    "### Simulating stock returns\n",
    "\n",
    "Now let's look into another simulation example – let's say we want to model the returns for a stock with the normal distribution.\n",
    "\n",
    "We can use the normalfunction to produce random numbers that are normally distributed. The normal function takes three parameters:\n",
    "\n",
    "1. `loc` – the mean of the distribution\n",
    "2. `scale` – the standard deviation of the distribution\n",
    "3. `size` – output shape i.e. the number of random samples that we want.\n",
    "\n",
    "We will simulate a normal distribution with a mean of 0.001, standard deviation of 0.02, and 250 samples (there are around 250 days in a trading year)."
   ]
  },
  {
   "cell_type": "code",
   "execution_count": 51,
   "metadata": {
    "scrolled": true
   },
   "outputs": [
    {
     "data": {
      "text/plain": [
       "array([ 0.01024411,  0.00579146,  0.00593925, -0.01298377, -0.00245235,\n",
       "        0.02298001, -0.00305518,  0.02497282, -0.00724048,  0.03734357,\n",
       "        0.00968959, -0.01597328, -0.00287136,  0.02202172, -0.00059502,\n",
       "        0.01167941,  0.00786395,  0.0101401 ,  0.0098706 , -0.03311099,\n",
       "       -0.02362694,  0.00915034,  0.0029734 , -0.01547716,  0.00485934,\n",
       "        0.02088944, -0.02208476, -0.02826604,  0.01010648, -0.00083684,\n",
       "        0.02403146,  0.01422719,  0.02238853, -0.01069967, -0.01031505,\n",
       "        0.01989225,  0.02211905, -0.0115358 , -0.01249654,  0.02735395,\n",
       "       -0.01685996,  0.01075953,  0.02475461,  0.0240036 ,  0.00667281,\n",
       "        0.03606667, -0.01667112,  0.01905262,  0.01018906,  0.01256305,\n",
       "       -0.00529583,  0.00974589, -0.02370672,  0.00695513,  0.0261042 ,\n",
       "       -0.02020534,  0.00374097,  0.00015611, -0.01611591,  0.00734766,\n",
       "        0.02587524, -0.02107428,  0.00303197,  0.00482252, -0.01649279,\n",
       "       -0.00905983, -0.00311693,  0.00215252,  0.00742232, -0.0036806 ,\n",
       "        0.02199617, -0.01629085, -0.02108668,  0.05744391,  0.02624588,\n",
       "       -0.00378571,  0.01792106,  0.02904329,  0.0182268 ,  0.01171697,\n",
       "       -0.01704403, -0.00496625,  0.01502437,  0.0009133 , -0.01762046,\n",
       "        0.00966888, -0.00838607, -0.01513598,  0.00641005,  0.00969822,\n",
       "       -0.00821881,  0.00285483, -0.0048294 , -0.02602271,  0.02916131,\n",
       "        0.00678956, -0.02372681, -0.02561575, -0.01510531, -0.02430273,\n",
       "       -0.0439428 , -0.02000237, -0.0214128 , -0.01693602,  0.01870064,\n",
       "        0.00268225,  0.00467842,  0.00911769, -0.01016818,  0.03087128,\n",
       "       -0.01363766,  0.02876436,  0.01254813,  0.02068999,  0.011223  ,\n",
       "       -0.01095681,  0.0116924 , -0.01607359, -0.00349819, -0.01595138,\n",
       "        0.00397889,  0.00735928,  0.00364088,  0.0322194 , -0.04205179,\n",
       "       -0.00649506,  0.0109428 , -0.02651065, -0.0020237 ,  0.00648743,\n",
       "        0.01872873, -0.03858581,  0.02142303,  0.01145914,  0.02548826,\n",
       "        0.01246569, -0.00035629, -0.00274387,  0.02414383,  0.00898631,\n",
       "       -0.01848492,  0.05434352, -0.02263238, -0.00934376, -0.01471308,\n",
       "        0.0376594 , -0.01318472, -0.02038694,  0.01655416,  0.03526467,\n",
       "        0.04848539,  0.0102072 , -0.0052554 , -0.01393545, -0.00833554,\n",
       "       -0.00900197, -0.00416321, -0.01085706, -0.01911808,  0.01133659,\n",
       "       -0.01664834, -0.00208232, -0.02984841,  0.0516864 , -0.00402733,\n",
       "        0.00641187,  0.03311057, -0.00025018, -0.0615106 ,  0.01688313,\n",
       "        0.02320694,  0.02794065,  0.02055381,  0.04399469, -0.00726503,\n",
       "       -0.02543039, -0.02265051,  0.0308451 ,  0.00489641,  0.00095367,\n",
       "       -0.01844702,  0.03049825,  0.04174676,  0.00791355,  0.01869095,\n",
       "        0.00375984,  0.01437402, -0.01909638,  0.02935274, -0.0131282 ,\n",
       "       -0.00467121, -0.0183538 ,  0.0008029 ,  0.01137448,  0.00445407,\n",
       "       -0.02282934, -0.01601621, -0.04715207, -0.02294203,  0.02562467,\n",
       "       -0.00550499,  0.00829305, -0.03633866,  0.00434028, -0.0193674 ,\n",
       "       -0.00932193,  0.00608227, -0.03364746,  0.00400994,  0.04228244,\n",
       "       -0.06010491, -0.01952769, -0.01061851,  0.02513337, -0.00230801,\n",
       "       -0.00423995,  0.0171103 ,  0.0310174 , -0.01223087, -0.02865208,\n",
       "       -0.00729811, -0.0011953 , -0.00290744, -0.00080824,  0.00064695,\n",
       "        0.00192479,  0.01157032, -0.00568758, -0.03978812, -0.00497019,\n",
       "       -0.00020408,  0.04169596,  0.00816159,  0.00985567, -0.00157277,\n",
       "       -0.00558595,  0.00476878,  0.01348559, -0.01228491, -0.01257243,\n",
       "       -0.01321513, -0.03129334,  0.01881352,  0.00561484,  0.00957347,\n",
       "       -0.00261618,  0.01132624,  0.00309838,  0.01505069,  0.00250824])"
      ]
     },
     "execution_count": 51,
     "metadata": {},
     "output_type": "execute_result"
    }
   ],
   "source": [
    "# Simulate stock returns\n",
    "returns = np.random.normal(0.001, 0.02, 250)\n",
    "returns"
   ]
  },
  {
   "cell_type": "markdown",
   "metadata": {},
   "source": [
    "Now let's say that you have initial_price of 100. To calculate all the prices for all the following days you can multiply `initial_price` by the exponential of the `cumulative sum` (using `.cumsum()`) of the returns"
   ]
  },
  {
   "cell_type": "code",
   "execution_count": 52,
   "metadata": {},
   "outputs": [],
   "source": [
    "# Calculate prices for each day in the trading year, starting from an initial price of 100\n",
    "initial_price = 100\n",
    "price = initial_price * np.exp(returns.cumsum())"
   ]
  },
  {
   "cell_type": "markdown",
   "metadata": {},
   "source": [
    "Don’t worry if you don’t have a background in finance. The goal is not for you to understand how to perform simulations in finance, but to show you how easy it is to perform simulations using `NumPy`.\n",
    "\n",
    "Now we will create some plots that will project the simulation of the stock using `NumPy`. Plotting with `matplotlib` will be covered more elaborately later… For now, just run this cell and take a look at the output!"
   ]
  },
  {
   "cell_type": "code",
   "execution_count": 53,
   "metadata": {},
   "outputs": [
    {
     "data": {
      "image/png": "[encoded data removed]",
      "text/plain": [
       "<Figure size 432x288 with 1 Axes>"
      ]
     },
     "metadata": {
      "needs_background": "light"
     },
     "output_type": "display_data"
    }
   ],
   "source": [
    "# Plot prices using matplotlib\n",
    "import matplotlib.pyplot as plt\n",
    "%matplotlib inline\n",
    "plt.plot(price);"
   ]
  },
  {
   "cell_type": "markdown",
   "metadata": {},
   "source": [
    "Taking a look at the resulting graph, you see that the stock is started at our initial price of 100, and the evolution is plotted in the simulation.\n",
    "\n",
    "Calculate the mean price of our stock returns."
   ]
  },
  {
   "cell_type": "code",
   "execution_count": 54,
   "metadata": {
    "eid": "cc13c3fd"
   },
   "outputs": [
    {
     "data": {
      "text/plain": [
       "134.34540831530094"
      ]
     },
     "execution_count": 54,
     "metadata": {},
     "output_type": "execute_result"
    }
   ],
   "source": [
    "# TASK --- Find the mean price\n",
    "mean_price = np.mean(price)\n",
    "mean_price"
   ]
  },
  {
   "cell_type": "markdown",
   "metadata": {},
   "source": [
    "Calculate the maximum price of our stock returns."
   ]
  },
  {
   "cell_type": "code",
   "execution_count": null,
   "metadata": {
    "eid": "e01eceaa"
   },
   "outputs": [],
   "source": [
    "# TASK --- Find the maximum price\n",
    "maximum_price = np.max(price)\n",
    "maximum_price"
   ]
  },
  {
   "cell_type": "markdown",
   "metadata": {},
   "source": [
    "Calculate the minimum price of our stock returns."
   ]
  },
  {
   "cell_type": "code",
   "execution_count": 55,
   "metadata": {
    "eid": "72d90917"
   },
   "outputs": [
    {
     "data": {
      "text/plain": [
       "100.65601237773747"
      ]
     },
     "execution_count": 55,
     "metadata": {},
     "output_type": "execute_result"
    }
   ],
   "source": [
    "# TASK --- Find the minimum price\n",
    "minimum_price = np.min(price)\n",
    "minimum_price"
   ]
  }
 ],
 "metadata": {
  "kernelspec": {
   "display_name": "Python 3",
   "language": "python",
   "name": "python3"
  },
  "language_info": {
   "codemirror_mode": {
    "name": "ipython",
    "version": 3
   },
   "file_extension": ".py",
   "mimetype": "text/x-python",
   "name": "python",
   "nbconvert_exporter": "python",
   "pygments_lexer": "ipython3",
   "version": "3.7.2"
  }
 },
 "nbformat": 4,
 "nbformat_minor": 2
}
