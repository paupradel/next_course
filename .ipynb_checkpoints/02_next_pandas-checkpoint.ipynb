{
 "cells": [
  {
   "cell_type": "markdown",
   "metadata": {},
   "source": [
    "## Introduction\n",
    "\n",
    "`pandas` is a library for Python that provides fast, flexible, and expressive data structures designed to work with relational or tabular data, such as an SQL table, or an Excel spreadsheet. It is a fundamental, high-level building block for doing practical, real-world data analysis with Python.\n",
    "\n",
    "We use the following importing convention to import the `pandas` library:\n",
    "\n",
    "`import pandas as pd`\n",
    "\n",
    "`pandas` is well-suited to the following cases:\n",
    "\n",
    "- When you have tabular data with heterogeneously typed columns\n",
    "- When you have ordered or unordered time series data\n",
    "- When you have data that is in rows and columns, similar to a matrix\n",
    "\n",
    "There are two primary data structures in `pandas`:\n",
    "\n",
    "- Series – a one-dimensional data structure\n",
    "- DataFrame – a two-dimensional data structure\n",
    "\n",
    "They can handle the vast majority of cases for data analysis that you find in different fields, such as finance, statistics, social science, and many areas of engineering and business as well.\n",
    "\n",
    "`pandas` is built on top of `NumPy` and it is intended to integrate well within a scientific computing environment with many other third-party libraries."
   ]
  },
  {
   "cell_type": "markdown",
   "metadata": {},
   "source": [
    "## I. Series and DataFrames\n",
    "\n",
    "The two most important objects in `pandas` are **series** and **DataFrames**. To start, let’s import `pandas`, as well as `NumPy`:"
   ]
  },
  {
   "cell_type": "code",
   "execution_count": 1,
   "metadata": {},
   "outputs": [
    {
     "data": {
      "application/javascript": [
       "IPython.notebook.set_autosave_interval(5000)"
      ]
     },
     "metadata": {},
     "output_type": "display_data"
    },
    {
     "name": "stdout",
     "output_type": "stream",
     "text": [
      "Autosaving every 5 seconds\n"
     ]
    }
   ],
   "source": [
    "%autosave 5"
   ]
  },
  {
   "cell_type": "code",
   "execution_count": 2,
   "metadata": {},
   "outputs": [],
   "source": [
    "# Import libraries\n",
    "import pandas as pd\n",
    "import numpy as np"
   ]
  },
  {
   "cell_type": "markdown",
   "metadata": {},
   "source": [
    "### Series\n",
    "\n",
    "The series data structure in `pandas` is a one-dimensional labeled array. Data in a series:\n",
    "\n",
    "- Can be of any type e.g. integers, strings, floating-point numbers, Python objects, etc.\n",
    "- Is homogeneous in nature – i.e. all the data must be of the same type\n",
    "- Always has an index\n",
    "\n",
    "![pandas](pandas1.png)\n",
    "\n",
    "The preceding diagram is a visual example of a `pandas` series. You can see that every data point is associated with an index.\n",
    "\n",
    "#### Creating a pandas series\n",
    "\n",
    "There are many ways to create `pandas` series. The following are some of the most common ways:\n",
    "\n",
    "- Creation from a list\n",
    "- Creation from a dictionary\n",
    "- Creation from a `NumPy` array\n",
    "\n",
    "Let’s first learn how to create a series from a list. We will create a list of values and name it `temperature`, and another list of values named `days`. To create a series from these two lists, all you have to do is use the `pd.Series()` constructor:"
   ]
  },
  {
   "cell_type": "code",
   "execution_count": 3,
   "metadata": {},
   "outputs": [
    {
     "data": {
      "text/plain": [
       "Mon    33\n",
       "Tue    19\n",
       "Wed    15\n",
       "Thu    89\n",
       "Fri    11\n",
       "Sat    -5\n",
       "Sun     9\n",
       "dtype: int64"
      ]
     },
     "execution_count": 3,
     "metadata": {},
     "output_type": "execute_result"
    }
   ],
   "source": [
    "# Define lists\n",
    "temperature = [33, 19, 15, 89, 11, -5, 9]\n",
    "days = ['Mon', 'Tue', 'Wed', 'Thu', 'Fri', 'Sat', 'Sun']\n",
    "\n",
    "# Create series\n",
    "pd.Series(data=temperature, index=days)"
   ]
  },
  {
   "cell_type": "markdown",
   "metadata": {},
   "source": [
    "We specified that the index should take the values from `days`. If we did not provide this, the index will default to `0, 1, …, n` where n is the index of the last element of the list.\n",
    "\n",
    "Next, we will create a series from a Python dictionary. When you create a `pandas` series from a dictionary, all the keys will be used as the indices, and the respective values will be the values in the series.\n",
    "\n",
    "Let’s define our dictionary, `my_dict`, then pass the dictionary to `thepd.Series()` constructor."
   ]
  },
  {
   "cell_type": "code",
   "execution_count": 4,
   "metadata": {},
   "outputs": [
    {
     "data": {
      "text/plain": [
       "Mon    33\n",
       "Tue    19\n",
       "Wed    15\n",
       "Thu    89\n",
       "Fri    11\n",
       "Sat    -5\n",
       "Sun     9\n",
       "dtype: int64"
      ]
     },
     "execution_count": 4,
     "metadata": {},
     "output_type": "execute_result"
    }
   ],
   "source": [
    "# Define dictionary\n",
    "my_dict = {\n",
    "    'Mon': 33,\n",
    "    'Tue': 19,\n",
    "    'Wed': 15,\n",
    "    'Thu': 89,\n",
    "    'Fri': 11,\n",
    "    'Sat': -5,\n",
    "    'Sun': 9\n",
    "}\n",
    "\n",
    "# Create series\n",
    "pd.Series(data=my_dict)"
   ]
  },
  {
   "cell_type": "markdown",
   "metadata": {},
   "source": [
    "Now, let’s look at how to create a `pandas` series from a `NumPy` array. First, let's define an object, `my_array`, using the `np.linspace` function. Then, again, pass this into `pd.Series`:"
   ]
  },
  {
   "cell_type": "code",
   "execution_count": 5,
   "metadata": {},
   "outputs": [
    {
     "data": {
      "text/plain": [
       "0      0.000000\n",
       "1      0.714286\n",
       "2      1.428571\n",
       "3      2.142857\n",
       "4      2.857143\n",
       "5      3.571429\n",
       "6      4.285714\n",
       "7      5.000000\n",
       "8      5.714286\n",
       "9      6.428571\n",
       "10     7.142857\n",
       "11     7.857143\n",
       "12     8.571429\n",
       "13     9.285714\n",
       "14    10.000000\n",
       "dtype: float64"
      ]
     },
     "execution_count": 5,
     "metadata": {},
     "output_type": "execute_result"
    }
   ],
   "source": [
    "# Define array\n",
    "my_array = np.linspace(0, 10, 15)\n",
    "\n",
    "# Create series\n",
    "pd.Series(data=my_array)"
   ]
  },
  {
   "cell_type": "markdown",
   "metadata": {},
   "source": [
    "You can also do vectorized operations with `pandas` series, similar to how you can with `NumPy` arrays. If you do one operation on a series, the same operation will be applied to every element in the series.\n",
    "\n",
    "Let’s give it a go! Using `my_series`, a series created using the `np.arange()` function, try to perform some vectorized operations!\n",
    "\n",
    "Add 1 to each value of `my_series`. Assign this to a new series called `my_series_add` and print the new series."
   ]
  },
  {
   "cell_type": "code",
   "execution_count": 6,
   "metadata": {
    "eid": "daef62ce"
   },
   "outputs": [
    {
     "name": "stdout",
     "output_type": "stream",
     "text": [
      "0     0\n",
      "1     2\n",
      "2     4\n",
      "3     6\n",
      "4     8\n",
      "5    10\n",
      "6    12\n",
      "7    14\n",
      "8    16\n",
      "9    18\n",
      "dtype: int64\n",
      "0     1\n",
      "1     3\n",
      "2     5\n",
      "3     7\n",
      "4     9\n",
      "5    11\n",
      "6    13\n",
      "7    15\n",
      "8    17\n",
      "9    19\n",
      "dtype: int64\n"
     ]
    }
   ],
   "source": [
    "# TASK --- Using this series...\n",
    "my_series = pd.Series(np.arange(0, 20, 2))\n",
    "print(my_series)\n",
    "\n",
    "# -------- Add 1 to each value\n",
    "my_series_add = my_series + 1\n",
    "print(my_series_add)"
   ]
  },
  {
   "cell_type": "markdown",
   "metadata": {},
   "source": [
    "Multiply each value of `my_series` by 2. Assign this to a new series called `my_series_multiply` and print the new series."
   ]
  },
  {
   "cell_type": "code",
   "execution_count": 7,
   "metadata": {
    "eid": "8ff95ef1"
   },
   "outputs": [
    {
     "name": "stdout",
     "output_type": "stream",
     "text": [
      "0     0\n",
      "1     4\n",
      "2     8\n",
      "3    12\n",
      "4    16\n",
      "5    20\n",
      "6    24\n",
      "7    28\n",
      "8    32\n",
      "9    36\n",
      "dtype: int64\n"
     ]
    }
   ],
   "source": [
    "# TASK --- Using this series...\n",
    "my_series = pd.Series(np.arange(0, 20, 2))\n",
    "\n",
    "# -------- Multiply each value by 2\n",
    "my_series_multiply = my_series * 2\n",
    "print(my_series_multiply)"
   ]
  },
  {
   "cell_type": "markdown",
   "metadata": {},
   "source": [
    "Calculate the exponential of each value of `my_series`. Assign this to a new series called `my_series_exp` and print the new series."
   ]
  },
  {
   "cell_type": "code",
   "execution_count": 8,
   "metadata": {
    "eid": "40543c71"
   },
   "outputs": [
    {
     "name": "stdout",
     "output_type": "stream",
     "text": [
      "0    1.000000e+00\n",
      "1    7.389056e+00\n",
      "2    5.459815e+01\n",
      "3    4.034288e+02\n",
      "4    2.980958e+03\n",
      "5    2.202647e+04\n",
      "6    1.627548e+05\n",
      "7    1.202604e+06\n",
      "8    8.886111e+06\n",
      "9    6.565997e+07\n",
      "dtype: float64\n"
     ]
    }
   ],
   "source": [
    "# TASK --- Using this series...\n",
    "my_series = pd.Series(np.arange(0, 20, 2))\n",
    "\n",
    "# -------- Calculate the exponential of each value\n",
    "my_series_exp = np.exp(my_series)\n",
    "print(my_series_exp)"
   ]
  },
  {
   "cell_type": "markdown",
   "metadata": {},
   "source": [
    "### DataFrames\n",
    "\n",
    "A `DataFrame` is a two-dimensional labeled data structure with columns of potentially different types. A `pandas` DataFrame is similar to a Microsoft Excel spreadsheet, or a SQL table. You have two indices, the index for the rows and the index for the columns:\n",
    "\n",
    "![pandas2](pandas2.png)\n",
    "\n",
    "In the preceding diagram, we have two indices, columns associated with values of `Dates`, `Tokyo`, and so on, and a row associated with INDEX.\n",
    "\n",
    "Note that each individual column in a DataFrame is itself a series.\n",
    "\n",
    "#### Creating a pandas DataFrame\n",
    "\n",
    "There are also many ways to create pandas DataFrames. You can create DataFrames from the following:\n",
    "\n",
    "- Lists\n",
    "- Dictionaries\n",
    "- Arrays\n",
    "- Series\n",
    "\n",
    "Since these methods are very similar to creating series, we will not go through these – all you have to do is replace the `pd.Series()` constructor with the `pd.DataFrame()` or `pd.DataFrame.from_dict()` constructors.\n",
    "\n",
    "Instead, we will discuss another extremely common method… creating DataFrames from external files such as `.txt` files, `.csv` files, Excel files, or databases!\n",
    "\n",
    "Let's create a DataFrame from a real-world dataset. The dataset that we will use is one that contains data about human resources, employee attrition, performance, and so on. You can find out more here.\n",
    "\n",
    "We have already uploaded the `.csv` file for you – all we have to do is import it using `pd.read_csv()`:"
   ]
  },
  {
   "cell_type": "code",
   "execution_count": 3,
   "metadata": {},
   "outputs": [],
   "source": [
    "# Read csv file as DataFrame\n",
    "data = pd.read_csv(\"HR-Employee-Attrition.csv\", index_col='EmployeeNumber')"
   ]
  },
  {
   "cell_type": "markdown",
   "metadata": {},
   "source": [
    "In the above snippet, we created a DataFrame called data and used the column `EmployeeNumber` as the index.\n",
    "\n",
    "If the file had been an Excel file, we would have used `pd.read_excel()`. Here is a list of all the file types that pandas can read.\n",
    "\n",
    "Now that we have a DataFrame, let’s take a look at it’s anatomy. A DataFrame consists of three parts:\n",
    "\n",
    "- An index\n",
    "- The column names\n",
    "- The data\n",
    "\n",
    "The row and column labels can be accessed respectively by accessing the index and columns attributes"
   ]
  },
  {
   "cell_type": "code",
   "execution_count": 6,
   "metadata": {},
   "outputs": [
    {
     "data": {
      "text/plain": [
       "Int64Index([   1,    2,    4,    5,    7,    8,   10,   11,   12,   13,\n",
       "            ...\n",
       "            2054, 2055, 2056, 2057, 2060, 2061, 2062, 2064, 2065, 2068],\n",
       "           dtype='int64', name='EmployeeNumber', length=1470)"
      ]
     },
     "execution_count": 6,
     "metadata": {},
     "output_type": "execute_result"
    }
   ],
   "source": [
    "# Access index of DataFrame\n",
    "data.index"
   ]
  },
  {
   "cell_type": "code",
   "execution_count": 11,
   "metadata": {},
   "outputs": [
    {
     "data": {
      "text/plain": [
       "Index(['Age', 'Attrition', 'BusinessTravel', 'DailyRate', 'Department',\n",
       "       'DistanceFromHome', 'Education', 'EducationField', 'EmployeeCount',\n",
       "       'EnvironmentSatisfaction', 'Gender', 'HourlyRate', 'JobInvolvement',\n",
       "       'JobLevel', 'JobRole', 'JobSatisfaction', 'MaritalStatus',\n",
       "       'MonthlyIncome', 'MonthlyRate', 'NumCompaniesWorked', 'Over18',\n",
       "       'OverTime', 'PercentSalaryHike', 'PerformanceRating',\n",
       "       'RelationshipSatisfaction', 'StandardHours', 'StockOptionLevel',\n",
       "       'TotalWorkingYears', 'TrainingTimesLastYear', 'WorkLifeBalance',\n",
       "       'YearsAtCompany', 'YearsInCurrentRole', 'YearsSinceLastPromotion',\n",
       "       'YearsWithCurrManager'],\n",
       "      dtype='object')"
      ]
     },
     "execution_count": 11,
     "metadata": {},
     "output_type": "execute_result"
    }
   ],
   "source": [
    "# Access columns of DataFrame\n",
    "data.columns"
   ]
  },
  {
   "cell_type": "markdown",
   "metadata": {},
   "source": [
    "The values attribute will give the values of the DataFrame, which will always be in the form of a `NumPy` array."
   ]
  },
  {
   "cell_type": "code",
   "execution_count": 12,
   "metadata": {},
   "outputs": [
    {
     "data": {
      "text/plain": [
       "array([[41, 'Yes', 'Travel_Rarely', ..., 4, 0, 5],\n",
       "       [49, 'No', 'Travel_Frequently', ..., 7, 1, 7],\n",
       "       [37, 'Yes', 'Travel_Rarely', ..., 0, 0, 0],\n",
       "       ...,\n",
       "       [27, 'No', 'Travel_Rarely', ..., 2, 0, 3],\n",
       "       [49, 'No', 'Travel_Frequently', ..., 6, 0, 8],\n",
       "       [34, 'No', 'Travel_Rarely', ..., 3, 1, 2]], dtype=object)"
      ]
     },
     "execution_count": 12,
     "metadata": {},
     "output_type": "execute_result"
    }
   ],
   "source": [
    "# Access values of DataFrame\n",
    "data.values"
   ]
  },
  {
   "cell_type": "markdown",
   "metadata": {},
   "source": [
    "Now that we've created a DataFrame, let's continue on to take a look at the data!"
   ]
  },
  {
   "cell_type": "markdown",
   "metadata": {},
   "source": [
    "## II. Operations and manipulations\n",
    "\n",
    "There are a number of operation methods used to work in `pandas`. In this step, we will look into some of the common operations.\n",
    "\n",
    "### Inspection of data\n",
    "\n",
    "The first thing that you will want to do when loading a DataFrame or creating a DataFrame from a file is to inspect the data that you just loaded. We have two methods for inspecting the data:\n",
    "\n",
    "- `.head()` – shows the first five rows of data\n",
    "- `.tail()` – shows the last five rows of data"
   ]
  },
  {
   "cell_type": "code",
   "execution_count": null,
   "metadata": {},
   "outputs": [],
   "source": [
    "# Access first five rows of DataFrame\n",
    "data.head()"
   ]
  },
  {
   "cell_type": "code",
   "execution_count": null,
   "metadata": {},
   "outputs": [],
   "source": [
    "# Access last five rows of DataFrame\n",
    "data.tail()"
   ]
  },
  {
   "cell_type": "markdown",
   "metadata": {},
   "source": [
    "As you can see from the output, the first and last five rows, and 34 columns are displayed. It is always a good practice to use these two methods to make sure that the data is correctly loaded – e.g. to check whether there are header or totals rows you need to remove, whether all rows and columns of your data were imported, etc.\n",
    "\n",
    "### Selection, addition, and deletion of data\n",
    "\n",
    "Getting, setting, and deleting columns works with the same syntax as working with dictionaries. Let's look at a few examples. Suppose you want to access certain columns in your DataFrame. All you have to do is indicate the name of the column(s) you want to access:"
   ]
  },
  {
   "cell_type": "code",
   "execution_count": 13,
   "metadata": {
    "scrolled": true
   },
   "outputs": [
    {
     "data": {
      "text/plain": [
       "EmployeeNumber\n",
       "1    41\n",
       "2    49\n",
       "4    37\n",
       "5    33\n",
       "7    27\n",
       "Name: Age, dtype: int64"
      ]
     },
     "execution_count": 13,
     "metadata": {},
     "output_type": "execute_result"
    }
   ],
   "source": [
    "# Selecting one column\n",
    "data['Age'].head()"
   ]
  },
  {
   "cell_type": "code",
   "execution_count": 14,
   "metadata": {},
   "outputs": [
    {
     "data": {
      "text/html": [
       "<div>\n",
       "<style scoped>\n",
       "    .dataframe tbody tr th:only-of-type {\n",
       "        vertical-align: middle;\n",
       "    }\n",
       "\n",
       "    .dataframe tbody tr th {\n",
       "        vertical-align: top;\n",
       "    }\n",
       "\n",
       "    .dataframe thead th {\n",
       "        text-align: right;\n",
       "    }\n",
       "</style>\n",
       "<table border=\"1\" class=\"dataframe\">\n",
       "  <thead>\n",
       "    <tr style=\"text-align: right;\">\n",
       "      <th></th>\n",
       "      <th>Age</th>\n",
       "      <th>Gender</th>\n",
       "      <th>YearsAtCompany</th>\n",
       "    </tr>\n",
       "    <tr>\n",
       "      <th>EmployeeNumber</th>\n",
       "      <th></th>\n",
       "      <th></th>\n",
       "      <th></th>\n",
       "    </tr>\n",
       "  </thead>\n",
       "  <tbody>\n",
       "    <tr>\n",
       "      <th>1</th>\n",
       "      <td>41</td>\n",
       "      <td>Female</td>\n",
       "      <td>6</td>\n",
       "    </tr>\n",
       "    <tr>\n",
       "      <th>2</th>\n",
       "      <td>49</td>\n",
       "      <td>Male</td>\n",
       "      <td>10</td>\n",
       "    </tr>\n",
       "    <tr>\n",
       "      <th>4</th>\n",
       "      <td>37</td>\n",
       "      <td>Male</td>\n",
       "      <td>0</td>\n",
       "    </tr>\n",
       "    <tr>\n",
       "      <th>5</th>\n",
       "      <td>33</td>\n",
       "      <td>Female</td>\n",
       "      <td>8</td>\n",
       "    </tr>\n",
       "    <tr>\n",
       "      <th>7</th>\n",
       "      <td>27</td>\n",
       "      <td>Male</td>\n",
       "      <td>2</td>\n",
       "    </tr>\n",
       "  </tbody>\n",
       "</table>\n",
       "</div>"
      ],
      "text/plain": [
       "                Age  Gender  YearsAtCompany\n",
       "EmployeeNumber                             \n",
       "1                41  Female               6\n",
       "2                49    Male              10\n",
       "4                37    Male               0\n",
       "5                33  Female               8\n",
       "7                27    Male               2"
      ]
     },
     "execution_count": 14,
     "metadata": {},
     "output_type": "execute_result"
    }
   ],
   "source": [
    "# Selecting multiple columns\n",
    "data[['Age', 'Gender', 'YearsAtCompany']].head()"
   ]
  },
  {
   "cell_type": "markdown",
   "metadata": {},
   "source": [
    "Note that `.head()` is used to avoid displaying all the rows in the DataFrame, which would be too long to list.\n",
    "\n",
    "Say you wanted to add a column to the DataFrame that stored an employee’s age in months (i.e. age multiplied by 12). You could do the following:"
   ]
  },
  {
   "cell_type": "code",
   "execution_count": 15,
   "metadata": {},
   "outputs": [
    {
     "data": {
      "text/plain": [
       "EmployeeNumber\n",
       "1    492\n",
       "2    588\n",
       "4    444\n",
       "5    396\n",
       "7    324\n",
       "Name: AgeInMonths, dtype: int64"
      ]
     },
     "execution_count": 15,
     "metadata": {},
     "output_type": "execute_result"
    }
   ],
   "source": [
    "# Add column to DataFrame\n",
    "data['AgeInMonths'] = data['Age'] * 12\n",
    "data['AgeInMonths'].head()"
   ]
  },
  {
   "cell_type": "markdown",
   "metadata": {},
   "source": [
    "This snippet added a column called `AgeInMonths` to our DataFrame data, and inserted the values `Age * 12` to the column.\n",
    "\n",
    "To delete a row or column from a DataFrame, you use the drop method, and pass the rows(s) or column(s) that you want to delete. If you are deleting rows, you should specify that this will be from axis=0. If you are deleting columns, you should specify axis=1. The default is to delete rows."
   ]
  },
  {
   "cell_type": "code",
   "execution_count": 16,
   "metadata": {},
   "outputs": [],
   "source": [
    "# Drop column from DataFrame\n",
    "data.drop('AgeInMonths', axis=1, inplace=True)"
   ]
  },
  {
   "cell_type": "markdown",
   "metadata": {},
   "source": [
    "The above snippet dropped the columns we just created. The argument `inplace` specifies whether you want to modify the data object in place i.e. whether you want this change to be permanent in the data structure.\n",
    "\n",
    "Drop the column called `EmployeeCount.`"
   ]
  },
  {
   "cell_type": "code",
   "execution_count": 17,
   "metadata": {
    "eid": "ddf8d774"
   },
   "outputs": [],
   "source": [
    "# TASK --- Drop `EmployeeCount`\n",
    "data.drop('EmployeeCount', axis = 1, inplace = True)"
   ]
  },
  {
   "cell_type": "markdown",
   "metadata": {},
   "source": [
    "### Slicing DataFrames\n",
    "\n",
    "Just as you can do with `NumPy` series, you can take slices from both `pandas` series and DataFrames. We use the same notation:"
   ]
  },
  {
   "cell_type": "code",
   "execution_count": 18,
   "metadata": {},
   "outputs": [
    {
     "data": {
      "text/plain": [
       "EmployeeNumber\n",
       "14    Travel_Rarely\n",
       "15    Travel_Rarely\n",
       "16    Travel_Rarely\n",
       "18    Travel_Rarely\n",
       "19    Travel_Rarely\n",
       "Name: BusinessTravel, dtype: object"
      ]
     },
     "execution_count": 18,
     "metadata": {},
     "output_type": "execute_result"
    }
   ],
   "source": [
    "# Slicing a series\n",
    "data['BusinessTravel'][10:15]"
   ]
  },
  {
   "cell_type": "markdown",
   "metadata": {},
   "source": [
    "When slicing `pandas` objects, as with `NumPy` arrays, the sliced data excludes the stop index. Now you try!"
   ]
  },
  {
   "cell_type": "code",
   "execution_count": 19,
   "metadata": {},
   "outputs": [
    {
     "data": {
      "text/html": [
       "<div>\n",
       "<style scoped>\n",
       "    .dataframe tbody tr th:only-of-type {\n",
       "        vertical-align: middle;\n",
       "    }\n",
       "\n",
       "    .dataframe tbody tr th {\n",
       "        vertical-align: top;\n",
       "    }\n",
       "\n",
       "    .dataframe thead th {\n",
       "        text-align: right;\n",
       "    }\n",
       "</style>\n",
       "<table border=\"1\" class=\"dataframe\">\n",
       "  <thead>\n",
       "    <tr style=\"text-align: right;\">\n",
       "      <th></th>\n",
       "      <th>Age</th>\n",
       "      <th>Attrition</th>\n",
       "      <th>BusinessTravel</th>\n",
       "      <th>DailyRate</th>\n",
       "      <th>Department</th>\n",
       "      <th>DistanceFromHome</th>\n",
       "      <th>Education</th>\n",
       "      <th>EducationField</th>\n",
       "      <th>EnvironmentSatisfaction</th>\n",
       "      <th>Gender</th>\n",
       "      <th>...</th>\n",
       "      <th>RelationshipSatisfaction</th>\n",
       "      <th>StandardHours</th>\n",
       "      <th>StockOptionLevel</th>\n",
       "      <th>TotalWorkingYears</th>\n",
       "      <th>TrainingTimesLastYear</th>\n",
       "      <th>WorkLifeBalance</th>\n",
       "      <th>YearsAtCompany</th>\n",
       "      <th>YearsInCurrentRole</th>\n",
       "      <th>YearsSinceLastPromotion</th>\n",
       "      <th>YearsWithCurrManager</th>\n",
       "    </tr>\n",
       "    <tr>\n",
       "      <th>EmployeeNumber</th>\n",
       "      <th></th>\n",
       "      <th></th>\n",
       "      <th></th>\n",
       "      <th></th>\n",
       "      <th></th>\n",
       "      <th></th>\n",
       "      <th></th>\n",
       "      <th></th>\n",
       "      <th></th>\n",
       "      <th></th>\n",
       "      <th></th>\n",
       "      <th></th>\n",
       "      <th></th>\n",
       "      <th></th>\n",
       "      <th></th>\n",
       "      <th></th>\n",
       "      <th></th>\n",
       "      <th></th>\n",
       "      <th></th>\n",
       "      <th></th>\n",
       "      <th></th>\n",
       "    </tr>\n",
       "  </thead>\n",
       "  <tbody>\n",
       "    <tr>\n",
       "      <th>14</th>\n",
       "      <td>35</td>\n",
       "      <td>No</td>\n",
       "      <td>Travel_Rarely</td>\n",
       "      <td>809</td>\n",
       "      <td>Research &amp; Development</td>\n",
       "      <td>16</td>\n",
       "      <td>3</td>\n",
       "      <td>Medical</td>\n",
       "      <td>1</td>\n",
       "      <td>Male</td>\n",
       "      <td>...</td>\n",
       "      <td>3</td>\n",
       "      <td>80</td>\n",
       "      <td>1</td>\n",
       "      <td>6</td>\n",
       "      <td>5</td>\n",
       "      <td>3</td>\n",
       "      <td>5</td>\n",
       "      <td>4</td>\n",
       "      <td>0</td>\n",
       "      <td>3</td>\n",
       "    </tr>\n",
       "    <tr>\n",
       "      <th>15</th>\n",
       "      <td>29</td>\n",
       "      <td>No</td>\n",
       "      <td>Travel_Rarely</td>\n",
       "      <td>153</td>\n",
       "      <td>Research &amp; Development</td>\n",
       "      <td>15</td>\n",
       "      <td>2</td>\n",
       "      <td>Life Sciences</td>\n",
       "      <td>4</td>\n",
       "      <td>Female</td>\n",
       "      <td>...</td>\n",
       "      <td>4</td>\n",
       "      <td>80</td>\n",
       "      <td>0</td>\n",
       "      <td>10</td>\n",
       "      <td>3</td>\n",
       "      <td>3</td>\n",
       "      <td>9</td>\n",
       "      <td>5</td>\n",
       "      <td>0</td>\n",
       "      <td>8</td>\n",
       "    </tr>\n",
       "    <tr>\n",
       "      <th>16</th>\n",
       "      <td>31</td>\n",
       "      <td>No</td>\n",
       "      <td>Travel_Rarely</td>\n",
       "      <td>670</td>\n",
       "      <td>Research &amp; Development</td>\n",
       "      <td>26</td>\n",
       "      <td>1</td>\n",
       "      <td>Life Sciences</td>\n",
       "      <td>1</td>\n",
       "      <td>Male</td>\n",
       "      <td>...</td>\n",
       "      <td>4</td>\n",
       "      <td>80</td>\n",
       "      <td>1</td>\n",
       "      <td>5</td>\n",
       "      <td>1</td>\n",
       "      <td>2</td>\n",
       "      <td>5</td>\n",
       "      <td>2</td>\n",
       "      <td>4</td>\n",
       "      <td>3</td>\n",
       "    </tr>\n",
       "    <tr>\n",
       "      <th>18</th>\n",
       "      <td>34</td>\n",
       "      <td>No</td>\n",
       "      <td>Travel_Rarely</td>\n",
       "      <td>1346</td>\n",
       "      <td>Research &amp; Development</td>\n",
       "      <td>19</td>\n",
       "      <td>2</td>\n",
       "      <td>Medical</td>\n",
       "      <td>2</td>\n",
       "      <td>Male</td>\n",
       "      <td>...</td>\n",
       "      <td>3</td>\n",
       "      <td>80</td>\n",
       "      <td>1</td>\n",
       "      <td>3</td>\n",
       "      <td>2</td>\n",
       "      <td>3</td>\n",
       "      <td>2</td>\n",
       "      <td>2</td>\n",
       "      <td>1</td>\n",
       "      <td>2</td>\n",
       "    </tr>\n",
       "    <tr>\n",
       "      <th>19</th>\n",
       "      <td>28</td>\n",
       "      <td>Yes</td>\n",
       "      <td>Travel_Rarely</td>\n",
       "      <td>103</td>\n",
       "      <td>Research &amp; Development</td>\n",
       "      <td>24</td>\n",
       "      <td>3</td>\n",
       "      <td>Life Sciences</td>\n",
       "      <td>3</td>\n",
       "      <td>Male</td>\n",
       "      <td>...</td>\n",
       "      <td>2</td>\n",
       "      <td>80</td>\n",
       "      <td>0</td>\n",
       "      <td>6</td>\n",
       "      <td>4</td>\n",
       "      <td>3</td>\n",
       "      <td>4</td>\n",
       "      <td>2</td>\n",
       "      <td>0</td>\n",
       "      <td>3</td>\n",
       "    </tr>\n",
       "  </tbody>\n",
       "</table>\n",
       "<p>5 rows × 33 columns</p>\n",
       "</div>"
      ],
      "text/plain": [
       "                Age Attrition BusinessTravel  DailyRate  \\\n",
       "EmployeeNumber                                            \n",
       "14               35        No  Travel_Rarely        809   \n",
       "15               29        No  Travel_Rarely        153   \n",
       "16               31        No  Travel_Rarely        670   \n",
       "18               34        No  Travel_Rarely       1346   \n",
       "19               28       Yes  Travel_Rarely        103   \n",
       "\n",
       "                            Department  DistanceFromHome  Education  \\\n",
       "EmployeeNumber                                                        \n",
       "14              Research & Development                16          3   \n",
       "15              Research & Development                15          2   \n",
       "16              Research & Development                26          1   \n",
       "18              Research & Development                19          2   \n",
       "19              Research & Development                24          3   \n",
       "\n",
       "               EducationField  EnvironmentSatisfaction  Gender  ...  \\\n",
       "EmployeeNumber                                                  ...   \n",
       "14                    Medical                        1    Male  ...   \n",
       "15              Life Sciences                        4  Female  ...   \n",
       "16              Life Sciences                        1    Male  ...   \n",
       "18                    Medical                        2    Male  ...   \n",
       "19              Life Sciences                        3    Male  ...   \n",
       "\n",
       "                RelationshipSatisfaction  StandardHours  StockOptionLevel  \\\n",
       "EmployeeNumber                                                              \n",
       "14                                     3             80                 1   \n",
       "15                                     4             80                 0   \n",
       "16                                     4             80                 1   \n",
       "18                                     3             80                 1   \n",
       "19                                     2             80                 0   \n",
       "\n",
       "               TotalWorkingYears  TrainingTimesLastYear WorkLifeBalance  \\\n",
       "EmployeeNumber                                                            \n",
       "14                             6                      5               3   \n",
       "15                            10                      3               3   \n",
       "16                             5                      1               2   \n",
       "18                             3                      2               3   \n",
       "19                             6                      4               3   \n",
       "\n",
       "                YearsAtCompany  YearsInCurrentRole  YearsSinceLastPromotion  \\\n",
       "EmployeeNumber                                                                \n",
       "14                           5                   4                        0   \n",
       "15                           9                   5                        0   \n",
       "16                           5                   2                        4   \n",
       "18                           2                   2                        1   \n",
       "19                           4                   2                        0   \n",
       "\n",
       "               YearsWithCurrManager  \n",
       "EmployeeNumber                       \n",
       "14                                3  \n",
       "15                                8  \n",
       "16                                3  \n",
       "18                                2  \n",
       "19                                3  \n",
       "\n",
       "[5 rows x 33 columns]"
      ]
     },
     "execution_count": 19,
     "metadata": {},
     "output_type": "execute_result"
    }
   ],
   "source": [
    "# Slicing a DataFrame\n",
    "data[10:15]"
   ]
  },
  {
   "cell_type": "markdown",
   "metadata": {},
   "source": [
    "Access the fifth to eighth rows of the `Department` and `EducationField` columns in the DataFrame. Remember that indexing begins with zero."
   ]
  },
  {
   "cell_type": "code",
   "execution_count": 20,
   "metadata": {
    "eid": "48ab552f"
   },
   "outputs": [
    {
     "data": {
      "text/html": [
       "<div>\n",
       "<style scoped>\n",
       "    .dataframe tbody tr th:only-of-type {\n",
       "        vertical-align: middle;\n",
       "    }\n",
       "\n",
       "    .dataframe tbody tr th {\n",
       "        vertical-align: top;\n",
       "    }\n",
       "\n",
       "    .dataframe thead th {\n",
       "        text-align: right;\n",
       "    }\n",
       "</style>\n",
       "<table border=\"1\" class=\"dataframe\">\n",
       "  <thead>\n",
       "    <tr style=\"text-align: right;\">\n",
       "      <th></th>\n",
       "      <th>Department</th>\n",
       "      <th>EducationField</th>\n",
       "    </tr>\n",
       "    <tr>\n",
       "      <th>EmployeeNumber</th>\n",
       "      <th></th>\n",
       "      <th></th>\n",
       "    </tr>\n",
       "  </thead>\n",
       "  <tbody>\n",
       "    <tr>\n",
       "      <th>7</th>\n",
       "      <td>Research &amp; Development</td>\n",
       "      <td>Medical</td>\n",
       "    </tr>\n",
       "    <tr>\n",
       "      <th>8</th>\n",
       "      <td>Research &amp; Development</td>\n",
       "      <td>Life Sciences</td>\n",
       "    </tr>\n",
       "    <tr>\n",
       "      <th>10</th>\n",
       "      <td>Research &amp; Development</td>\n",
       "      <td>Medical</td>\n",
       "    </tr>\n",
       "    <tr>\n",
       "      <th>11</th>\n",
       "      <td>Research &amp; Development</td>\n",
       "      <td>Life Sciences</td>\n",
       "    </tr>\n",
       "  </tbody>\n",
       "</table>\n",
       "</div>"
      ],
      "text/plain": [
       "                            Department EducationField\n",
       "EmployeeNumber                                       \n",
       "7               Research & Development        Medical\n",
       "8               Research & Development  Life Sciences\n",
       "10              Research & Development        Medical\n",
       "11              Research & Development  Life Sciences"
      ]
     },
     "execution_count": 20,
     "metadata": {},
     "output_type": "execute_result"
    }
   ],
   "source": [
    "# TASK --- Access the 5th to 8th rows of `Department` and `EducationField`\n",
    "data[['Department','EducationField']][4:8]"
   ]
  },
  {
   "cell_type": "markdown",
   "metadata": {},
   "source": [
    "If you look carefully at this output, you may see a potential source of confusion in using this method of slicing…We accessed the 5th to 8th rows…but the index values (`EmployeeNumber`) are not 4, 5, 6, and 7! Luckily `pandas` provides us with explicit index slicing methods, `loc` and `iloc`.\n",
    "\n",
    "#### Slicing by labels\n",
    "\n",
    "Say you want employee data for specific employees, and you know what their `EmployeeNumbers` are. You can get this data by using the `loc` method.\n",
    "\n",
    "Let's use these employee numbers as labels to access the data that we want."
   ]
  },
  {
   "cell_type": "code",
   "execution_count": 21,
   "metadata": {},
   "outputs": [
    {
     "data": {
      "text/html": [
       "<div>\n",
       "<style scoped>\n",
       "    .dataframe tbody tr th:only-of-type {\n",
       "        vertical-align: middle;\n",
       "    }\n",
       "\n",
       "    .dataframe tbody tr th {\n",
       "        vertical-align: top;\n",
       "    }\n",
       "\n",
       "    .dataframe thead th {\n",
       "        text-align: right;\n",
       "    }\n",
       "</style>\n",
       "<table border=\"1\" class=\"dataframe\">\n",
       "  <thead>\n",
       "    <tr style=\"text-align: right;\">\n",
       "      <th></th>\n",
       "      <th>Age</th>\n",
       "      <th>Attrition</th>\n",
       "      <th>BusinessTravel</th>\n",
       "      <th>DailyRate</th>\n",
       "      <th>Department</th>\n",
       "      <th>DistanceFromHome</th>\n",
       "      <th>Education</th>\n",
       "      <th>EducationField</th>\n",
       "      <th>EnvironmentSatisfaction</th>\n",
       "      <th>Gender</th>\n",
       "      <th>...</th>\n",
       "      <th>RelationshipSatisfaction</th>\n",
       "      <th>StandardHours</th>\n",
       "      <th>StockOptionLevel</th>\n",
       "      <th>TotalWorkingYears</th>\n",
       "      <th>TrainingTimesLastYear</th>\n",
       "      <th>WorkLifeBalance</th>\n",
       "      <th>YearsAtCompany</th>\n",
       "      <th>YearsInCurrentRole</th>\n",
       "      <th>YearsSinceLastPromotion</th>\n",
       "      <th>YearsWithCurrManager</th>\n",
       "    </tr>\n",
       "    <tr>\n",
       "      <th>EmployeeNumber</th>\n",
       "      <th></th>\n",
       "      <th></th>\n",
       "      <th></th>\n",
       "      <th></th>\n",
       "      <th></th>\n",
       "      <th></th>\n",
       "      <th></th>\n",
       "      <th></th>\n",
       "      <th></th>\n",
       "      <th></th>\n",
       "      <th></th>\n",
       "      <th></th>\n",
       "      <th></th>\n",
       "      <th></th>\n",
       "      <th></th>\n",
       "      <th></th>\n",
       "      <th></th>\n",
       "      <th></th>\n",
       "      <th></th>\n",
       "      <th></th>\n",
       "      <th></th>\n",
       "    </tr>\n",
       "  </thead>\n",
       "  <tbody>\n",
       "    <tr>\n",
       "      <th>15</th>\n",
       "      <td>29</td>\n",
       "      <td>No</td>\n",
       "      <td>Travel_Rarely</td>\n",
       "      <td>153</td>\n",
       "      <td>Research &amp; Development</td>\n",
       "      <td>15</td>\n",
       "      <td>2</td>\n",
       "      <td>Life Sciences</td>\n",
       "      <td>4</td>\n",
       "      <td>Female</td>\n",
       "      <td>...</td>\n",
       "      <td>4</td>\n",
       "      <td>80</td>\n",
       "      <td>0</td>\n",
       "      <td>10</td>\n",
       "      <td>3</td>\n",
       "      <td>3</td>\n",
       "      <td>9</td>\n",
       "      <td>5</td>\n",
       "      <td>0</td>\n",
       "      <td>8</td>\n",
       "    </tr>\n",
       "    <tr>\n",
       "      <th>94</th>\n",
       "      <td>29</td>\n",
       "      <td>No</td>\n",
       "      <td>Travel_Rarely</td>\n",
       "      <td>1328</td>\n",
       "      <td>Research &amp; Development</td>\n",
       "      <td>2</td>\n",
       "      <td>3</td>\n",
       "      <td>Life Sciences</td>\n",
       "      <td>3</td>\n",
       "      <td>Male</td>\n",
       "      <td>...</td>\n",
       "      <td>4</td>\n",
       "      <td>80</td>\n",
       "      <td>1</td>\n",
       "      <td>6</td>\n",
       "      <td>3</td>\n",
       "      <td>3</td>\n",
       "      <td>5</td>\n",
       "      <td>4</td>\n",
       "      <td>0</td>\n",
       "      <td>4</td>\n",
       "    </tr>\n",
       "    <tr>\n",
       "      <th>337</th>\n",
       "      <td>31</td>\n",
       "      <td>No</td>\n",
       "      <td>Travel_Frequently</td>\n",
       "      <td>1327</td>\n",
       "      <td>Research &amp; Development</td>\n",
       "      <td>3</td>\n",
       "      <td>4</td>\n",
       "      <td>Medical</td>\n",
       "      <td>2</td>\n",
       "      <td>Male</td>\n",
       "      <td>...</td>\n",
       "      <td>1</td>\n",
       "      <td>80</td>\n",
       "      <td>1</td>\n",
       "      <td>9</td>\n",
       "      <td>3</td>\n",
       "      <td>3</td>\n",
       "      <td>2</td>\n",
       "      <td>2</td>\n",
       "      <td>2</td>\n",
       "      <td>2</td>\n",
       "    </tr>\n",
       "    <tr>\n",
       "      <th>1120</th>\n",
       "      <td>29</td>\n",
       "      <td>No</td>\n",
       "      <td>Travel_Rarely</td>\n",
       "      <td>1107</td>\n",
       "      <td>Research &amp; Development</td>\n",
       "      <td>28</td>\n",
       "      <td>4</td>\n",
       "      <td>Life Sciences</td>\n",
       "      <td>3</td>\n",
       "      <td>Female</td>\n",
       "      <td>...</td>\n",
       "      <td>1</td>\n",
       "      <td>80</td>\n",
       "      <td>1</td>\n",
       "      <td>11</td>\n",
       "      <td>1</td>\n",
       "      <td>3</td>\n",
       "      <td>7</td>\n",
       "      <td>5</td>\n",
       "      <td>1</td>\n",
       "      <td>7</td>\n",
       "    </tr>\n",
       "  </tbody>\n",
       "</table>\n",
       "<p>4 rows × 33 columns</p>\n",
       "</div>"
      ],
      "text/plain": [
       "                Age Attrition     BusinessTravel  DailyRate  \\\n",
       "EmployeeNumber                                                \n",
       "15               29        No      Travel_Rarely        153   \n",
       "94               29        No      Travel_Rarely       1328   \n",
       "337              31        No  Travel_Frequently       1327   \n",
       "1120             29        No      Travel_Rarely       1107   \n",
       "\n",
       "                            Department  DistanceFromHome  Education  \\\n",
       "EmployeeNumber                                                        \n",
       "15              Research & Development                15          2   \n",
       "94              Research & Development                 2          3   \n",
       "337             Research & Development                 3          4   \n",
       "1120            Research & Development                28          4   \n",
       "\n",
       "               EducationField  EnvironmentSatisfaction  Gender  ...  \\\n",
       "EmployeeNumber                                                  ...   \n",
       "15              Life Sciences                        4  Female  ...   \n",
       "94              Life Sciences                        3    Male  ...   \n",
       "337                   Medical                        2    Male  ...   \n",
       "1120            Life Sciences                        3  Female  ...   \n",
       "\n",
       "                RelationshipSatisfaction  StandardHours  StockOptionLevel  \\\n",
       "EmployeeNumber                                                              \n",
       "15                                     4             80                 0   \n",
       "94                                     4             80                 1   \n",
       "337                                    1             80                 1   \n",
       "1120                                   1             80                 1   \n",
       "\n",
       "               TotalWorkingYears  TrainingTimesLastYear WorkLifeBalance  \\\n",
       "EmployeeNumber                                                            \n",
       "15                            10                      3               3   \n",
       "94                             6                      3               3   \n",
       "337                            9                      3               3   \n",
       "1120                          11                      1               3   \n",
       "\n",
       "                YearsAtCompany  YearsInCurrentRole  YearsSinceLastPromotion  \\\n",
       "EmployeeNumber                                                                \n",
       "15                           9                   5                        0   \n",
       "94                           5                   4                        0   \n",
       "337                          2                   2                        2   \n",
       "1120                         7                   5                        1   \n",
       "\n",
       "               YearsWithCurrManager  \n",
       "EmployeeNumber                       \n",
       "15                                8  \n",
       "94                                4  \n",
       "337                               2  \n",
       "1120                              7  \n",
       "\n",
       "[4 rows x 33 columns]"
      ]
     },
     "execution_count": 21,
     "metadata": {},
     "output_type": "execute_result"
    }
   ],
   "source": [
    "# Slicing using `loc`\n",
    "data.loc[[15, 94, 337, 1120]]"
   ]
  },
  {
   "cell_type": "markdown",
   "metadata": {},
   "source": [
    "This gives us data for employees with employee numbers 15, 94, 337, and 1120… not for those in rows 15, 94, 337, and 1120.\n",
    "\n",
    "#### Slicing by position\n",
    "\n",
    "If we want employee data for specific employees, and we know what their position in the DataFrame are, we can access data using the `iloc` method."
   ]
  },
  {
   "cell_type": "code",
   "execution_count": 22,
   "metadata": {},
   "outputs": [
    {
     "data": {
      "text/html": [
       "<div>\n",
       "<style scoped>\n",
       "    .dataframe tbody tr th:only-of-type {\n",
       "        vertical-align: middle;\n",
       "    }\n",
       "\n",
       "    .dataframe tbody tr th {\n",
       "        vertical-align: top;\n",
       "    }\n",
       "\n",
       "    .dataframe thead th {\n",
       "        text-align: right;\n",
       "    }\n",
       "</style>\n",
       "<table border=\"1\" class=\"dataframe\">\n",
       "  <thead>\n",
       "    <tr style=\"text-align: right;\">\n",
       "      <th></th>\n",
       "      <th>Age</th>\n",
       "      <th>Attrition</th>\n",
       "      <th>BusinessTravel</th>\n",
       "      <th>DailyRate</th>\n",
       "      <th>Department</th>\n",
       "      <th>DistanceFromHome</th>\n",
       "      <th>Education</th>\n",
       "      <th>EducationField</th>\n",
       "      <th>EnvironmentSatisfaction</th>\n",
       "      <th>Gender</th>\n",
       "      <th>...</th>\n",
       "      <th>RelationshipSatisfaction</th>\n",
       "      <th>StandardHours</th>\n",
       "      <th>StockOptionLevel</th>\n",
       "      <th>TotalWorkingYears</th>\n",
       "      <th>TrainingTimesLastYear</th>\n",
       "      <th>WorkLifeBalance</th>\n",
       "      <th>YearsAtCompany</th>\n",
       "      <th>YearsInCurrentRole</th>\n",
       "      <th>YearsSinceLastPromotion</th>\n",
       "      <th>YearsWithCurrManager</th>\n",
       "    </tr>\n",
       "    <tr>\n",
       "      <th>EmployeeNumber</th>\n",
       "      <th></th>\n",
       "      <th></th>\n",
       "      <th></th>\n",
       "      <th></th>\n",
       "      <th></th>\n",
       "      <th></th>\n",
       "      <th></th>\n",
       "      <th></th>\n",
       "      <th></th>\n",
       "      <th></th>\n",
       "      <th></th>\n",
       "      <th></th>\n",
       "      <th></th>\n",
       "      <th></th>\n",
       "      <th></th>\n",
       "      <th></th>\n",
       "      <th></th>\n",
       "      <th></th>\n",
       "      <th></th>\n",
       "      <th></th>\n",
       "      <th></th>\n",
       "    </tr>\n",
       "  </thead>\n",
       "  <tbody>\n",
       "    <tr>\n",
       "      <th>1</th>\n",
       "      <td>41</td>\n",
       "      <td>Yes</td>\n",
       "      <td>Travel_Rarely</td>\n",
       "      <td>1102</td>\n",
       "      <td>Sales</td>\n",
       "      <td>1</td>\n",
       "      <td>2</td>\n",
       "      <td>Life Sciences</td>\n",
       "      <td>2</td>\n",
       "      <td>Female</td>\n",
       "      <td>...</td>\n",
       "      <td>1</td>\n",
       "      <td>80</td>\n",
       "      <td>0</td>\n",
       "      <td>8</td>\n",
       "      <td>0</td>\n",
       "      <td>1</td>\n",
       "      <td>6</td>\n",
       "      <td>4</td>\n",
       "      <td>0</td>\n",
       "      <td>5</td>\n",
       "    </tr>\n",
       "    <tr>\n",
       "      <th>2</th>\n",
       "      <td>49</td>\n",
       "      <td>No</td>\n",
       "      <td>Travel_Frequently</td>\n",
       "      <td>279</td>\n",
       "      <td>Research &amp; Development</td>\n",
       "      <td>8</td>\n",
       "      <td>1</td>\n",
       "      <td>Life Sciences</td>\n",
       "      <td>3</td>\n",
       "      <td>Male</td>\n",
       "      <td>...</td>\n",
       "      <td>4</td>\n",
       "      <td>80</td>\n",
       "      <td>1</td>\n",
       "      <td>10</td>\n",
       "      <td>3</td>\n",
       "      <td>3</td>\n",
       "      <td>10</td>\n",
       "      <td>7</td>\n",
       "      <td>1</td>\n",
       "      <td>7</td>\n",
       "    </tr>\n",
       "    <tr>\n",
       "      <th>4</th>\n",
       "      <td>37</td>\n",
       "      <td>Yes</td>\n",
       "      <td>Travel_Rarely</td>\n",
       "      <td>1373</td>\n",
       "      <td>Research &amp; Development</td>\n",
       "      <td>2</td>\n",
       "      <td>2</td>\n",
       "      <td>Other</td>\n",
       "      <td>4</td>\n",
       "      <td>Male</td>\n",
       "      <td>...</td>\n",
       "      <td>2</td>\n",
       "      <td>80</td>\n",
       "      <td>0</td>\n",
       "      <td>7</td>\n",
       "      <td>3</td>\n",
       "      <td>3</td>\n",
       "      <td>0</td>\n",
       "      <td>0</td>\n",
       "      <td>0</td>\n",
       "      <td>0</td>\n",
       "    </tr>\n",
       "    <tr>\n",
       "      <th>5</th>\n",
       "      <td>33</td>\n",
       "      <td>No</td>\n",
       "      <td>Travel_Frequently</td>\n",
       "      <td>1392</td>\n",
       "      <td>Research &amp; Development</td>\n",
       "      <td>3</td>\n",
       "      <td>4</td>\n",
       "      <td>Life Sciences</td>\n",
       "      <td>4</td>\n",
       "      <td>Female</td>\n",
       "      <td>...</td>\n",
       "      <td>3</td>\n",
       "      <td>80</td>\n",
       "      <td>0</td>\n",
       "      <td>8</td>\n",
       "      <td>3</td>\n",
       "      <td>3</td>\n",
       "      <td>8</td>\n",
       "      <td>7</td>\n",
       "      <td>3</td>\n",
       "      <td>0</td>\n",
       "    </tr>\n",
       "    <tr>\n",
       "      <th>7</th>\n",
       "      <td>27</td>\n",
       "      <td>No</td>\n",
       "      <td>Travel_Rarely</td>\n",
       "      <td>591</td>\n",
       "      <td>Research &amp; Development</td>\n",
       "      <td>2</td>\n",
       "      <td>1</td>\n",
       "      <td>Medical</td>\n",
       "      <td>1</td>\n",
       "      <td>Male</td>\n",
       "      <td>...</td>\n",
       "      <td>4</td>\n",
       "      <td>80</td>\n",
       "      <td>1</td>\n",
       "      <td>6</td>\n",
       "      <td>3</td>\n",
       "      <td>3</td>\n",
       "      <td>2</td>\n",
       "      <td>2</td>\n",
       "      <td>2</td>\n",
       "      <td>2</td>\n",
       "    </tr>\n",
       "  </tbody>\n",
       "</table>\n",
       "<p>5 rows × 33 columns</p>\n",
       "</div>"
      ],
      "text/plain": [
       "                Age Attrition     BusinessTravel  DailyRate  \\\n",
       "EmployeeNumber                                                \n",
       "1                41       Yes      Travel_Rarely       1102   \n",
       "2                49        No  Travel_Frequently        279   \n",
       "4                37       Yes      Travel_Rarely       1373   \n",
       "5                33        No  Travel_Frequently       1392   \n",
       "7                27        No      Travel_Rarely        591   \n",
       "\n",
       "                            Department  DistanceFromHome  Education  \\\n",
       "EmployeeNumber                                                        \n",
       "1                                Sales                 1          2   \n",
       "2               Research & Development                 8          1   \n",
       "4               Research & Development                 2          2   \n",
       "5               Research & Development                 3          4   \n",
       "7               Research & Development                 2          1   \n",
       "\n",
       "               EducationField  EnvironmentSatisfaction  Gender  ...  \\\n",
       "EmployeeNumber                                                  ...   \n",
       "1               Life Sciences                        2  Female  ...   \n",
       "2               Life Sciences                        3    Male  ...   \n",
       "4                       Other                        4    Male  ...   \n",
       "5               Life Sciences                        4  Female  ...   \n",
       "7                     Medical                        1    Male  ...   \n",
       "\n",
       "                RelationshipSatisfaction  StandardHours  StockOptionLevel  \\\n",
       "EmployeeNumber                                                              \n",
       "1                                      1             80                 0   \n",
       "2                                      4             80                 1   \n",
       "4                                      2             80                 0   \n",
       "5                                      3             80                 0   \n",
       "7                                      4             80                 1   \n",
       "\n",
       "               TotalWorkingYears  TrainingTimesLastYear WorkLifeBalance  \\\n",
       "EmployeeNumber                                                            \n",
       "1                              8                      0               1   \n",
       "2                             10                      3               3   \n",
       "4                              7                      3               3   \n",
       "5                              8                      3               3   \n",
       "7                              6                      3               3   \n",
       "\n",
       "                YearsAtCompany  YearsInCurrentRole  YearsSinceLastPromotion  \\\n",
       "EmployeeNumber                                                                \n",
       "1                            6                   4                        0   \n",
       "2                           10                   7                        1   \n",
       "4                            0                   0                        0   \n",
       "5                            8                   7                        3   \n",
       "7                            2                   2                        2   \n",
       "\n",
       "               YearsWithCurrManager  \n",
       "EmployeeNumber                       \n",
       "1                                 5  \n",
       "2                                 7  \n",
       "4                                 0  \n",
       "5                                 0  \n",
       "7                                 2  \n",
       "\n",
       "[5 rows x 33 columns]"
      ]
     },
     "execution_count": 22,
     "metadata": {},
     "output_type": "execute_result"
    }
   ],
   "source": [
    "# Slicing using `iloc`\n",
    "data.iloc[0:5]"
   ]
  },
  {
   "cell_type": "markdown",
   "metadata": {},
   "source": [
    "This gives us data for employees in the first five rows of the DataFrame – this is the same as normal indexing: data[0:5]."
   ]
  },
  {
   "cell_type": "markdown",
   "metadata": {},
   "source": [
    "## III. Answering questions\n",
    "\n",
    "Now that we’ve explored our data a bit, it’s time for use our data to answer some questions! Say the HR director asks the following questions about the employees of the company:\n",
    "\n",
    "- How many employees are there by department?\n",
    "- What is the overall attrition rate?\n",
    "- What is the average hourly rate?\n",
    "- What is the average number of years at the company?\n",
    "- Who are the five employees with the most number of years at the company?\n",
    "- How satisfied are employees overall?\n",
    "\n",
    "Let’s see if we can answer these using our data!\n",
    "\n",
    "#### Total employees by department\n",
    "As you learned in the previous step, to view the departments in the dataset, you use the `data['Department']` statement. To count the number of times each unique value from Department appears in your dataset, you use the `value_counts()` method:"
   ]
  },
  {
   "cell_type": "code",
   "execution_count": 23,
   "metadata": {},
   "outputs": [
    {
     "data": {
      "text/plain": [
       "Research & Development    961\n",
       "Sales                     446\n",
       "Human Resources            63\n",
       "Name: Department, dtype: int64"
      ]
     },
     "execution_count": 23,
     "metadata": {},
     "output_type": "execute_result"
    }
   ],
   "source": [
    "# Total employees by department\n",
    "data['Department'].value_counts()"
   ]
  },
  {
   "cell_type": "markdown",
   "metadata": {},
   "source": [
    "Great! We can report back to the HR director that there are 961 employees in R&D, 446 in Sales, and 63 in HR.\n",
    "\n",
    "#### Overall attrition rate\n",
    "\n",
    "The Attrition column is binary. No means that the employee is still with the company, Yes means the employee has left.\n",
    "\n",
    "Similar to before, we can compute the occurrence of each unique value by passing the value_counts method. To get the attrition rate, which is the proportion of employees that have left the company, we use the additional argument, `normalize=True`."
   ]
  },
  {
   "cell_type": "code",
   "execution_count": 24,
   "metadata": {},
   "outputs": [
    {
     "data": {
      "text/plain": [
       "No     0.838776\n",
       "Yes    0.161224\n",
       "Name: Attrition, dtype: float64"
      ]
     },
     "execution_count": 24,
     "metadata": {},
     "output_type": "execute_result"
    }
   ],
   "source": [
    "# Overall attrition rate\n",
    "normalized_count = data['Attrition'].value_counts(normalize=True)\n",
    "normalized_count"
   ]
  },
  {
   "cell_type": "markdown",
   "metadata": {},
   "source": [
    "This gives the percentage of `No`s and `Yes`s. To get just the attrition rate (only the `Yes`s), we use the associated label:"
   ]
  },
  {
   "cell_type": "code",
   "execution_count": 25,
   "metadata": {},
   "outputs": [
    {
     "data": {
      "text/plain": [
       "0.16122448979591836"
      ]
     },
     "execution_count": 25,
     "metadata": {},
     "output_type": "execute_result"
    }
   ],
   "source": [
    "normalized_count['Yes']"
   ]
  },
  {
   "cell_type": "markdown",
   "metadata": {},
   "source": [
    "We have an attrition rate of 16.12%…not too bad!\n",
    "\n",
    "#### Average hourly rate\n",
    "\n",
    "There are a lot of statistical methods that you can use in `pandas` series. One of the statistical methods that you will use often is the `mean` method, which computes the mean of your `pandas` series:"
   ]
  },
  {
   "cell_type": "code",
   "execution_count": 26,
   "metadata": {},
   "outputs": [
    {
     "data": {
      "text/plain": [
       "65.89115646258503"
      ]
     },
     "execution_count": 26,
     "metadata": {},
     "output_type": "execute_result"
    }
   ],
   "source": [
    "# Average hourly rate\n",
    "data['HourlyRate'].mean()"
   ]
  },
  {
   "cell_type": "markdown",
   "metadata": {},
   "source": [
    "Using this method, we find that the mean for the `HourlyRate` variable is 65.89.\n",
    "\n",
    "#### Average number of years\n",
    "\n",
    "To get the average number of years at the company, you can use the mean method again. However, there is another very useful method by which you get not only the mean, but also many other descriptive statistics of the series. This method is known as the `describe()` method."
   ]
  },
  {
   "cell_type": "code",
   "execution_count": 27,
   "metadata": {},
   "outputs": [
    {
     "data": {
      "text/plain": [
       "count    1470.000000\n",
       "mean        7.008163\n",
       "std         6.126525\n",
       "min         0.000000\n",
       "25%         3.000000\n",
       "50%         5.000000\n",
       "75%         9.000000\n",
       "max        40.000000\n",
       "Name: YearsAtCompany, dtype: float64"
      ]
     },
     "execution_count": 27,
     "metadata": {},
     "output_type": "execute_result"
    }
   ],
   "source": [
    "# Average number of years\n",
    "data['YearsAtCompany'].describe()"
   ]
  },
  {
   "cell_type": "markdown",
   "metadata": {},
   "source": [
    "This returns the mean as 7 years, as well as the standard deviation, the minimum, the maximum, and the percentiles. This handy method can also be used on the entire DataFrame!\n",
    "\n",
    "#### Employees with the most number of years\n",
    "\n",
    "The `sort_values` method will sort the values of a series in ascending order by default. If you don't want them in ascending order, you can specify this argument to be `False`. As always, it will display the whole list of data, so we have used the slicenotation to get the first five elements in the `Series`:"
   ]
  },
  {
   "cell_type": "code",
   "execution_count": 28,
   "metadata": {},
   "outputs": [
    {
     "data": {
      "text/plain": [
       "EmployeeNumber\n",
       "165     40\n",
       "131     37\n",
       "374     36\n",
       "1578    36\n",
       "776     34\n",
       "Name: YearsAtCompany, dtype: int64"
      ]
     },
     "execution_count": 28,
     "metadata": {},
     "output_type": "execute_result"
    }
   ],
   "source": [
    "# Employees with the most number of years\n",
    "data['YearsAtCompany'].sort_values(ascending=False)[:5]"
   ]
  },
  {
   "cell_type": "markdown",
   "metadata": {},
   "source": [
    "Wow, employee number 165 has been with the company for 40 years!\n",
    "\n",
    "#### Overall employee satisfaction\n",
    "\n",
    "The column `JobSatisfaction` stores each employees’ satisfaction ratings ranging from 1 (low) to 4 (very high). We don’t want to report numbers to the HR director though.. rather, we want to report what each number means.\n",
    "\n",
    "Let’s create a dictionary to store what each number corresponds to."
   ]
  },
  {
   "cell_type": "code",
   "execution_count": 29,
   "metadata": {},
   "outputs": [],
   "source": [
    "# Overall employee satisfaction\n",
    "job_satisfaction_dict = {\n",
    "    1: 'Low',\n",
    "    2: 'Medium',\n",
    "    3: 'High',\n",
    "    4: 'Very High'\n",
    "}"
   ]
  },
  {
   "cell_type": "markdown",
   "metadata": {},
   "source": [
    "Now we map the values in our pandas series `data['JobSatisfaction']` to their respective meanings using `map()` – that is, 1 will be transformed into `Low`, 2 to `Medium`, and so on. Then, we reassign the original series with the new mapped series."
   ]
  },
  {
   "cell_type": "code",
   "execution_count": 30,
   "metadata": {},
   "outputs": [
    {
     "data": {
      "text/plain": [
       "EmployeeNumber\n",
       "1    Very High\n",
       "2       Medium\n",
       "4         High\n",
       "5         High\n",
       "7       Medium\n",
       "Name: JobSatisfaction, dtype: object"
      ]
     },
     "execution_count": 30,
     "metadata": {},
     "output_type": "execute_result"
    }
   ],
   "source": [
    "data['JobSatisfaction'] = data['JobSatisfaction'].map(job_satisfaction_dict)\n",
    "data['JobSatisfaction'].head()"
   ]
  },
  {
   "cell_type": "markdown",
   "metadata": {},
   "source": [
    "As you can see in the output, we have replaced the numerical values 1 to 4 with their English meanings.\n",
    "\n",
    "Finally, we need to get the normalized count –"
   ]
  },
  {
   "cell_type": "code",
   "execution_count": 31,
   "metadata": {},
   "outputs": [
    {
     "data": {
      "text/plain": [
       "Very High    0.312245\n",
       "High         0.300680\n",
       "Low          0.196599\n",
       "Medium       0.190476\n",
       "Name: JobSatisfaction, dtype: float64"
      ]
     },
     "execution_count": 31,
     "metadata": {},
     "output_type": "execute_result"
    }
   ],
   "source": [
    "data['JobSatisfaction'].value_counts(normalize=True)"
   ]
  },
  {
   "cell_type": "markdown",
   "metadata": {},
   "source": [
    "Excellent, 31% of employees have Very High job satisfaction!\n",
    "\n",
    "Now, try to answer some questions on your own!\n",
    "\n",
    "Find the total number of employees in each education field (`EducationField` column)."
   ]
  },
  {
   "cell_type": "code",
   "execution_count": 32,
   "metadata": {
    "eid": "a4b18eb3"
   },
   "outputs": [
    {
     "data": {
      "text/plain": [
       "Life Sciences       606\n",
       "Medical             464\n",
       "Marketing           159\n",
       "Technical Degree    132\n",
       "Other                82\n",
       "Human Resources      27\n",
       "Name: EducationField, dtype: int64"
      ]
     },
     "execution_count": 32,
     "metadata": {},
     "output_type": "execute_result"
    }
   ],
   "source": [
    "# TASK --- Employees per education field\n",
    "data['EducationField'].value_counts()"
   ]
  },
  {
   "cell_type": "markdown",
   "metadata": {},
   "source": [
    "Find the count of employees per performance rating (`PerformanceRating` column). Map the values to their respective meanings (`1: 'Low', 2: 'Good', 3: 'Excellent', 4: 'Outstanding'`)."
   ]
  },
  {
   "cell_type": "code",
   "execution_count": 33,
   "metadata": {
    "eid": "5bcc45f3"
   },
   "outputs": [
    {
     "data": {
      "text/plain": [
       "Excellent      1244\n",
       "Outstanding     226\n",
       "Name: PerformanceRating, dtype: int64"
      ]
     },
     "execution_count": 33,
     "metadata": {},
     "output_type": "execute_result"
    }
   ],
   "source": [
    "# TASK ---  Employees per performance rating\n",
    "performance_rating_dict = {\n",
    "    1 : 'Low',\n",
    "    2 : 'Good',\n",
    "    3 : 'Excellent',\n",
    "    4 : 'Outstanding',\n",
    "}\n",
    "\n",
    "data['PerformanceRating'] = data['PerformanceRating'].map(performance_rating_dict)\n",
    "data['PerformanceRating'].value_counts()"
   ]
  },
  {
   "cell_type": "markdown",
   "metadata": {},
   "source": [
    "## IV. Answering complex questions\n",
    "\n",
    "The HR director is happy with your responses to the first round of questions… but now wants to know a little more about the employees. The following are the new tasks assigned to you:\n",
    "\n",
    "- List the employees who have a Low level of `JobSatisfaction`\n",
    "- List the employees who have a Low level of both `JobSatisfaction` and `JobInvolvement`\n",
    "- Compare the employees with `Low` and `Very High` `JobSatisfaction` across the following variables: `Age`, `Department`, and `DistanceFromHome`\n",
    "\n",
    "#### Employees with Low Job Satisfaction\n",
    "\n",
    "To answer this question, we use a boolean series to index a series or a DataFrame. This is called masking, or boolean indexing. First, we use the comparison operator == to compare the pandas series (the `Jobsatisfaction` column of our DataFrame) with a value (`‘Low’`), as follows:"
   ]
  },
  {
   "cell_type": "code",
   "execution_count": 34,
   "metadata": {
    "scrolled": true
   },
   "outputs": [
    {
     "data": {
      "text/plain": [
       "EmployeeNumber\n",
       "1       False\n",
       "2       False\n",
       "4       False\n",
       "5       False\n",
       "7       False\n",
       "8       False\n",
       "10       True\n",
       "11      False\n",
       "12      False\n",
       "13      False\n",
       "14      False\n",
       "15      False\n",
       "16      False\n",
       "18      False\n",
       "19      False\n",
       "20       True\n",
       "21      False\n",
       "22      False\n",
       "23      False\n",
       "24      False\n",
       "26      False\n",
       "27       True\n",
       "28      False\n",
       "30      False\n",
       "31       True\n",
       "32      False\n",
       "33       True\n",
       "35      False\n",
       "36      False\n",
       "38       True\n",
       "        ...  \n",
       "2025    False\n",
       "2026    False\n",
       "2027    False\n",
       "2031    False\n",
       "2032    False\n",
       "2034    False\n",
       "2035    False\n",
       "2036    False\n",
       "2037    False\n",
       "2038     True\n",
       "2040    False\n",
       "2041    False\n",
       "2044    False\n",
       "2045    False\n",
       "2046    False\n",
       "2048    False\n",
       "2049    False\n",
       "2051    False\n",
       "2052    False\n",
       "2053    False\n",
       "2054     True\n",
       "2055     True\n",
       "2056    False\n",
       "2057     True\n",
       "2060    False\n",
       "2061    False\n",
       "2062     True\n",
       "2064    False\n",
       "2065    False\n",
       "2068    False\n",
       "Name: JobSatisfaction, Length: 1470, dtype: bool"
      ]
     },
     "execution_count": 34,
     "metadata": {},
     "output_type": "execute_result"
    }
   ],
   "source": [
    "# Employees with Low Job Satisfaction\n",
    "data['JobSatisfaction'] == 'Low'"
   ]
  },
  {
   "cell_type": "markdown",
   "metadata": {},
   "source": [
    "This will return a boolean series with the values `True` or `False` for each employee. True is where the value of `JobSatisfaction` for an employee is equal to `Low` and `False` is when the values are not equal to Low.\n",
    "\n",
    "You can use this boolean series to index another object to get back a new series or DataFrame with the observations where you have `True` values."
   ]
  },
  {
   "cell_type": "code",
   "execution_count": 35,
   "metadata": {},
   "outputs": [
    {
     "data": {
      "text/plain": [
       "Int64Index([  10,   20,   27,   31,   33,   38,   51,   52,   54,   68,\n",
       "            ...\n",
       "            1975, 1980, 1998, 2021, 2023, 2038, 2054, 2055, 2057, 2062],\n",
       "           dtype='int64', name='EmployeeNumber', length=289)"
      ]
     },
     "execution_count": 35,
     "metadata": {},
     "output_type": "execute_result"
    }
   ],
   "source": [
    "data.loc[data['JobSatisfaction'] == 'Low'].index"
   ]
  },
  {
   "cell_type": "markdown",
   "metadata": {},
   "source": [
    "Let’s break this down – we used the boolean series `data['JobSatisfaction'] == 'Low’` to index our DataFrame data using the `loc` method. This by itself gives us data in all columns for employees with low `JobSatisfaction`. However, we only want the employee number. So by calling the index attribute, we return a list of employees with low `JobSatisfaction`.\n",
    "\n",
    "#### Employees with both Low Job Satisfaction and Job Involvement\n",
    "The JobInvolvement column has the same properties as the JobSatisfaction column, so instead of the categories, we have the corresponding numbers. We will first apply the map transformations that we applied previously to the JobSatisfaction column"
   ]
  },
  {
   "cell_type": "code",
   "execution_count": 36,
   "metadata": {},
   "outputs": [],
   "source": [
    "# Employees with both Low Job Satisfaction and Job Involvement\n",
    "job_involvement_dict = {\n",
    "    1: 'Low',\n",
    "    2: 'Medium',\n",
    "    3: 'High',\n",
    "    4: 'Very High'\n",
    "}\n",
    "\n",
    "data['JobInvolvement'] = data['JobInvolvement'].map(job_involvement_dict)"
   ]
  },
  {
   "cell_type": "markdown",
   "metadata": {},
   "source": [
    "We can use an & logical operator to run the operation on two boolean series to get the list of employees with low `JobSatisfaction` and low `JobInvolvement`. Again, we will use the loc selection method and the index attribute to get the specific requirements:"
   ]
  },
  {
   "cell_type": "code",
   "execution_count": 37,
   "metadata": {},
   "outputs": [
    {
     "data": {
      "text/plain": [
       "Int64Index([33, 235, 454, 615, 1019, 1037, 1237, 1460, 1478, 1544, 1611, 1622,\n",
       "            1905, 1956],\n",
       "           dtype='int64', name='EmployeeNumber')"
      ]
     },
     "execution_count": 37,
     "metadata": {},
     "output_type": "execute_result"
    }
   ],
   "source": [
    "data.loc[(data['JobSatisfaction'] == 'Low') & (data['JobInvolvement'] == 'Low')].index"
   ]
  },
  {
   "cell_type": "markdown",
   "metadata": {},
   "source": [
    "Great, you can now report back with this list of 14 employees with low job satisfaction and low job involvement!\n",
    "\n",
    "#### Employee comparison\n",
    "\n",
    "Now we will compare the employees with Low and Very High `JobSatisfaction` levels. We will compare these two groups across the following variables: `Age`, `Department`, and `DistanceFromHome`.\n",
    "\n",
    "First, let’s create a new DataFrame that contains only those observations that we are interested in – those with Low or Very High `JobSatisfaction`."
   ]
  },
  {
   "cell_type": "code",
   "execution_count": 38,
   "metadata": {},
   "outputs": [
    {
     "name": "stdout",
     "output_type": "stream",
     "text": [
      "Shape:  (748, 33)\n",
      "\n",
      "Job Satisfaction Count\n",
      "Very High    459\n",
      "Low          289\n",
      "Name: JobSatisfaction, dtype: int64\n"
     ]
    }
   ],
   "source": [
    "# Employee comparison\n",
    "## Create new DataFrame with observations of interest\n",
    "subset = data.loc[(data['JobSatisfaction'] == 'Low') | (data['JobSatisfaction'] == 'Very High')]\n",
    "print('Shape: ', subset.shape)\n",
    "print('\\nJob Satisfaction Count')\n",
    "print(subset['JobSatisfaction'].value_counts())"
   ]
  },
  {
   "cell_type": "markdown",
   "metadata": {},
   "source": [
    "The above snippet created a new DataFrame subset using the `|` (`“or”`) operator. We can see that there are 748 observations in this new DataFrame, with 459 employees having very high job satisfaction and 289 having low job satisfaction.\n",
    "\n",
    "Now that we’ve narrowed down to the necessary observations, we can apply a `groupby` operation. `Groupby` applies a sequence of actions – split, apply, and combine.\n",
    "\n",
    "Split the DataFrame into a group of DataFrames across any axis based on some criteria. This produces a `GroupBy` object that has a structure similar to a dictionary, where every group is associated with a different key.\n",
    "\n",
    "Apply a function (e.g. mean, sum, count) to groups in this `GroupBy` object.\n",
    "\n",
    "Combine the results of the function into a new data structure.\n",
    "\n",
    "Let’s give it a try!"
   ]
  },
  {
   "cell_type": "code",
   "execution_count": 39,
   "metadata": {},
   "outputs": [
    {
     "data": {
      "text/plain": [
       "{'Low': Int64Index([  10,   20,   27,   31,   33,   38,   51,   52,   54,   68,\n",
       "             ...\n",
       "             1975, 1980, 1998, 2021, 2023, 2038, 2054, 2055, 2057, 2062],\n",
       "            dtype='int64', name='EmployeeNumber', length=289),\n",
       " 'Very High': Int64Index([   1,    8,   18,   22,   23,   24,   30,   36,   39,   40,\n",
       "             ...\n",
       "             2022, 2024, 2027, 2036, 2040, 2041, 2045, 2052, 2056, 2061],\n",
       "            dtype='int64', name='EmployeeNumber', length=459)}"
      ]
     },
     "execution_count": 39,
     "metadata": {},
     "output_type": "execute_result"
    }
   ],
   "source": [
    "## Split DataFrame by 'JobSatisfaction'\n",
    "grouped = subset.groupby('JobSatisfaction')\n",
    "\n",
    "## View groups in GroupBy object\n",
    "grouped.groups"
   ]
  },
  {
   "cell_type": "markdown",
   "metadata": {},
   "source": [
    "Using `groupby` to split our `subset` DataFrame by `JobSatisfaction`, we have created a `GroupBy` object called grouped. By applying the groups method to this newly created object, we see that we have two groups – Low and Very High (since these are the two possible values of `JobSatisfaction`).\n",
    "\n",
    "If you want to actually get the data associated with every group, you can use the get_group method. For example, if you use the get_group method with the Low key, you will get the DataFrame associated with the Low group."
   ]
  },
  {
   "cell_type": "code",
   "execution_count": 40,
   "metadata": {},
   "outputs": [
    {
     "data": {
      "text/html": [
       "<div>\n",
       "<style scoped>\n",
       "    .dataframe tbody tr th:only-of-type {\n",
       "        vertical-align: middle;\n",
       "    }\n",
       "\n",
       "    .dataframe tbody tr th {\n",
       "        vertical-align: top;\n",
       "    }\n",
       "\n",
       "    .dataframe thead th {\n",
       "        text-align: right;\n",
       "    }\n",
       "</style>\n",
       "<table border=\"1\" class=\"dataframe\">\n",
       "  <thead>\n",
       "    <tr style=\"text-align: right;\">\n",
       "      <th></th>\n",
       "      <th>Age</th>\n",
       "      <th>Attrition</th>\n",
       "      <th>BusinessTravel</th>\n",
       "      <th>DailyRate</th>\n",
       "      <th>Department</th>\n",
       "      <th>DistanceFromHome</th>\n",
       "      <th>Education</th>\n",
       "      <th>EducationField</th>\n",
       "      <th>EnvironmentSatisfaction</th>\n",
       "      <th>Gender</th>\n",
       "      <th>...</th>\n",
       "      <th>RelationshipSatisfaction</th>\n",
       "      <th>StandardHours</th>\n",
       "      <th>StockOptionLevel</th>\n",
       "      <th>TotalWorkingYears</th>\n",
       "      <th>TrainingTimesLastYear</th>\n",
       "      <th>WorkLifeBalance</th>\n",
       "      <th>YearsAtCompany</th>\n",
       "      <th>YearsInCurrentRole</th>\n",
       "      <th>YearsSinceLastPromotion</th>\n",
       "      <th>YearsWithCurrManager</th>\n",
       "    </tr>\n",
       "    <tr>\n",
       "      <th>EmployeeNumber</th>\n",
       "      <th></th>\n",
       "      <th></th>\n",
       "      <th></th>\n",
       "      <th></th>\n",
       "      <th></th>\n",
       "      <th></th>\n",
       "      <th></th>\n",
       "      <th></th>\n",
       "      <th></th>\n",
       "      <th></th>\n",
       "      <th></th>\n",
       "      <th></th>\n",
       "      <th></th>\n",
       "      <th></th>\n",
       "      <th></th>\n",
       "      <th></th>\n",
       "      <th></th>\n",
       "      <th></th>\n",
       "      <th></th>\n",
       "      <th></th>\n",
       "      <th></th>\n",
       "    </tr>\n",
       "  </thead>\n",
       "  <tbody>\n",
       "    <tr>\n",
       "      <th>10</th>\n",
       "      <td>59</td>\n",
       "      <td>No</td>\n",
       "      <td>Travel_Rarely</td>\n",
       "      <td>1324</td>\n",
       "      <td>Research &amp; Development</td>\n",
       "      <td>3</td>\n",
       "      <td>3</td>\n",
       "      <td>Medical</td>\n",
       "      <td>3</td>\n",
       "      <td>Female</td>\n",
       "      <td>...</td>\n",
       "      <td>1</td>\n",
       "      <td>80</td>\n",
       "      <td>3</td>\n",
       "      <td>12</td>\n",
       "      <td>3</td>\n",
       "      <td>2</td>\n",
       "      <td>1</td>\n",
       "      <td>0</td>\n",
       "      <td>0</td>\n",
       "      <td>0</td>\n",
       "    </tr>\n",
       "    <tr>\n",
       "      <th>20</th>\n",
       "      <td>29</td>\n",
       "      <td>No</td>\n",
       "      <td>Travel_Rarely</td>\n",
       "      <td>1389</td>\n",
       "      <td>Research &amp; Development</td>\n",
       "      <td>21</td>\n",
       "      <td>4</td>\n",
       "      <td>Life Sciences</td>\n",
       "      <td>2</td>\n",
       "      <td>Female</td>\n",
       "      <td>...</td>\n",
       "      <td>3</td>\n",
       "      <td>80</td>\n",
       "      <td>1</td>\n",
       "      <td>10</td>\n",
       "      <td>1</td>\n",
       "      <td>3</td>\n",
       "      <td>10</td>\n",
       "      <td>9</td>\n",
       "      <td>8</td>\n",
       "      <td>8</td>\n",
       "    </tr>\n",
       "    <tr>\n",
       "      <th>27</th>\n",
       "      <td>36</td>\n",
       "      <td>Yes</td>\n",
       "      <td>Travel_Rarely</td>\n",
       "      <td>1218</td>\n",
       "      <td>Sales</td>\n",
       "      <td>9</td>\n",
       "      <td>4</td>\n",
       "      <td>Life Sciences</td>\n",
       "      <td>3</td>\n",
       "      <td>Male</td>\n",
       "      <td>...</td>\n",
       "      <td>2</td>\n",
       "      <td>80</td>\n",
       "      <td>0</td>\n",
       "      <td>10</td>\n",
       "      <td>4</td>\n",
       "      <td>3</td>\n",
       "      <td>5</td>\n",
       "      <td>3</td>\n",
       "      <td>0</td>\n",
       "      <td>3</td>\n",
       "    </tr>\n",
       "    <tr>\n",
       "      <th>31</th>\n",
       "      <td>34</td>\n",
       "      <td>Yes</td>\n",
       "      <td>Travel_Rarely</td>\n",
       "      <td>699</td>\n",
       "      <td>Research &amp; Development</td>\n",
       "      <td>6</td>\n",
       "      <td>1</td>\n",
       "      <td>Medical</td>\n",
       "      <td>2</td>\n",
       "      <td>Male</td>\n",
       "      <td>...</td>\n",
       "      <td>3</td>\n",
       "      <td>80</td>\n",
       "      <td>0</td>\n",
       "      <td>8</td>\n",
       "      <td>2</td>\n",
       "      <td>3</td>\n",
       "      <td>4</td>\n",
       "      <td>2</td>\n",
       "      <td>1</td>\n",
       "      <td>3</td>\n",
       "    </tr>\n",
       "    <tr>\n",
       "      <th>33</th>\n",
       "      <td>32</td>\n",
       "      <td>Yes</td>\n",
       "      <td>Travel_Frequently</td>\n",
       "      <td>1125</td>\n",
       "      <td>Research &amp; Development</td>\n",
       "      <td>16</td>\n",
       "      <td>1</td>\n",
       "      <td>Life Sciences</td>\n",
       "      <td>2</td>\n",
       "      <td>Female</td>\n",
       "      <td>...</td>\n",
       "      <td>2</td>\n",
       "      <td>80</td>\n",
       "      <td>0</td>\n",
       "      <td>10</td>\n",
       "      <td>5</td>\n",
       "      <td>3</td>\n",
       "      <td>10</td>\n",
       "      <td>2</td>\n",
       "      <td>6</td>\n",
       "      <td>7</td>\n",
       "    </tr>\n",
       "  </tbody>\n",
       "</table>\n",
       "<p>5 rows × 33 columns</p>\n",
       "</div>"
      ],
      "text/plain": [
       "                Age Attrition     BusinessTravel  DailyRate  \\\n",
       "EmployeeNumber                                                \n",
       "10               59        No      Travel_Rarely       1324   \n",
       "20               29        No      Travel_Rarely       1389   \n",
       "27               36       Yes      Travel_Rarely       1218   \n",
       "31               34       Yes      Travel_Rarely        699   \n",
       "33               32       Yes  Travel_Frequently       1125   \n",
       "\n",
       "                            Department  DistanceFromHome  Education  \\\n",
       "EmployeeNumber                                                        \n",
       "10              Research & Development                 3          3   \n",
       "20              Research & Development                21          4   \n",
       "27                               Sales                 9          4   \n",
       "31              Research & Development                 6          1   \n",
       "33              Research & Development                16          1   \n",
       "\n",
       "               EducationField  EnvironmentSatisfaction  Gender  ...  \\\n",
       "EmployeeNumber                                                  ...   \n",
       "10                    Medical                        3  Female  ...   \n",
       "20              Life Sciences                        2  Female  ...   \n",
       "27              Life Sciences                        3    Male  ...   \n",
       "31                    Medical                        2    Male  ...   \n",
       "33              Life Sciences                        2  Female  ...   \n",
       "\n",
       "                RelationshipSatisfaction StandardHours  StockOptionLevel  \\\n",
       "EmployeeNumber                                                             \n",
       "10                                     1            80                 3   \n",
       "20                                     3            80                 1   \n",
       "27                                     2            80                 0   \n",
       "31                                     3            80                 0   \n",
       "33                                     2            80                 0   \n",
       "\n",
       "               TotalWorkingYears TrainingTimesLastYear WorkLifeBalance  \\\n",
       "EmployeeNumber                                                           \n",
       "10                            12                     3               2   \n",
       "20                            10                     1               3   \n",
       "27                            10                     4               3   \n",
       "31                             8                     2               3   \n",
       "33                            10                     5               3   \n",
       "\n",
       "                YearsAtCompany  YearsInCurrentRole  YearsSinceLastPromotion  \\\n",
       "EmployeeNumber                                                                \n",
       "10                           1                   0                        0   \n",
       "20                          10                   9                        8   \n",
       "27                           5                   3                        0   \n",
       "31                           4                   2                        1   \n",
       "33                          10                   2                        6   \n",
       "\n",
       "               YearsWithCurrManager  \n",
       "EmployeeNumber                       \n",
       "10                                0  \n",
       "20                                8  \n",
       "27                                3  \n",
       "31                                3  \n",
       "33                                7  \n",
       "\n",
       "[5 rows x 33 columns]"
      ]
     },
     "execution_count": 40,
     "metadata": {},
     "output_type": "execute_result"
    }
   ],
   "source": [
    "## View details of Low group\n",
    "grouped.get_group('Low').head()"
   ]
  },
  {
   "cell_type": "markdown",
   "metadata": {},
   "source": [
    "Now, we can apply a function to each group in our new object. To compare `Age`, let’s apply the describe method to get summary statistics for each group –"
   ]
  },
  {
   "cell_type": "code",
   "execution_count": 41,
   "metadata": {},
   "outputs": [
    {
     "data": {
      "text/html": [
       "<div>\n",
       "<style scoped>\n",
       "    .dataframe tbody tr th:only-of-type {\n",
       "        vertical-align: middle;\n",
       "    }\n",
       "\n",
       "    .dataframe tbody tr th {\n",
       "        vertical-align: top;\n",
       "    }\n",
       "\n",
       "    .dataframe thead th {\n",
       "        text-align: right;\n",
       "    }\n",
       "</style>\n",
       "<table border=\"1\" class=\"dataframe\">\n",
       "  <thead>\n",
       "    <tr style=\"text-align: right;\">\n",
       "      <th></th>\n",
       "      <th>count</th>\n",
       "      <th>mean</th>\n",
       "      <th>std</th>\n",
       "      <th>min</th>\n",
       "      <th>25%</th>\n",
       "      <th>50%</th>\n",
       "      <th>75%</th>\n",
       "      <th>max</th>\n",
       "    </tr>\n",
       "    <tr>\n",
       "      <th>JobSatisfaction</th>\n",
       "      <th></th>\n",
       "      <th></th>\n",
       "      <th></th>\n",
       "      <th></th>\n",
       "      <th></th>\n",
       "      <th></th>\n",
       "      <th></th>\n",
       "      <th></th>\n",
       "    </tr>\n",
       "  </thead>\n",
       "  <tbody>\n",
       "    <tr>\n",
       "      <th>Low</th>\n",
       "      <td>289.0</td>\n",
       "      <td>36.916955</td>\n",
       "      <td>9.245496</td>\n",
       "      <td>19.0</td>\n",
       "      <td>30.0</td>\n",
       "      <td>36.0</td>\n",
       "      <td>42.0</td>\n",
       "      <td>60.0</td>\n",
       "    </tr>\n",
       "    <tr>\n",
       "      <th>Very High</th>\n",
       "      <td>459.0</td>\n",
       "      <td>36.795207</td>\n",
       "      <td>9.125609</td>\n",
       "      <td>18.0</td>\n",
       "      <td>30.0</td>\n",
       "      <td>35.0</td>\n",
       "      <td>43.0</td>\n",
       "      <td>60.0</td>\n",
       "    </tr>\n",
       "  </tbody>\n",
       "</table>\n",
       "</div>"
      ],
      "text/plain": [
       "                 count       mean       std   min   25%   50%   75%   max\n",
       "JobSatisfaction                                                          \n",
       "Low              289.0  36.916955  9.245496  19.0  30.0  36.0  42.0  60.0\n",
       "Very High        459.0  36.795207  9.125609  18.0  30.0  35.0  43.0  60.0"
      ]
     },
     "execution_count": 41,
     "metadata": {},
     "output_type": "execute_result"
    }
   ],
   "source": [
    "## Get summary statistics for age for each group\n",
    "grouped['Age'].describe()"
   ]
  },
  {
   "cell_type": "markdown",
   "metadata": {},
   "source": [
    "This gives us the mean, max, min, etc. for the age of employees in each group!\n",
    "\n",
    "Next, to compare department distribution for each group, we can use the `value_counts` method and the `normalize` operation to get percentages. We will also multiply values by 100 to format the values as percentages."
   ]
  },
  {
   "cell_type": "code",
   "execution_count": 42,
   "metadata": {},
   "outputs": [
    {
     "data": {
      "text/plain": [
       "JobSatisfaction  Department            \n",
       "Low              Research & Development    66.435986\n",
       "                 Sales                     29.757785\n",
       "                 Human Resources            3.806228\n",
       "Very High        Research & Development    64.270153\n",
       "                 Sales                     32.026144\n",
       "                 Human Resources            3.703704\n",
       "Name: Department, dtype: float64"
      ]
     },
     "execution_count": 42,
     "metadata": {},
     "output_type": "execute_result"
    }
   ],
   "source": [
    "## Get employee count per department for each group\n",
    "grouped['Department'].value_counts(normalize=True) * 100"
   ]
  },
  {
   "cell_type": "markdown",
   "metadata": {},
   "source": [
    "This returns a series with a multi-level index – the first level index is the group Low or Very High, the second level index is the department. We can unstack this to create a single index DataFrame –"
   ]
  },
  {
   "cell_type": "code",
   "execution_count": 43,
   "metadata": {},
   "outputs": [
    {
     "data": {
      "text/html": [
       "<div>\n",
       "<style scoped>\n",
       "    .dataframe tbody tr th:only-of-type {\n",
       "        vertical-align: middle;\n",
       "    }\n",
       "\n",
       "    .dataframe tbody tr th {\n",
       "        vertical-align: top;\n",
       "    }\n",
       "\n",
       "    .dataframe thead th {\n",
       "        text-align: right;\n",
       "    }\n",
       "</style>\n",
       "<table border=\"1\" class=\"dataframe\">\n",
       "  <thead>\n",
       "    <tr style=\"text-align: right;\">\n",
       "      <th>Department</th>\n",
       "      <th>Human Resources</th>\n",
       "      <th>Research &amp; Development</th>\n",
       "      <th>Sales</th>\n",
       "    </tr>\n",
       "    <tr>\n",
       "      <th>JobSatisfaction</th>\n",
       "      <th></th>\n",
       "      <th></th>\n",
       "      <th></th>\n",
       "    </tr>\n",
       "  </thead>\n",
       "  <tbody>\n",
       "    <tr>\n",
       "      <th>Low</th>\n",
       "      <td>3.806228</td>\n",
       "      <td>66.435986</td>\n",
       "      <td>29.757785</td>\n",
       "    </tr>\n",
       "    <tr>\n",
       "      <th>Very High</th>\n",
       "      <td>3.703704</td>\n",
       "      <td>64.270153</td>\n",
       "      <td>32.026144</td>\n",
       "    </tr>\n",
       "  </tbody>\n",
       "</table>\n",
       "</div>"
      ],
      "text/plain": [
       "Department       Human Resources  Research & Development      Sales\n",
       "JobSatisfaction                                                    \n",
       "Low                     3.806228               66.435986  29.757785\n",
       "Very High               3.703704               64.270153  32.026144"
      ]
     },
     "execution_count": 43,
     "metadata": {},
     "output_type": "execute_result"
    }
   ],
   "source": [
    "grouped['Department'].value_counts(normalize=True).unstack() * 100"
   ]
  },
  {
   "cell_type": "markdown",
   "metadata": {},
   "source": [
    "Great, now we can see that for employees with low job satisfaction, 3.8% are in HR, 66.4% are in R&D, and 29.8% are in `Sales`… and for employees with high job satisfaction, these percentages are 3.7%, 64.3%, and 32%.\n",
    "\n",
    "Finally, for the `DistanceFromHome` comparison, let’s get the mean for each group. See if you can do this on your own!\n",
    "\n",
    "Find the mean distance from home for employees with Low and Very High `JobSatisfaction`."
   ]
  },
  {
   "cell_type": "code",
   "execution_count": 44,
   "metadata": {
    "eid": "b3270ac4"
   },
   "outputs": [
    {
     "data": {
      "text/plain": [
       "JobSatisfaction\n",
       "Low          9.190311\n",
       "Very High    9.030501\n",
       "Name: DistanceFromHome, dtype: float64"
      ]
     },
     "execution_count": 44,
     "metadata": {},
     "output_type": "execute_result"
    }
   ],
   "source": [
    "# TASK --- Get mean distance from home for each group\n",
    "grouped['DistanceFromHome'].mean()"
   ]
  }
 ],
 "metadata": {
  "kernelspec": {
   "display_name": "Python 3",
   "language": "python",
   "name": "python3"
  },
  "language_info": {
   "codemirror_mode": {
    "name": "ipython",
    "version": 3
   },
   "file_extension": ".py",
   "mimetype": "text/x-python",
   "name": "python",
   "nbconvert_exporter": "python",
   "pygments_lexer": "ipython3",
   "version": "3.7.2"
  }
 },
 "nbformat": 4,
 "nbformat_minor": 2
}
