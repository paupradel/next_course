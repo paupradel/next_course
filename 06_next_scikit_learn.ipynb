{
 "cells": [
  {
   "cell_type": "markdown",
   "metadata": {},
   "source": [
    "## I. Introduction\n",
    "\n",
    "In this final lesson, we will introduce the basics of machine learning!\n",
    "\n",
    "We will take a look at the machine learning approach to predictive analytics, discuss the various types of machine learning models, then dive deeper into the components of a supervised machine learning model.\n",
    "\n",
    "### What is predictive analytics?\n",
    "Predictive analytics is the use of data combined with techniques from mathematics, statistics, and computer science to make predictions about unknown events. The goal of predictive analytics is to produce a good assessment of what could happen regarding unknown events.\n",
    "\n",
    "The use of predictive analysis has increased drastically in recent years. There are two reasons for this:\n",
    "\n",
    "Technological advancements have given us the means to perform such analysis.\n",
    "It is extremely effective, accurate, and works well.\n",
    "What is machine learning?\n",
    "There are many ways to perform predictive analytics, but one of the most successful tools for doing predictive analytics is machine learning.\n",
    "\n",
    "Machine learning is a sub-field of computer science. It can be simply described as giving a computer the ability to learn without it being explicitly programmed. The field of machine learning has developed many methods to teach computers to perform certain tasks using data, including predictive analytics.\n",
    "\n",
    "It is essential to understand the types of problems one might face when using machine learning. We can separate these learning problems into two broad categories – supervised and unsupervised learning.\n",
    "\n",
    "### Supervised learning\n",
    "In supervised learning, we have variables that can be divided into **input** variables (also commonly known as **features**) and **output** variable (also commonly known as the **target**). The goal is to find an algorithm that learns the relationship between inputs and outputs so that when it is given new inputs, it can predict outputs.\n",
    "\n",
    "Let's consider an example from the student.csv dataset used in the previous lesson. The following screenshot shows the first five rows (using .head()):\n",
    "\n",
    "![Sample](sample.png)\n",
    "\n",
    "\n",
    "If we define one of these variables as the target (say, G3: final grade), and the rest of the variables as the features, then we can use supervised learning to use the features to try to predict a student’s final grade.\n",
    "\n",
    "Supervised learning problems can be further divided into regression and classification problems. **If the target variable is categorical in nature, then it is a classification problem. If the target variable is numerical, then it is a regression problem.**\n",
    "\n",
    "### Unsupervised learning\n",
    "In unsupervised learning, we only have input variables. The goal is to find the underlying structure or distribution to draw inferences. We will not be covering unsupervised learning since the purpose of this lesson is to provide a high level understanding of machine learning and the majority of practical machine learning is supervised.\n",
    "\n",
    "Now that we’ve defined some terms, open up the notebook scikit-learn notebook.ipynb and let’s get started!"
   ]
  },
  {
   "cell_type": "markdown",
   "metadata": {},
   "source": [
    "## II. k - nearest neighbors\n",
    "\n",
    "Throughout this lesson we will be using the scikit-learn library in Python to implement predictive models. First, we will introduce the library, then build a classification model with the iris dataset. Building a classification model with iris is the Hello, world! of machine learning.\n",
    "\n",
    "scikit-learn is the most popular Python library for doing machine learning. It provides a simple and efficient API with tools for data modeling and data analysis. It is built on top of `NumPy`, `SciPy`, and `matplotlib`. We generally do not import the entire library; instead we import only what we need from it.\n",
    "\n",
    "Let’s first import the datasets object, which allows us to load all the datasets that scikit-learn provides, including iris."
   ]
  },
  {
   "cell_type": "code",
   "execution_count": 1,
   "metadata": {},
   "outputs": [
    {
     "data": {
      "application/javascript": [
       "IPython.notebook.set_autosave_interval(5000)"
      ]
     },
     "metadata": {},
     "output_type": "display_data"
    },
    {
     "name": "stdout",
     "output_type": "stream",
     "text": [
      "Autosaving every 5 seconds\n"
     ]
    }
   ],
   "source": [
    "import warnings\n",
    "warnings.filterwarnings('ignore')\n",
    "%autosave 5"
   ]
  },
  {
   "cell_type": "code",
   "execution_count": 2,
   "metadata": {},
   "outputs": [],
   "source": [
    "# Import necessary libraries\n",
    "import pandas as pd\n",
    "import numpy as np\n",
    "import matplotlib.pyplot as plt\n",
    "import seaborn as sns\n",
    "from sklearn import datasets\n",
    "from IPython.display import Latex\n",
    "\n",
    "%matplotlib inline\n",
    "\n",
    "# Import iris data\n",
    "iris = datasets.load_iris()"
   ]
  },
  {
   "cell_type": "markdown",
   "metadata": {},
   "source": [
    "`load_iris()` returns a dictionary-like object – you can find out more here. We will create a pandas DataFrame to store our data:"
   ]
  },
  {
   "cell_type": "code",
   "execution_count": 3,
   "metadata": {},
   "outputs": [
    {
     "data": {
      "text/html": [
       "<div>\n",
       "<style scoped>\n",
       "    .dataframe tbody tr th:only-of-type {\n",
       "        vertical-align: middle;\n",
       "    }\n",
       "\n",
       "    .dataframe tbody tr th {\n",
       "        vertical-align: top;\n",
       "    }\n",
       "\n",
       "    .dataframe thead th {\n",
       "        text-align: right;\n",
       "    }\n",
       "</style>\n",
       "<table border=\"1\" class=\"dataframe\">\n",
       "  <thead>\n",
       "    <tr style=\"text-align: right;\">\n",
       "      <th></th>\n",
       "      <th>sepal length (cm)</th>\n",
       "      <th>sepal width (cm)</th>\n",
       "      <th>petal length (cm)</th>\n",
       "      <th>petal width (cm)</th>\n",
       "      <th>target</th>\n",
       "    </tr>\n",
       "  </thead>\n",
       "  <tbody>\n",
       "    <tr>\n",
       "      <th>0</th>\n",
       "      <td>5.1</td>\n",
       "      <td>3.5</td>\n",
       "      <td>1.4</td>\n",
       "      <td>0.2</td>\n",
       "      <td>setosa</td>\n",
       "    </tr>\n",
       "    <tr>\n",
       "      <th>1</th>\n",
       "      <td>4.9</td>\n",
       "      <td>3.0</td>\n",
       "      <td>1.4</td>\n",
       "      <td>0.2</td>\n",
       "      <td>setosa</td>\n",
       "    </tr>\n",
       "    <tr>\n",
       "      <th>2</th>\n",
       "      <td>4.7</td>\n",
       "      <td>3.2</td>\n",
       "      <td>1.3</td>\n",
       "      <td>0.2</td>\n",
       "      <td>setosa</td>\n",
       "    </tr>\n",
       "    <tr>\n",
       "      <th>3</th>\n",
       "      <td>4.6</td>\n",
       "      <td>3.1</td>\n",
       "      <td>1.5</td>\n",
       "      <td>0.2</td>\n",
       "      <td>setosa</td>\n",
       "    </tr>\n",
       "    <tr>\n",
       "      <th>4</th>\n",
       "      <td>5.0</td>\n",
       "      <td>3.6</td>\n",
       "      <td>1.4</td>\n",
       "      <td>0.2</td>\n",
       "      <td>setosa</td>\n",
       "    </tr>\n",
       "  </tbody>\n",
       "</table>\n",
       "</div>"
      ],
      "text/plain": [
       "   sepal length (cm)  sepal width (cm)  petal length (cm)  petal width (cm)  \\\n",
       "0                5.1               3.5                1.4               0.2   \n",
       "1                4.9               3.0                1.4               0.2   \n",
       "2                4.7               3.2                1.3               0.2   \n",
       "3                4.6               3.1                1.5               0.2   \n",
       "4                5.0               3.6                1.4               0.2   \n",
       "\n",
       "   target  \n",
       "0  setosa  \n",
       "1  setosa  \n",
       "2  setosa  \n",
       "3  setosa  \n",
       "4  setosa  "
      ]
     },
     "execution_count": 3,
     "metadata": {},
     "output_type": "execute_result"
    }
   ],
   "source": [
    "# Create dataframe to store iris data\n",
    "iris_df = pd.DataFrame(data=iris.data, columns=iris.feature_names)\n",
    "iris_df['target'] = iris.target_names[iris.target]\n",
    "\n",
    "iris_df.head()"
   ]
  },
  {
   "cell_type": "markdown",
   "metadata": {},
   "source": [
    "This dataset consists of 50 samples from each of the three species of Iris flowers – 150 observations in total. Each observation has four measurements: `sepal length`, `sepal width`, `petal length`, and `petal width`. The species of Iris (`setosa`, `versicolor`, or `virginica`) is our target that we will try to predict from the four measurements.\n",
    "\n",
    "The main API that is implemented in `scikit-learn` is that of the estimator. An estimator object is an object that contains the model that we can use to learn from the data. We will be using the k-Nearest-Neighbors (kNN) model. This model essentially finds the *k* most similar observations to an “unseen” observation to give a prediction.\n",
    "\n",
    "Since this is a high-level introduction to machine learning, we will be treating models used in this lesson as black boxes – we will not be discussing in detail how these models work behind the scenes, but simply how to implement them.\n",
    "\n",
    "First, let’s import the estimator, then create an instance of this object called the `flower_classifier`:"
   ]
  },
  {
   "cell_type": "code",
   "execution_count": 4,
   "metadata": {},
   "outputs": [],
   "source": [
    "# Import estimator\n",
    "from sklearn.neighbors import KNeighborsClassifier\n",
    "np.random.seed(0)   # setting random seed for reproducibility\n",
    "\n",
    "# Create an instance of the estimator\n",
    "flower_classifier = KNeighborsClassifier(n_neighbors=3)"
   ]
  },
  {
   "cell_type": "markdown",
   "metadata": {},
   "source": [
    "Here, we provide hyperparameters to the object. The `scikit-learn` documentation provides details about the default hyperparameters and how to change them.\n",
    "\n",
    "After this, we use the data that we have to train the estimator – i.e. we will pass in our data so that the model can learn from it. To do this, we use the `fit` method of our estimator object. We pass our features `iris.data` as `X` and our target `iris.target` as `y`:"
   ]
  },
  {
   "cell_type": "code",
   "execution_count": 5,
   "metadata": {},
   "outputs": [
    {
     "data": {
      "text/plain": [
       "KNeighborsClassifier(algorithm='auto', leaf_size=30, metric='minkowski',\n",
       "           metric_params=None, n_jobs=None, n_neighbors=3, p=2,\n",
       "           weights='uniform')"
      ]
     },
     "execution_count": 5,
     "metadata": {},
     "output_type": "execute_result"
    }
   ],
   "source": [
    "# Train our model\n",
    "flower_classifier.fit(X=iris.data, y=iris.target)"
   ]
  },
  {
   "cell_type": "markdown",
   "metadata": {},
   "source": [
    "Now that our model is trained, we can use it to make predictions!\n",
    "\n",
    "Say we found two *iris* flowers and want to know what species they are. We have measured their sepal and petal lengths and widths. Let’s store them in two-dimensional `NumPy` arrays:"
   ]
  },
  {
   "cell_type": "code",
   "execution_count": 6,
   "metadata": {},
   "outputs": [],
   "source": [
    "# Store measurements of new flowers in two-dimensional arrays\n",
    "new_flower1 = np.array([[5.1, 3.0, 1.1, 0.5]])\n",
    "new_flower2 = np.array([[6.0, 2.9, 4.5, 1.1]])"
   ]
  },
  {
   "cell_type": "markdown",
   "metadata": {},
   "source": [
    "To predict the species of these flowers, we pass the `new flower` into predict. The output will be an array with the predicted class label – 0 corresponds to the species `setosa`, 1 corresponds to `versicolor`, and 2 corresponds to `virginica`."
   ]
  },
  {
   "cell_type": "code",
   "execution_count": 7,
   "metadata": {},
   "outputs": [
    {
     "name": "stdout",
     "output_type": "stream",
     "text": [
      "Predicted species of new_flower1: [0]\n",
      "Predicted species of new_flower2: [1]\n"
     ]
    }
   ],
   "source": [
    "# Make predictions\n",
    "new_flower_pred1 = flower_classifier.predict(new_flower1)\n",
    "new_flower_pred2 = flower_classifier.predict(new_flower2)\n",
    "\n",
    "print(f'Predicted species of new_flower1: {new_flower_pred1}')\n",
    "print(f'Predicted species of new_flower2: {new_flower_pred2}')"
   ]
  },
  {
   "cell_type": "markdown",
   "metadata": {},
   "source": [
    "We get an output of  `0` and `1` – therefore, our model has predicted that our first new flower is a `setosa` and our second new flower is a `versicolor`!\n",
    "\n",
    "We can also pass n two-dimensional `NumPy` arrays into predict to make multiple predictions at one – let’s try this with two more new flowers:\n",
    "\n"
   ]
  },
  {
   "cell_type": "code",
   "execution_count": 8,
   "metadata": {},
   "outputs": [
    {
     "name": "stdout",
     "output_type": "stream",
     "text": [
      "Predicted species of new flowers: [0 2]\n"
     ]
    }
   ],
   "source": [
    "# Make more predictions\n",
    "new_flowers = np.array([[5.5, 2.1, 2.0, 0.9],\n",
    "                        [7.2, 3.8, 9.0, 1.9]])\n",
    "\n",
    "new_flowers_pred = flower_classifier.predict(new_flowers)\n",
    "\n",
    "print(f'Predicted species of new flowers: {new_flowers_pred}')"
   ]
  },
  {
   "cell_type": "markdown",
   "metadata": {},
   "source": [
    "Our new flowers are `setosa` and `virginica`!"
   ]
  },
  {
   "cell_type": "markdown",
   "metadata": {},
   "source": [
    "**TASK**\n",
    "\n",
    "You have just collected five new iris flowers and want to know what species of iris they are. You have measured them and their sepal lengths, sepal widths, petal lengths, and petal widths are as follows:\n",
    "\n",
    "1. *4.4, 2.3, 4.66, 0.25*\n",
    "2. *9.47, 8.01, 1.18, 5.38*\n",
    "3. *5.43, 3.01, 6.3, 0.25*\n",
    "4. *6.6, 2.67, 4.61, 0.29*\n",
    "4. *12.85, 3.08, 3.61, 1.56*\n",
    "\n",
    "Using these measurements, predict their species."
   ]
  },
  {
   "cell_type": "code",
   "execution_count": 9,
   "metadata": {},
   "outputs": [
    {
     "name": "stdout",
     "output_type": "stream",
     "text": [
      "Predicted species of new flowers: [1 0 2 1 2]\n"
     ]
    }
   ],
   "source": [
    "# TASK --- Predict species of new flowers\n",
    "\n",
    "my_flowers = np.array([[4.4, 2.3, 4.66, 0.25],\n",
    "                       [9.47, 8.01, 1.18, 5.38],\n",
    "                       [5.43, 3.01, 6.3, 0.25],\n",
    "                       [6.6, 2.67, 4.61, 0.29],\n",
    "                       [12.85, 3.08, 3.61, 1.56]])\n",
    "\n",
    "my_flowers_prediction = flower_classifier.predict(my_flowers)\n",
    "                       \n",
    "print(f'Predicted species of new flowers: {my_flowers_prediction}')"
   ]
  },
  {
   "cell_type": "markdown",
   "metadata": {},
   "source": [
    "The new flowers are `versicolor`, `setosa`, `virginica`, `versicolor`, and `virginica`."
   ]
  },
  {
   "cell_type": "markdown",
   "metadata": {},
   "source": [
    "## III. Logistic regresion\n"
   ]
  },
  {
   "cell_type": "markdown",
   "metadata": {},
   "source": [
    "In the previous step, we created a kNN classification model using `scikit-learn`. Now, we will train a logistic regression model and take a look at how to evaluate models. We will be using the `student.csv` dataset from the previous lesson.\n",
    "\n",
    "**Logistic regression** can be used for classification when the target variable is binary – i.e. when there are only two possible outcomes. Essentially, it learns from training data to decide whether to class an input as `0` or `1` , where `0` and `1` are our two possible outcomes.\n",
    "\n",
    "Let’s first load our dataset (note that the `alc` variable storing the weighted average of alcohol consumption has already been created for you):"
   ]
  },
  {
   "cell_type": "code",
   "execution_count": 10,
   "metadata": {},
   "outputs": [
    {
     "data": {
      "text/html": [
       "<div>\n",
       "<style scoped>\n",
       "    .dataframe tbody tr th:only-of-type {\n",
       "        vertical-align: middle;\n",
       "    }\n",
       "\n",
       "    .dataframe tbody tr th {\n",
       "        vertical-align: top;\n",
       "    }\n",
       "\n",
       "    .dataframe thead th {\n",
       "        text-align: right;\n",
       "    }\n",
       "</style>\n",
       "<table border=\"1\" class=\"dataframe\">\n",
       "  <thead>\n",
       "    <tr style=\"text-align: right;\">\n",
       "      <th></th>\n",
       "      <th>school</th>\n",
       "      <th>sex</th>\n",
       "      <th>age</th>\n",
       "      <th>address</th>\n",
       "      <th>famsize</th>\n",
       "      <th>Pstatus</th>\n",
       "      <th>Medu</th>\n",
       "      <th>Fedu</th>\n",
       "      <th>Mjob</th>\n",
       "      <th>Fjob</th>\n",
       "      <th>...</th>\n",
       "      <th>freetime</th>\n",
       "      <th>goout</th>\n",
       "      <th>Dalc</th>\n",
       "      <th>Walc</th>\n",
       "      <th>health</th>\n",
       "      <th>absences</th>\n",
       "      <th>G1</th>\n",
       "      <th>G2</th>\n",
       "      <th>G3</th>\n",
       "      <th>alc</th>\n",
       "    </tr>\n",
       "  </thead>\n",
       "  <tbody>\n",
       "    <tr>\n",
       "      <th>0</th>\n",
       "      <td>GP</td>\n",
       "      <td>F</td>\n",
       "      <td>18</td>\n",
       "      <td>U</td>\n",
       "      <td>GT3</td>\n",
       "      <td>A</td>\n",
       "      <td>4</td>\n",
       "      <td>4</td>\n",
       "      <td>at_home</td>\n",
       "      <td>teacher</td>\n",
       "      <td>...</td>\n",
       "      <td>3</td>\n",
       "      <td>4</td>\n",
       "      <td>1</td>\n",
       "      <td>1</td>\n",
       "      <td>3</td>\n",
       "      <td>4</td>\n",
       "      <td>0</td>\n",
       "      <td>11</td>\n",
       "      <td>11</td>\n",
       "      <td>Low</td>\n",
       "    </tr>\n",
       "    <tr>\n",
       "      <th>1</th>\n",
       "      <td>GP</td>\n",
       "      <td>F</td>\n",
       "      <td>17</td>\n",
       "      <td>U</td>\n",
       "      <td>GT3</td>\n",
       "      <td>T</td>\n",
       "      <td>1</td>\n",
       "      <td>1</td>\n",
       "      <td>at_home</td>\n",
       "      <td>other</td>\n",
       "      <td>...</td>\n",
       "      <td>3</td>\n",
       "      <td>3</td>\n",
       "      <td>1</td>\n",
       "      <td>1</td>\n",
       "      <td>3</td>\n",
       "      <td>2</td>\n",
       "      <td>9</td>\n",
       "      <td>11</td>\n",
       "      <td>11</td>\n",
       "      <td>Low</td>\n",
       "    </tr>\n",
       "    <tr>\n",
       "      <th>2</th>\n",
       "      <td>GP</td>\n",
       "      <td>F</td>\n",
       "      <td>15</td>\n",
       "      <td>U</td>\n",
       "      <td>LE3</td>\n",
       "      <td>T</td>\n",
       "      <td>1</td>\n",
       "      <td>1</td>\n",
       "      <td>at_home</td>\n",
       "      <td>other</td>\n",
       "      <td>...</td>\n",
       "      <td>3</td>\n",
       "      <td>2</td>\n",
       "      <td>2</td>\n",
       "      <td>3</td>\n",
       "      <td>3</td>\n",
       "      <td>6</td>\n",
       "      <td>12</td>\n",
       "      <td>13</td>\n",
       "      <td>12</td>\n",
       "      <td>High</td>\n",
       "    </tr>\n",
       "    <tr>\n",
       "      <th>3</th>\n",
       "      <td>GP</td>\n",
       "      <td>F</td>\n",
       "      <td>15</td>\n",
       "      <td>U</td>\n",
       "      <td>GT3</td>\n",
       "      <td>T</td>\n",
       "      <td>4</td>\n",
       "      <td>2</td>\n",
       "      <td>health</td>\n",
       "      <td>services</td>\n",
       "      <td>...</td>\n",
       "      <td>2</td>\n",
       "      <td>2</td>\n",
       "      <td>1</td>\n",
       "      <td>1</td>\n",
       "      <td>5</td>\n",
       "      <td>0</td>\n",
       "      <td>14</td>\n",
       "      <td>14</td>\n",
       "      <td>14</td>\n",
       "      <td>Low</td>\n",
       "    </tr>\n",
       "    <tr>\n",
       "      <th>4</th>\n",
       "      <td>GP</td>\n",
       "      <td>F</td>\n",
       "      <td>16</td>\n",
       "      <td>U</td>\n",
       "      <td>GT3</td>\n",
       "      <td>T</td>\n",
       "      <td>3</td>\n",
       "      <td>3</td>\n",
       "      <td>other</td>\n",
       "      <td>other</td>\n",
       "      <td>...</td>\n",
       "      <td>3</td>\n",
       "      <td>2</td>\n",
       "      <td>1</td>\n",
       "      <td>2</td>\n",
       "      <td>5</td>\n",
       "      <td>0</td>\n",
       "      <td>11</td>\n",
       "      <td>13</td>\n",
       "      <td>13</td>\n",
       "      <td>Low</td>\n",
       "    </tr>\n",
       "  </tbody>\n",
       "</table>\n",
       "<p>5 rows × 34 columns</p>\n",
       "</div>"
      ],
      "text/plain": [
       "  school sex  age address famsize Pstatus  Medu  Fedu     Mjob      Fjob  ...  \\\n",
       "0     GP   F   18       U     GT3       A     4     4  at_home   teacher  ...   \n",
       "1     GP   F   17       U     GT3       T     1     1  at_home     other  ...   \n",
       "2     GP   F   15       U     LE3       T     1     1  at_home     other  ...   \n",
       "3     GP   F   15       U     GT3       T     4     2   health  services  ...   \n",
       "4     GP   F   16       U     GT3       T     3     3    other     other  ...   \n",
       "\n",
       "  freetime goout  Dalc  Walc  health absences  G1  G2  G3   alc  \n",
       "0        3     4     1     1       3        4   0  11  11   Low  \n",
       "1        3     3     1     1       3        2   9  11  11   Low  \n",
       "2        3     2     2     3       3        6  12  13  12  High  \n",
       "3        2     2     1     1       5        0  14  14  14   Low  \n",
       "4        3     2     1     2       5        0  11  13  13   Low  \n",
       "\n",
       "[5 rows x 34 columns]"
      ]
     },
     "execution_count": 10,
     "metadata": {},
     "output_type": "execute_result"
    }
   ],
   "source": [
    "# Import data\n",
    "data = pd.read_csv('student_alc.csv')\n",
    "\n",
    "# Show first five rows\n",
    "data.head()"
   ]
  },
  {
   "cell_type": "markdown",
   "metadata": {},
   "source": [
    "Our goal is to use the features of the students to predict the level of alcohol consumption, `Low` or `High`. We will use the following features:\n",
    "\n",
    "- `sex`: student's sex (binary: `'F'` as female or `'M'` as male)\n",
    "- `famsize`: family size (binary: `'LE3'` as less or equal to 3 or `'GT3'` as greater than 3)\n",
    "- `age`: student's age (numeric: from `15` to `22`)\n",
    "- `studytime`: weekly study time (numeric: 1 <2 hours, `2` 2-5 hours, `3` 5-10 hours, or `4` >10 hours)\n",
    "- `famrel`: quality of family relationships (numeric: from `1` very bad to `5` excellent)\n",
    "- `goout`: going out with friends (numeric: from `1` very low to `5` very high)\n",
    "- `freetime`: free time after school (numeric: from `1` very low to `5` very high)\n",
    "- `G3`: final grade (numeric: from `0` to `20`)\n",
    "\n",
    "Let’s store these variable names in `features` and `target`:\n",
    "\n"
   ]
  },
  {
   "cell_type": "code",
   "execution_count": 11,
   "metadata": {},
   "outputs": [],
   "source": [
    "# Store features and target variables as list\n",
    "features = ['sex', 'famsize', 'age', 'studytime', 'famrel', 'goout', 'freetime', 'G3']\n",
    "target = 'alc'"
   ]
  },
  {
   "cell_type": "markdown",
   "metadata": {},
   "source": [
    "The `scikit-learn` library only understands numbers. This makes it important to convert variables that are not numeric in nature into numeric values. This is known as **one-hot encoding**.\n",
    "\n",
    "To one-hot encode our categorical variable, `sex`, we will map females to `0` and the males to `1`. For variable `famsize`, we will map `LE3` to `0`, and `GT3` to `1`. Finally for variable `alc`, we will map `Low` to `0` and `High` to `1`."
   ]
  },
  {
   "cell_type": "code",
   "execution_count": 12,
   "metadata": {},
   "outputs": [],
   "source": [
    "# One-hot encode categorical variables\n",
    "data['sex'] = data['sex'].map({'F': 0, 'M': 1})\n",
    "data['famsize'] = data['famsize'].map({'LE3': 0, 'GT3': 1})\n",
    "data['alc'] = data['alc'].map({'Low': 0, 'High': 1})"
   ]
  },
  {
   "cell_type": "markdown",
   "metadata": {},
   "source": [
    "We then save the values of the features and target variables into objects `X` and `y` respectively:"
   ]
  },
  {
   "cell_type": "code",
   "execution_count": 13,
   "metadata": {},
   "outputs": [],
   "source": [
    "# Save feature and target values into X and y\n",
    "X = data[features].values\n",
    "y = data[target].values"
   ]
  },
  {
   "cell_type": "markdown",
   "metadata": {},
   "source": [
    "Before we begin to build our model, let’s get a benchmark that we can use to compare how accurate the models we build are.\n",
    "\n"
   ]
  },
  {
   "cell_type": "code",
   "execution_count": 14,
   "metadata": {},
   "outputs": [
    {
     "data": {
      "text/plain": [
       "0    0.744222\n",
       "1    0.255778\n",
       "Name: alc, dtype: float64"
      ]
     },
     "execution_count": 14,
     "metadata": {},
     "output_type": "execute_result"
    }
   ],
   "source": [
    "# Calculate a benchmark\n",
    "data['alc'].value_counts(normalize=True)"
   ]
  },
  {
   "cell_type": "markdown",
   "metadata": {},
   "source": [
    "This shows that about 74% of students reported a low level of alcohol consumption. Thus, a simple model that predicts `Low` for every single case will still correctly classify 74% of them...let’s try to build a model that can predict better than that!\n",
    "\n",
    "We first will import the model `LogisticRegression`, create an instance of this object, and then train the model with our data, just as we did in the previous step:"
   ]
  },
  {
   "cell_type": "code",
   "execution_count": 15,
   "metadata": {},
   "outputs": [
    {
     "data": {
      "text/plain": [
       "LogisticRegression(C=2, class_weight=None, dual=False, fit_intercept=True,\n",
       "          intercept_scaling=1, max_iter=100, multi_class='warn',\n",
       "          n_jobs=None, penalty='l2', random_state=None, solver='liblinear',\n",
       "          tol=0.0001, verbose=0, warm_start=False)"
      ]
     },
     "execution_count": 15,
     "metadata": {},
     "output_type": "execute_result"
    }
   ],
   "source": [
    "# Import necessary model\n",
    "from sklearn.linear_model import LogisticRegression\n",
    "np.random.seed(0)   # setting random seed for reproducibility\n",
    "\n",
    "# Create instance of Logistic Regression object\n",
    "student_classifier_logreg = LogisticRegression(C=2, solver='liblinear')\n",
    "\n",
    "# Train logistic regression model\n",
    "student_classifier_logreg.fit(X, y)"
   ]
  },
  {
   "cell_type": "markdown",
   "metadata": {},
   "source": [
    "Again, we will not discuss the hyperparameters of this model – to learn more, you can read the documentation here.\n",
    "\n",
    "We can now use this model to make predictions using `predict()` as before."
   ]
  },
  {
   "cell_type": "code",
   "execution_count": 16,
   "metadata": {},
   "outputs": [
    {
     "data": {
      "text/html": [
       "<div>\n",
       "<style scoped>\n",
       "    .dataframe tbody tr th:only-of-type {\n",
       "        vertical-align: middle;\n",
       "    }\n",
       "\n",
       "    .dataframe tbody tr th {\n",
       "        vertical-align: top;\n",
       "    }\n",
       "\n",
       "    .dataframe thead th {\n",
       "        text-align: right;\n",
       "    }\n",
       "</style>\n",
       "<table border=\"1\" class=\"dataframe\">\n",
       "  <thead>\n",
       "    <tr style=\"text-align: right;\">\n",
       "      <th>alc</th>\n",
       "      <th>0</th>\n",
       "      <th>1</th>\n",
       "    </tr>\n",
       "    <tr>\n",
       "      <th>predictions_logreg</th>\n",
       "      <th></th>\n",
       "      <th></th>\n",
       "    </tr>\n",
       "  </thead>\n",
       "  <tbody>\n",
       "    <tr>\n",
       "      <th>0</th>\n",
       "      <td>453</td>\n",
       "      <td>105</td>\n",
       "    </tr>\n",
       "    <tr>\n",
       "      <th>1</th>\n",
       "      <td>30</td>\n",
       "      <td>61</td>\n",
       "    </tr>\n",
       "  </tbody>\n",
       "</table>\n",
       "</div>"
      ],
      "text/plain": [
       "alc                   0    1\n",
       "predictions_logreg          \n",
       "0                   453  105\n",
       "1                    30   61"
      ]
     },
     "execution_count": 16,
     "metadata": {},
     "output_type": "execute_result"
    }
   ],
   "source": [
    "# Store predictions in new column in DataFrame\n",
    "data['predictions_logreg'] = student_classifier_logreg.predict(X)\n",
    "\n",
    "# Create confusion matrix\n",
    "conf_matrix = pd.crosstab(data['predictions_logreg'], data['alc'])\n",
    "conf_matrix"
   ]
  },
  {
   "cell_type": "markdown",
   "metadata": {},
   "source": [
    "In the above snippet, we stored our model’s predictions in a new column in our `DataFrame` called `predictions_logreg`. We then tabulated these predictions with the actual observations and to build a confusion matrix. We can use this confusion matrix to evaluate the predictions of this model thoroughly.\n",
    "\n",
    "The diagonal of the matrix depicts the number of cases where the classifier made a correct prediction – i.e. when alcohol consumption level was `low` (`0`), our model correctly predicted 0 in 453 cases but incorrectly predicted 1 in 30 cases. Similarly when alcohol consumption level was `high` (`1`), our model correctly predicted 1 in 61 cases but incorrectly predicted 0 in 105 cases.\n",
    "\n",
    "We can use these numbers to calculate the accuracy of our model. This is simply the fraction of correct predictions that were produced by the model (453 + 61 out of the total 649 cases):"
   ]
  },
  {
   "cell_type": "code",
   "execution_count": 17,
   "metadata": {},
   "outputs": [
    {
     "name": "stdout",
     "output_type": "stream",
     "text": [
      "The model's accuracy was 79.1988%\n"
     ]
    }
   ],
   "source": [
    "# Calculate accuracy from confusion matrix\n",
    "accuracy = (conf_matrix.iloc[0, 0] + conf_matrix.iloc[1, 1]) / data.shape[0]\n",
    "\n",
    "print(f\"The model's accuracy was {(accuracy * 100):.4f}%\")"
   ]
  },
  {
   "cell_type": "markdown",
   "metadata": {},
   "source": [
    "Compare this value with the accuracy of our simple model that predicts `0` for all cases (i.e. our benchmark).\n",
    "\n",
    "Unfortunately, our model is not much better than the benchmark…79% is not much higher than 74%. The reason for this could be that the logistic regression model is itself a rather simple model. Let’s try something a little more complex – a random forest classifier!"
   ]
  },
  {
   "cell_type": "markdown",
   "metadata": {},
   "source": [
    "## IV. Random forests"
   ]
  },
  {
   "cell_type": "markdown",
   "metadata": {},
   "source": [
    "To try and improve our predictions of student alcohol consumption levels, we will train a more complex **Random Forest model**.\n",
    "\n",
    "The idea of a Random Forest is to combine many decision trees. In a classification problem, each individual decision tree in the Random Forest decides (“votes”) which class to classify an input as, and the forest chooses the classification with the most “votes”.\n",
    "\n",
    "We use `RandomForestClassifier` in `scikit-learn` to create a Random Forest classifier. See if you can create this model on your own – it is the same process as what we did to create a kNN model and a logistic regression model."
   ]
  },
  {
   "cell_type": "code",
   "execution_count": 18,
   "metadata": {},
   "outputs": [],
   "source": [
    "# Import RandomForestClassifier object\n",
    "from sklearn.ensemble import RandomForestClassifier\n",
    "np.random.seed(0)   # setting random seed for reproducibility"
   ]
  },
  {
   "cell_type": "code",
   "execution_count": 19,
   "metadata": {},
   "outputs": [
    {
     "data": {
      "text/plain": [
       "RandomForestClassifier(bootstrap=True, class_weight=None, criterion='gini',\n",
       "            max_depth=None, max_features='auto', max_leaf_nodes=None,\n",
       "            min_impurity_decrease=0.0, min_impurity_split=None,\n",
       "            min_samples_leaf=1, min_samples_split=2,\n",
       "            min_weight_fraction_leaf=0.0, n_estimators=10, n_jobs=None,\n",
       "            oob_score=False, random_state=None, verbose=0,\n",
       "            warm_start=False)"
      ]
     },
     "execution_count": 19,
     "metadata": {},
     "output_type": "execute_result"
    }
   ],
   "source": [
    "# TASK --- Create instance of object and train random forest model\n",
    "student_classifier_rf = RandomForestClassifier()\n",
    "\n",
    "student_classifier_rf.fit(X, y)"
   ]
  },
  {
   "cell_type": "markdown",
   "metadata": {},
   "source": [
    "Now, let’s calculate predictions from our model and build a new confusion matrix:"
   ]
  },
  {
   "cell_type": "code",
   "execution_count": 20,
   "metadata": {},
   "outputs": [
    {
     "data": {
      "text/html": [
       "<div>\n",
       "<style scoped>\n",
       "    .dataframe tbody tr th:only-of-type {\n",
       "        vertical-align: middle;\n",
       "    }\n",
       "\n",
       "    .dataframe tbody tr th {\n",
       "        vertical-align: top;\n",
       "    }\n",
       "\n",
       "    .dataframe thead th {\n",
       "        text-align: right;\n",
       "    }\n",
       "</style>\n",
       "<table border=\"1\" class=\"dataframe\">\n",
       "  <thead>\n",
       "    <tr style=\"text-align: right;\">\n",
       "      <th>alc</th>\n",
       "      <th>0</th>\n",
       "      <th>1</th>\n",
       "    </tr>\n",
       "    <tr>\n",
       "      <th>predictions_rf</th>\n",
       "      <th></th>\n",
       "      <th></th>\n",
       "    </tr>\n",
       "  </thead>\n",
       "  <tbody>\n",
       "    <tr>\n",
       "      <th>0</th>\n",
       "      <td>481</td>\n",
       "      <td>16</td>\n",
       "    </tr>\n",
       "    <tr>\n",
       "      <th>1</th>\n",
       "      <td>2</td>\n",
       "      <td>150</td>\n",
       "    </tr>\n",
       "  </tbody>\n",
       "</table>\n",
       "</div>"
      ],
      "text/plain": [
       "alc               0    1\n",
       "predictions_rf          \n",
       "0               481   16\n",
       "1                 2  150"
      ]
     },
     "execution_count": 20,
     "metadata": {},
     "output_type": "execute_result"
    }
   ],
   "source": [
    "# Store predictions in new column in DataFrame\n",
    "data['predictions_rf'] = student_classifier_rf.predict(X)\n",
    "\n",
    "# Create confusion matrix\n",
    "conf_matrix = pd.crosstab(data['predictions_rf'], data['alc'])\n",
    "conf_matrix"
   ]
  },
  {
   "cell_type": "code",
   "execution_count": 21,
   "metadata": {},
   "outputs": [
    {
     "name": "stdout",
     "output_type": "stream",
     "text": [
      "The model's accuracy was 97.2265%\n"
     ]
    }
   ],
   "source": [
    "# TASK --- Calculate accuracy\n",
    "rf_accuracy = (conf_matrix.iloc[0, 0] + conf_matrix.iloc[1, 1]) / data.shape[0]\n",
    "\n",
    "print(f\"The model's accuracy was {(rf_accuracy * 100):.4f}%\")"
   ]
  },
  {
   "cell_type": "markdown",
   "metadata": {},
   "source": [
    "We achieve an extremely high accuracy! Be wary though, complex models such as Random Forest are often prone to **overfitting**. Overfitting is when a model learns the relationship between features and targets in the training data extremely well, but this doesn’t generalize to unseen data.\n",
    "\n",
    "The problem of overfitting can be handled by tuning parameters, which beyond the scope of this course.\n",
    "\n",
    "Let’s now use our Random Forest model to make predictions about unseen data. Assume we have a new student with various features. The student is a male with a large family and is 18 years of age. He studies for 2 hours per week, his family relations are not very good, he goes out a lot, has very high amounts of free time, and his final grade was 10.\n",
    "\n",
    "To find out the level of alcohol he consumes, we can simply create a two-dimensional array containing these values and pass it into `predict()`. Let's create a function that decodes our prediction (remember that predict returns an integer 0 or 1):\n",
    "\n",
    "\n"
   ]
  },
  {
   "cell_type": "code",
   "execution_count": 22,
   "metadata": {},
   "outputs": [
    {
     "data": {
      "text/plain": [
       "'High'"
      ]
     },
     "execution_count": 22,
     "metadata": {},
     "output_type": "execute_result"
    }
   ],
   "source": [
    "# Features: [gender, famsize, age, studytime, famrel, goout, freetime, G3]\n",
    "new_student1 = np.array([[1, 1, 18, 2, 1, 5, 5, 10]])\n",
    "\n",
    "# Make prediction\n",
    "new_student1_pred = student_classifier_rf.predict(new_student1)\n",
    "\n",
    "# Decode prediction\n",
    "def decode(prediction):\n",
    "    \"\"\"\n",
    "    Return 'High' if prediction is '1'\n",
    "    Return 'Low' if prediction is '0'.\n",
    "    \"\"\"\n",
    "    if prediction == 1:\n",
    "        return('High')\n",
    "    else:\n",
    "        return('Low')\n",
    "\n",
    "decode(new_student1_pred)"
   ]
  },
  {
   "cell_type": "markdown",
   "metadata": {},
   "source": [
    "By calling this function, we can see that the model predicts that the student belongs to the `High` alcohol consumption group.\n",
    "\n",
    "Two more students have joined the school. Their features have been stored in `NumPy` arrays `new_student2` and `new_student3`."
   ]
  },
  {
   "cell_type": "code",
   "execution_count": 23,
   "metadata": {},
   "outputs": [],
   "source": [
    "# New students!\n",
    "new_student2 = np.array([[0, 1, 19, 5, 5, 1, 1, 18]])\n",
    "new_student3 = np.array([[1, 0, 17, 2, 0, 3, 1, 8]])"
   ]
  },
  {
   "cell_type": "markdown",
   "metadata": {},
   "source": [
    "See if you can predict what their levels of alcohol consumption are!\n",
    "\n"
   ]
  },
  {
   "cell_type": "code",
   "execution_count": 24,
   "metadata": {},
   "outputs": [
    {
     "data": {
      "text/plain": [
       "'Low'"
      ]
     },
     "execution_count": 24,
     "metadata": {},
     "output_type": "execute_result"
    }
   ],
   "source": [
    "# TASK --- Predictions alcohol consumption level for new_student2\n",
    "new_student2_pred = student_classifier_rf.predict(new_student2)\n",
    "\n",
    "decode(new_student2_pred)\n"
   ]
  },
  {
   "cell_type": "code",
   "execution_count": 25,
   "metadata": {},
   "outputs": [
    {
     "data": {
      "text/plain": [
       "'High'"
      ]
     },
     "execution_count": 25,
     "metadata": {},
     "output_type": "execute_result"
    }
   ],
   "source": [
    "# TASK --- Predictions alcohol consumption level for new_student3\n",
    "new_student3_pred = student_classifier_rf.predict(new_student3)\n",
    "\n",
    "decode(new_student3_pred)"
   ]
  },
  {
   "cell_type": "markdown",
   "metadata": {},
   "source": [
    "## V. Linear regresion"
   ]
  },
  {
   "cell_type": "markdown",
   "metadata": {},
   "source": [
    "So far we have only built classifcation models. The final model we will discuss in this lesson is a regression model called **linear regression model**. We will be using the Ames housing dataset that we explored in the “Exploratory Data Analysis with `seaborn`” lesson.\n",
    "\n",
    "Linear regression is used for finding a linear relationship between `features` and `targets`. Based on our exploratory analysis in the previous lesson we will use the features `CentralAir`, `LotArea`, `OverallQual`, `OverallCond`, `1stFlrSF`, `2ndFlrSF`, `BedroomAbvGr`, `Age`, and `Neighborhood` to try to predict the price of the house `SalePrice`.\n",
    "\n",
    "Let’s import our data and create the `'Age'` variable as we did previously:"
   ]
  },
  {
   "cell_type": "code",
   "execution_count": 26,
   "metadata": {},
   "outputs": [
    {
     "data": {
      "text/html": [
       "<div>\n",
       "<style scoped>\n",
       "    .dataframe tbody tr th:only-of-type {\n",
       "        vertical-align: middle;\n",
       "    }\n",
       "\n",
       "    .dataframe tbody tr th {\n",
       "        vertical-align: top;\n",
       "    }\n",
       "\n",
       "    .dataframe thead th {\n",
       "        text-align: right;\n",
       "    }\n",
       "</style>\n",
       "<table border=\"1\" class=\"dataframe\">\n",
       "  <thead>\n",
       "    <tr style=\"text-align: right;\">\n",
       "      <th></th>\n",
       "      <th>Id</th>\n",
       "      <th>MSSubClass</th>\n",
       "      <th>MSZoning</th>\n",
       "      <th>LotFrontage</th>\n",
       "      <th>LotArea</th>\n",
       "      <th>Street</th>\n",
       "      <th>Alley</th>\n",
       "      <th>LotShape</th>\n",
       "      <th>LandContour</th>\n",
       "      <th>Utilities</th>\n",
       "      <th>...</th>\n",
       "      <th>PoolQC</th>\n",
       "      <th>Fence</th>\n",
       "      <th>MiscFeature</th>\n",
       "      <th>MiscVal</th>\n",
       "      <th>MoSold</th>\n",
       "      <th>YrSold</th>\n",
       "      <th>SaleType</th>\n",
       "      <th>SaleCondition</th>\n",
       "      <th>SalePrice</th>\n",
       "      <th>Age</th>\n",
       "    </tr>\n",
       "  </thead>\n",
       "  <tbody>\n",
       "    <tr>\n",
       "      <th>0</th>\n",
       "      <td>1</td>\n",
       "      <td>60</td>\n",
       "      <td>RL</td>\n",
       "      <td>65.0</td>\n",
       "      <td>8450</td>\n",
       "      <td>Pave</td>\n",
       "      <td>NaN</td>\n",
       "      <td>Reg</td>\n",
       "      <td>Lvl</td>\n",
       "      <td>AllPub</td>\n",
       "      <td>...</td>\n",
       "      <td>NaN</td>\n",
       "      <td>NaN</td>\n",
       "      <td>NaN</td>\n",
       "      <td>0</td>\n",
       "      <td>2</td>\n",
       "      <td>2008</td>\n",
       "      <td>WD</td>\n",
       "      <td>Normal</td>\n",
       "      <td>208500</td>\n",
       "      <td>5</td>\n",
       "    </tr>\n",
       "    <tr>\n",
       "      <th>1</th>\n",
       "      <td>2</td>\n",
       "      <td>20</td>\n",
       "      <td>RL</td>\n",
       "      <td>80.0</td>\n",
       "      <td>9600</td>\n",
       "      <td>Pave</td>\n",
       "      <td>NaN</td>\n",
       "      <td>Reg</td>\n",
       "      <td>Lvl</td>\n",
       "      <td>AllPub</td>\n",
       "      <td>...</td>\n",
       "      <td>NaN</td>\n",
       "      <td>NaN</td>\n",
       "      <td>NaN</td>\n",
       "      <td>0</td>\n",
       "      <td>5</td>\n",
       "      <td>2007</td>\n",
       "      <td>WD</td>\n",
       "      <td>Normal</td>\n",
       "      <td>181500</td>\n",
       "      <td>31</td>\n",
       "    </tr>\n",
       "    <tr>\n",
       "      <th>2</th>\n",
       "      <td>3</td>\n",
       "      <td>60</td>\n",
       "      <td>RL</td>\n",
       "      <td>68.0</td>\n",
       "      <td>11250</td>\n",
       "      <td>Pave</td>\n",
       "      <td>NaN</td>\n",
       "      <td>IR1</td>\n",
       "      <td>Lvl</td>\n",
       "      <td>AllPub</td>\n",
       "      <td>...</td>\n",
       "      <td>NaN</td>\n",
       "      <td>NaN</td>\n",
       "      <td>NaN</td>\n",
       "      <td>0</td>\n",
       "      <td>9</td>\n",
       "      <td>2008</td>\n",
       "      <td>WD</td>\n",
       "      <td>Normal</td>\n",
       "      <td>223500</td>\n",
       "      <td>7</td>\n",
       "    </tr>\n",
       "    <tr>\n",
       "      <th>3</th>\n",
       "      <td>4</td>\n",
       "      <td>70</td>\n",
       "      <td>RL</td>\n",
       "      <td>60.0</td>\n",
       "      <td>9550</td>\n",
       "      <td>Pave</td>\n",
       "      <td>NaN</td>\n",
       "      <td>IR1</td>\n",
       "      <td>Lvl</td>\n",
       "      <td>AllPub</td>\n",
       "      <td>...</td>\n",
       "      <td>NaN</td>\n",
       "      <td>NaN</td>\n",
       "      <td>NaN</td>\n",
       "      <td>0</td>\n",
       "      <td>2</td>\n",
       "      <td>2006</td>\n",
       "      <td>WD</td>\n",
       "      <td>Abnorml</td>\n",
       "      <td>140000</td>\n",
       "      <td>91</td>\n",
       "    </tr>\n",
       "    <tr>\n",
       "      <th>4</th>\n",
       "      <td>5</td>\n",
       "      <td>60</td>\n",
       "      <td>RL</td>\n",
       "      <td>84.0</td>\n",
       "      <td>14260</td>\n",
       "      <td>Pave</td>\n",
       "      <td>NaN</td>\n",
       "      <td>IR1</td>\n",
       "      <td>Lvl</td>\n",
       "      <td>AllPub</td>\n",
       "      <td>...</td>\n",
       "      <td>NaN</td>\n",
       "      <td>NaN</td>\n",
       "      <td>NaN</td>\n",
       "      <td>0</td>\n",
       "      <td>12</td>\n",
       "      <td>2008</td>\n",
       "      <td>WD</td>\n",
       "      <td>Normal</td>\n",
       "      <td>250000</td>\n",
       "      <td>8</td>\n",
       "    </tr>\n",
       "  </tbody>\n",
       "</table>\n",
       "<p>5 rows × 82 columns</p>\n",
       "</div>"
      ],
      "text/plain": [
       "   Id  MSSubClass MSZoning  LotFrontage  LotArea Street Alley LotShape  \\\n",
       "0   1          60       RL         65.0     8450   Pave   NaN      Reg   \n",
       "1   2          20       RL         80.0     9600   Pave   NaN      Reg   \n",
       "2   3          60       RL         68.0    11250   Pave   NaN      IR1   \n",
       "3   4          70       RL         60.0     9550   Pave   NaN      IR1   \n",
       "4   5          60       RL         84.0    14260   Pave   NaN      IR1   \n",
       "\n",
       "  LandContour Utilities  ... PoolQC Fence MiscFeature MiscVal MoSold YrSold  \\\n",
       "0         Lvl    AllPub  ...    NaN   NaN         NaN       0      2   2008   \n",
       "1         Lvl    AllPub  ...    NaN   NaN         NaN       0      5   2007   \n",
       "2         Lvl    AllPub  ...    NaN   NaN         NaN       0      9   2008   \n",
       "3         Lvl    AllPub  ...    NaN   NaN         NaN       0      2   2006   \n",
       "4         Lvl    AllPub  ...    NaN   NaN         NaN       0     12   2008   \n",
       "\n",
       "  SaleType  SaleCondition  SalePrice  Age  \n",
       "0       WD         Normal     208500    5  \n",
       "1       WD         Normal     181500   31  \n",
       "2       WD         Normal     223500    7  \n",
       "3       WD        Abnorml     140000   91  \n",
       "4       WD         Normal     250000    8  \n",
       "\n",
       "[5 rows x 82 columns]"
      ]
     },
     "execution_count": 26,
     "metadata": {},
     "output_type": "execute_result"
    }
   ],
   "source": [
    "# Import data\n",
    "housing = pd.read_csv('house.csv')\n",
    "\n",
    "# Create 'Age' variable as in 'EDA with `seaborn`' lesson\n",
    "housing['Age'] = housing['YrSold'] - housing['YearBuilt']\n",
    "\n",
    "# Show first five rows\n",
    "housing.head()"
   ]
  },
  {
   "cell_type": "markdown",
   "metadata": {},
   "source": [
    "As observed during EDA, there are a number of neighborhoods in this dataset that contain very few observations. This could have a negative impact on the accuracy of our model, so let’s remove these observations:"
   ]
  },
  {
   "cell_type": "code",
   "execution_count": 27,
   "metadata": {},
   "outputs": [
    {
     "data": {
      "text/plain": [
       "(1310, 82)"
      ]
     },
     "execution_count": 27,
     "metadata": {},
     "output_type": "execute_result"
    }
   ],
   "source": [
    "# Remove neighborhoods with less than 30 observations\n",
    "counts = housing['Neighborhood'].value_counts()\n",
    "housing = housing.loc[housing['Neighborhood'].isin(counts[counts > 30].index)]\n",
    "\n",
    "housing.shape"
   ]
  },
  {
   "cell_type": "markdown",
   "metadata": {},
   "source": [
    "This snippet stores the counts for each neighborhood in `counts`, then filters the `housing` dataset for those neighborhoods with over 30 observations. We now have 1310 observations, down from 1460.\n",
    "\n",
    "Now let’s store our feature variables and target variables in `features` and `target`:"
   ]
  },
  {
   "cell_type": "code",
   "execution_count": 28,
   "metadata": {},
   "outputs": [],
   "source": [
    "# Store feature and target variables\n",
    "features = ['CentralAir', 'LotArea', 'OverallQual', 'OverallCond', '1stFlrSF', '2ndFlrSF', 'BedroomAbvGr', 'Age']\n",
    "target = 'SalePrice'"
   ]
  },
  {
   "cell_type": "markdown",
   "metadata": {},
   "source": [
    "The two features `Neighborhood` and `CentralAir` are not numeric in nature, thus, they need to be transformed into numerical variables. Let’s start with `CentralAir`"
   ]
  },
  {
   "cell_type": "code",
   "execution_count": 29,
   "metadata": {},
   "outputs": [],
   "source": [
    "# One-hot encode CentralAir\n",
    "housing['CentralAir'] = housing['CentralAir'].map({'N':0, 'Y':1})"
   ]
  },
  {
   "cell_type": "markdown",
   "metadata": {},
   "source": [
    "This maps `N` to `0` and `Y` to `1` using the same method we used for the previous dataset. This is a simple method for when there are only two categories and you can manually map them to `0` and `1`. However, there are 16 different neighborhoods represented in our dataset… we don’t want to map them from 0 to 15, because this will put more weight on the `Neighborhood` variable for houses in the 16th neighborhood!\n",
    "\n",
    "Instead, we will use the `pandas` method `get_dummies`. This creates a new variable, called a dummy variable, for each category – i.e. passing the `Neighborhood` variable into `get_dummies` will create 16 new variables named after each neighborhood. If an observation belongs to a particular neighborhood, say `CollgCr`, the value for `CollgCr` is `1` and `0` for every other neighborhood-variable."
   ]
  },
  {
   "cell_type": "code",
   "execution_count": 30,
   "metadata": {},
   "outputs": [
    {
     "data": {
      "text/html": [
       "<div>\n",
       "<style scoped>\n",
       "    .dataframe tbody tr th:only-of-type {\n",
       "        vertical-align: middle;\n",
       "    }\n",
       "\n",
       "    .dataframe tbody tr th {\n",
       "        vertical-align: top;\n",
       "    }\n",
       "\n",
       "    .dataframe thead th {\n",
       "        text-align: right;\n",
       "    }\n",
       "</style>\n",
       "<table border=\"1\" class=\"dataframe\">\n",
       "  <thead>\n",
       "    <tr style=\"text-align: right;\">\n",
       "      <th></th>\n",
       "      <th>BrkSide</th>\n",
       "      <th>CollgCr</th>\n",
       "      <th>Crawfor</th>\n",
       "      <th>Edwards</th>\n",
       "      <th>Gilbert</th>\n",
       "      <th>IDOTRR</th>\n",
       "      <th>Mitchel</th>\n",
       "      <th>NAmes</th>\n",
       "      <th>NWAmes</th>\n",
       "      <th>NoRidge</th>\n",
       "      <th>NridgHt</th>\n",
       "      <th>OldTown</th>\n",
       "      <th>Sawyer</th>\n",
       "      <th>SawyerW</th>\n",
       "      <th>Somerst</th>\n",
       "      <th>Timber</th>\n",
       "    </tr>\n",
       "  </thead>\n",
       "  <tbody>\n",
       "    <tr>\n",
       "      <th>0</th>\n",
       "      <td>0</td>\n",
       "      <td>1</td>\n",
       "      <td>0</td>\n",
       "      <td>0</td>\n",
       "      <td>0</td>\n",
       "      <td>0</td>\n",
       "      <td>0</td>\n",
       "      <td>0</td>\n",
       "      <td>0</td>\n",
       "      <td>0</td>\n",
       "      <td>0</td>\n",
       "      <td>0</td>\n",
       "      <td>0</td>\n",
       "      <td>0</td>\n",
       "      <td>0</td>\n",
       "      <td>0</td>\n",
       "    </tr>\n",
       "    <tr>\n",
       "      <th>2</th>\n",
       "      <td>0</td>\n",
       "      <td>1</td>\n",
       "      <td>0</td>\n",
       "      <td>0</td>\n",
       "      <td>0</td>\n",
       "      <td>0</td>\n",
       "      <td>0</td>\n",
       "      <td>0</td>\n",
       "      <td>0</td>\n",
       "      <td>0</td>\n",
       "      <td>0</td>\n",
       "      <td>0</td>\n",
       "      <td>0</td>\n",
       "      <td>0</td>\n",
       "      <td>0</td>\n",
       "      <td>0</td>\n",
       "    </tr>\n",
       "    <tr>\n",
       "      <th>3</th>\n",
       "      <td>0</td>\n",
       "      <td>0</td>\n",
       "      <td>1</td>\n",
       "      <td>0</td>\n",
       "      <td>0</td>\n",
       "      <td>0</td>\n",
       "      <td>0</td>\n",
       "      <td>0</td>\n",
       "      <td>0</td>\n",
       "      <td>0</td>\n",
       "      <td>0</td>\n",
       "      <td>0</td>\n",
       "      <td>0</td>\n",
       "      <td>0</td>\n",
       "      <td>0</td>\n",
       "      <td>0</td>\n",
       "    </tr>\n",
       "    <tr>\n",
       "      <th>4</th>\n",
       "      <td>0</td>\n",
       "      <td>0</td>\n",
       "      <td>0</td>\n",
       "      <td>0</td>\n",
       "      <td>0</td>\n",
       "      <td>0</td>\n",
       "      <td>0</td>\n",
       "      <td>0</td>\n",
       "      <td>0</td>\n",
       "      <td>1</td>\n",
       "      <td>0</td>\n",
       "      <td>0</td>\n",
       "      <td>0</td>\n",
       "      <td>0</td>\n",
       "      <td>0</td>\n",
       "      <td>0</td>\n",
       "    </tr>\n",
       "    <tr>\n",
       "      <th>5</th>\n",
       "      <td>0</td>\n",
       "      <td>0</td>\n",
       "      <td>0</td>\n",
       "      <td>0</td>\n",
       "      <td>0</td>\n",
       "      <td>0</td>\n",
       "      <td>1</td>\n",
       "      <td>0</td>\n",
       "      <td>0</td>\n",
       "      <td>0</td>\n",
       "      <td>0</td>\n",
       "      <td>0</td>\n",
       "      <td>0</td>\n",
       "      <td>0</td>\n",
       "      <td>0</td>\n",
       "      <td>0</td>\n",
       "    </tr>\n",
       "  </tbody>\n",
       "</table>\n",
       "</div>"
      ],
      "text/plain": [
       "   BrkSide  CollgCr  Crawfor  Edwards  Gilbert  IDOTRR  Mitchel  NAmes  \\\n",
       "0        0        1        0        0        0       0        0      0   \n",
       "2        0        1        0        0        0       0        0      0   \n",
       "3        0        0        1        0        0       0        0      0   \n",
       "4        0        0        0        0        0       0        0      0   \n",
       "5        0        0        0        0        0       0        1      0   \n",
       "\n",
       "   NWAmes  NoRidge  NridgHt  OldTown  Sawyer  SawyerW  Somerst  Timber  \n",
       "0       0        0        0        0       0        0        0       0  \n",
       "2       0        0        0        0       0        0        0       0  \n",
       "3       0        0        0        0       0        0        0       0  \n",
       "4       0        1        0        0       0        0        0       0  \n",
       "5       0        0        0        0       0        0        0       0  "
      ]
     },
     "execution_count": 30,
     "metadata": {},
     "output_type": "execute_result"
    }
   ],
   "source": [
    "# One-hot encode Neighborhood\n",
    "dummies_nb = pd.get_dummies(housing['Neighborhood'])\n",
    "dummies_nb.head()"
   ]
  },
  {
   "cell_type": "markdown",
   "metadata": {},
   "source": [
    "Let’s compare the output of this to our original data."
   ]
  },
  {
   "cell_type": "code",
   "execution_count": 31,
   "metadata": {},
   "outputs": [
    {
     "data": {
      "text/plain": [
       "0    CollgCr\n",
       "2    CollgCr\n",
       "3    Crawfor\n",
       "4    NoRidge\n",
       "5    Mitchel\n",
       "Name: Neighborhood, dtype: object"
      ]
     },
     "execution_count": 31,
     "metadata": {},
     "output_type": "execute_result"
    }
   ],
   "source": [
    "# Compare dummy variables to original neighborhood data\n",
    "housing['Neighborhood'].head()"
   ]
  },
  {
   "cell_type": "markdown",
   "metadata": {},
   "source": [
    "The first five houses in our dataset belong to the neighborhoods `CollgCr`, `CollgCr`, `Crawfor`, `NoRidge`, and `Mitchel` respectively. The first five rows of our dummy dataset `dummies_nb` shows that the first house has a 1 in the `CollgCr` column, as does the second house. The third house has a 1 in `Crawfor`, and so on.\n",
    "\n",
    "Great! We’ve now transformed our `Neighborhood` variable into a numerical variable. Let’s join this back to our original dataset, and add these dummy variables to our list of features:"
   ]
  },
  {
   "cell_type": "code",
   "execution_count": 32,
   "metadata": {},
   "outputs": [
    {
     "data": {
      "text/html": [
       "<div>\n",
       "<style scoped>\n",
       "    .dataframe tbody tr th:only-of-type {\n",
       "        vertical-align: middle;\n",
       "    }\n",
       "\n",
       "    .dataframe tbody tr th {\n",
       "        vertical-align: top;\n",
       "    }\n",
       "\n",
       "    .dataframe thead th {\n",
       "        text-align: right;\n",
       "    }\n",
       "</style>\n",
       "<table border=\"1\" class=\"dataframe\">\n",
       "  <thead>\n",
       "    <tr style=\"text-align: right;\">\n",
       "      <th></th>\n",
       "      <th>Id</th>\n",
       "      <th>MSSubClass</th>\n",
       "      <th>MSZoning</th>\n",
       "      <th>LotFrontage</th>\n",
       "      <th>LotArea</th>\n",
       "      <th>Street</th>\n",
       "      <th>Alley</th>\n",
       "      <th>LotShape</th>\n",
       "      <th>LandContour</th>\n",
       "      <th>Utilities</th>\n",
       "      <th>...</th>\n",
       "      <th>Mitchel</th>\n",
       "      <th>NAmes</th>\n",
       "      <th>NWAmes</th>\n",
       "      <th>NoRidge</th>\n",
       "      <th>NridgHt</th>\n",
       "      <th>OldTown</th>\n",
       "      <th>Sawyer</th>\n",
       "      <th>SawyerW</th>\n",
       "      <th>Somerst</th>\n",
       "      <th>Timber</th>\n",
       "    </tr>\n",
       "  </thead>\n",
       "  <tbody>\n",
       "    <tr>\n",
       "      <th>0</th>\n",
       "      <td>1</td>\n",
       "      <td>60</td>\n",
       "      <td>RL</td>\n",
       "      <td>65.0</td>\n",
       "      <td>8450</td>\n",
       "      <td>Pave</td>\n",
       "      <td>NaN</td>\n",
       "      <td>Reg</td>\n",
       "      <td>Lvl</td>\n",
       "      <td>AllPub</td>\n",
       "      <td>...</td>\n",
       "      <td>0</td>\n",
       "      <td>0</td>\n",
       "      <td>0</td>\n",
       "      <td>0</td>\n",
       "      <td>0</td>\n",
       "      <td>0</td>\n",
       "      <td>0</td>\n",
       "      <td>0</td>\n",
       "      <td>0</td>\n",
       "      <td>0</td>\n",
       "    </tr>\n",
       "    <tr>\n",
       "      <th>2</th>\n",
       "      <td>3</td>\n",
       "      <td>60</td>\n",
       "      <td>RL</td>\n",
       "      <td>68.0</td>\n",
       "      <td>11250</td>\n",
       "      <td>Pave</td>\n",
       "      <td>NaN</td>\n",
       "      <td>IR1</td>\n",
       "      <td>Lvl</td>\n",
       "      <td>AllPub</td>\n",
       "      <td>...</td>\n",
       "      <td>0</td>\n",
       "      <td>0</td>\n",
       "      <td>0</td>\n",
       "      <td>0</td>\n",
       "      <td>0</td>\n",
       "      <td>0</td>\n",
       "      <td>0</td>\n",
       "      <td>0</td>\n",
       "      <td>0</td>\n",
       "      <td>0</td>\n",
       "    </tr>\n",
       "    <tr>\n",
       "      <th>3</th>\n",
       "      <td>4</td>\n",
       "      <td>70</td>\n",
       "      <td>RL</td>\n",
       "      <td>60.0</td>\n",
       "      <td>9550</td>\n",
       "      <td>Pave</td>\n",
       "      <td>NaN</td>\n",
       "      <td>IR1</td>\n",
       "      <td>Lvl</td>\n",
       "      <td>AllPub</td>\n",
       "      <td>...</td>\n",
       "      <td>0</td>\n",
       "      <td>0</td>\n",
       "      <td>0</td>\n",
       "      <td>0</td>\n",
       "      <td>0</td>\n",
       "      <td>0</td>\n",
       "      <td>0</td>\n",
       "      <td>0</td>\n",
       "      <td>0</td>\n",
       "      <td>0</td>\n",
       "    </tr>\n",
       "    <tr>\n",
       "      <th>4</th>\n",
       "      <td>5</td>\n",
       "      <td>60</td>\n",
       "      <td>RL</td>\n",
       "      <td>84.0</td>\n",
       "      <td>14260</td>\n",
       "      <td>Pave</td>\n",
       "      <td>NaN</td>\n",
       "      <td>IR1</td>\n",
       "      <td>Lvl</td>\n",
       "      <td>AllPub</td>\n",
       "      <td>...</td>\n",
       "      <td>0</td>\n",
       "      <td>0</td>\n",
       "      <td>0</td>\n",
       "      <td>1</td>\n",
       "      <td>0</td>\n",
       "      <td>0</td>\n",
       "      <td>0</td>\n",
       "      <td>0</td>\n",
       "      <td>0</td>\n",
       "      <td>0</td>\n",
       "    </tr>\n",
       "    <tr>\n",
       "      <th>5</th>\n",
       "      <td>6</td>\n",
       "      <td>50</td>\n",
       "      <td>RL</td>\n",
       "      <td>85.0</td>\n",
       "      <td>14115</td>\n",
       "      <td>Pave</td>\n",
       "      <td>NaN</td>\n",
       "      <td>IR1</td>\n",
       "      <td>Lvl</td>\n",
       "      <td>AllPub</td>\n",
       "      <td>...</td>\n",
       "      <td>1</td>\n",
       "      <td>0</td>\n",
       "      <td>0</td>\n",
       "      <td>0</td>\n",
       "      <td>0</td>\n",
       "      <td>0</td>\n",
       "      <td>0</td>\n",
       "      <td>0</td>\n",
       "      <td>0</td>\n",
       "      <td>0</td>\n",
       "    </tr>\n",
       "  </tbody>\n",
       "</table>\n",
       "<p>5 rows × 98 columns</p>\n",
       "</div>"
      ],
      "text/plain": [
       "   Id  MSSubClass MSZoning  LotFrontage  LotArea Street Alley LotShape  \\\n",
       "0   1          60       RL         65.0     8450   Pave   NaN      Reg   \n",
       "2   3          60       RL         68.0    11250   Pave   NaN      IR1   \n",
       "3   4          70       RL         60.0     9550   Pave   NaN      IR1   \n",
       "4   5          60       RL         84.0    14260   Pave   NaN      IR1   \n",
       "5   6          50       RL         85.0    14115   Pave   NaN      IR1   \n",
       "\n",
       "  LandContour Utilities  ... Mitchel NAmes NWAmes NoRidge NridgHt OldTown  \\\n",
       "0         Lvl    AllPub  ...       0     0      0       0       0       0   \n",
       "2         Lvl    AllPub  ...       0     0      0       0       0       0   \n",
       "3         Lvl    AllPub  ...       0     0      0       0       0       0   \n",
       "4         Lvl    AllPub  ...       0     0      0       1       0       0   \n",
       "5         Lvl    AllPub  ...       1     0      0       0       0       0   \n",
       "\n",
       "  Sawyer  SawyerW  Somerst  Timber  \n",
       "0      0        0        0       0  \n",
       "2      0        0        0       0  \n",
       "3      0        0        0       0  \n",
       "4      0        0        0       0  \n",
       "5      0        0        0       0  \n",
       "\n",
       "[5 rows x 98 columns]"
      ]
     },
     "execution_count": 32,
     "metadata": {},
     "output_type": "execute_result"
    }
   ],
   "source": [
    "# Join dummy variables to original dataset\n",
    "housing = pd.concat([housing, dummies_nb], axis=1)\n",
    "housing.head()"
   ]
  },
  {
   "cell_type": "code",
   "execution_count": 33,
   "metadata": {},
   "outputs": [
    {
     "data": {
      "text/plain": [
       "['CentralAir',\n",
       " 'LotArea',\n",
       " 'OverallQual',\n",
       " 'OverallCond',\n",
       " '1stFlrSF',\n",
       " '2ndFlrSF',\n",
       " 'BedroomAbvGr',\n",
       " 'Age',\n",
       " 'BrkSide',\n",
       " 'CollgCr',\n",
       " 'Crawfor',\n",
       " 'Edwards',\n",
       " 'Gilbert',\n",
       " 'IDOTRR',\n",
       " 'Mitchel',\n",
       " 'NAmes',\n",
       " 'NWAmes',\n",
       " 'NoRidge',\n",
       " 'NridgHt',\n",
       " 'OldTown',\n",
       " 'Sawyer',\n",
       " 'SawyerW',\n",
       " 'Somerst',\n",
       " 'Timber']"
      ]
     },
     "execution_count": 33,
     "metadata": {},
     "output_type": "execute_result"
    }
   ],
   "source": [
    "# Add dummy variables to feature list\n",
    "features += list(dummies_nb.columns)\n",
    "features"
   ]
  },
  {
   "cell_type": "markdown",
   "metadata": {},
   "source": [
    "Now let’s create objects that contain our `features`, `target`, and the number of observations:"
   ]
  },
  {
   "cell_type": "code",
   "execution_count": 34,
   "metadata": {},
   "outputs": [],
   "source": [
    "# Store features, target, and number of observations\n",
    "X = housing[features].values\n",
    "y = housing[target].values\n",
    "n = housing.shape[0]"
   ]
  },
  {
   "cell_type": "markdown",
   "metadata": {},
   "source": [
    "As we did in the previous steps, we need to calculate a benchmark to compare our model. For a regression model, the simplest possible model just predicts the average:"
   ]
  },
  {
   "cell_type": "code",
   "execution_count": 35,
   "metadata": {},
   "outputs": [
    {
     "data": {
      "text/plain": [
       "180167.63358778626"
      ]
     },
     "execution_count": 35,
     "metadata": {},
     "output_type": "execute_result"
    }
   ],
   "source": [
    "# Calculate mean sale price for benchmark\n",
    "y_mean = np.mean(y)\n",
    "y_mean"
   ]
  },
  {
   "cell_type": "markdown",
   "metadata": {},
   "source": [
    "The average for our target variable is $180,167. For the model evaluation, we will use the evaluation metric called the **root-mean-square error (RMSE)**, which is given by"
   ]
  },
  {
   "cell_type": "markdown",
   "metadata": {},
   "source": [
    "$$RMSE = \\sqrt{\\frac{\\Sigma(obs - pred)^{2}}{n}}$$"
   ]
  },
  {
   "cell_type": "markdown",
   "metadata": {},
   "source": [
    "It compares the observed values with the predicted values. The closer the observed and the predicted values are, the smaller the metric. We want the smallest metric possible.\n",
    "\n",
    "Let’s calculate the `RMSE` for our benchmark model:"
   ]
  },
  {
   "cell_type": "code",
   "execution_count": 44,
   "metadata": {},
   "outputs": [
    {
     "data": {
      "text/plain": [
       "78032.94485454109"
      ]
     },
     "execution_count": 44,
     "metadata": {},
     "output_type": "execute_result"
    }
   ],
   "source": [
    "# Calculate benchmark RMSE\n",
    "RMSE_benchmark = np.sqrt(np.sum((y - y_mean)**2) / n)\n",
    "RMSE_benchmark"
   ]
  },
  {
   "cell_type": "markdown",
   "metadata": {},
   "source": [
    "We get an `RMSE` of $78,033. Let’s see if we can build a regession model that performs better than this!\n",
    "\n",
    "The way to build a linear regression model in `scikit-learn` is exactly the same as our previous models. We import the object, create an instance of it, then train the model and make predictions."
   ]
  },
  {
   "cell_type": "code",
   "execution_count": 45,
   "metadata": {},
   "outputs": [],
   "source": [
    "# Build linear regression model\n",
    "from sklearn.linear_model import LinearRegression\n",
    "np.random.seed(0)   # setting random seed for reproducibility\n",
    "\n",
    "lr = LinearRegression()\n",
    "lr.fit(X, y)\n",
    "\n",
    "# Make predictions\n",
    "housing['predictions'] = lr.predict(X)\n",
    "y_pred = housing['predictions'].values"
   ]
  },
  {
   "cell_type": "markdown",
   "metadata": {},
   "source": [
    "Now let’s calculate the RMSE of the model"
   ]
  },
  {
   "cell_type": "code",
   "execution_count": 46,
   "metadata": {},
   "outputs": [
    {
     "data": {
      "text/plain": [
       "33729.21817336611"
      ]
     },
     "execution_count": 46,
     "metadata": {},
     "output_type": "execute_result"
    }
   ],
   "source": [
    "# Calculate RMSE for linear regression model\n",
    "RMSE_lr = np.sqrt(np.sum((y - y_pred)**2) / n)\n",
    "RMSE_lr"
   ]
  },
  {
   "cell_type": "markdown",
   "metadata": {},
   "source": [
    "This is significantly lower in comparison to our benchmark model!\n",
    "\n",
    "To get a better understanding of our model’s predictions, let’s visualize and compare the `y_pred` to the real `SalePrice` of the houses. We can create a scatter plot to do this:"
   ]
  },
  {
   "cell_type": "code",
   "execution_count": 47,
   "metadata": {},
   "outputs": [
    {
     "data": {
      "image/png": "[encoded data removed]",
      "text/plain": [
       "<Figure size 576x576 with 1 Axes>"
      ]
     },
     "metadata": {},
     "output_type": "display_data"
    }
   ],
   "source": [
    "# Create scatter to compare predictions to actual sale prices\n",
    "## Set style\n",
    "sns.set(style='white', palette='deep', rc={'figure.figsize':[8, 8]})\n",
    "\n",
    "## Plot scatterplot for predictions and actual prices\n",
    "fig, ax = plt.subplots()\n",
    "ax.scatter(x=housing['SalePrice'], y=housing['predictions'], edgecolor='white')\n",
    "ax.set_title('Predicted House Price vs Actual House Price')\n",
    "ax.set_xlabel('Actuals')\n",
    "ax.set_ylabel('Predictions')\n",
    "\n",
    "## Plot gray dotted diagonal line (where markers should lie if predictions = actual)\n",
    "lims = [\n",
    "    np.min([ax.get_xlim(), ax.get_ylim()]),   # find min limits of figure\n",
    "    np.max([ax.get_xlim(), ax.get_ylim()])    # find max limits of figure\n",
    "]\n",
    "ax.plot(lims, lims, color='0.5', linestyle='--')\n",
    "\n",
    "## Remove top and right spines\n",
    "sns.despine()\n",
    "plt.show()"
   ]
  },
  {
   "cell_type": "markdown",
   "metadata": {
    "eid": "1cb0c84e"
   },
   "source": [
    "The scatter plot clearly depicts that the majority of our predictions are very close to the actual `SalePrices` of the houses. However as actual housing prices increase, we become less accurate in our predictions – we can see that we are underpredicting since our predictions are under the gray line.\n",
    "\n",
    "We can now use our model to predict the prices of houses that the model has not seen. The method is exactly the same as in previous models. See if you can predict the prices of the following houses:"
   ]
  },
  {
   "cell_type": "code",
   "execution_count": 48,
   "metadata": {},
   "outputs": [
    {
     "data": {
      "text/plain": [
       "184394.7221987794"
      ]
     },
     "execution_count": 48,
     "metadata": {},
     "output_type": "execute_result"
    }
   ],
   "source": [
    "# TASK --- Predict price of new_house1\n",
    "## Remember, features are ['CentralAir', 'LotArea', 'OverallQual', 'OverallCond',\n",
    "## '1stFlrSF', '2ndFlrSF', 'BedroomAbvGr', 'Age', 'Neighborhood']\n",
    "\n",
    "house1 = [[0, 12000, 6, 6, 1200, 500, 3, 5, 0, 0, 0, 1, 0, 0, 0, 0, 0, 0, 0, 0, 0, 0, 0, 0]]\n",
    "prediction_house1=lr.predict(house1)\n",
    "\n",
    "prediction_house1[0]"
   ]
  },
  {
   "cell_type": "code",
   "execution_count": 49,
   "metadata": {},
   "outputs": [
    {
     "data": {
      "text/plain": [
       "239696.4269338695"
      ]
     },
     "execution_count": 49,
     "metadata": {},
     "output_type": "execute_result"
    }
   ],
   "source": [
    "# TASK --- Predict price of new_house2\n",
    "\n",
    "house2 = [[1, 10000, 7, 7, 1500, 0, 3, 2, 0, 0, 0, 0, 0, 0, 0, 0, 0, 0, 0, 0, 0, 0, 0, 1]]\n",
    "prediction_house2=lr.predict(house2)\n",
    "\n",
    "prediction_house2[0]"
   ]
  }
 ],
 "metadata": {
  "kernelspec": {
   "display_name": "Python 3",
   "language": "python",
   "name": "python3"
  },
  "language_info": {
   "codemirror_mode": {
    "name": "ipython",
    "version": 3
   },
   "file_extension": ".py",
   "mimetype": "text/x-python",
   "name": "python",
   "nbconvert_exporter": "python",
   "pygments_lexer": "ipython3",
   "version": "3.7.2"
  }
 },
 "nbformat": 4,
 "nbformat_minor": 2
}
